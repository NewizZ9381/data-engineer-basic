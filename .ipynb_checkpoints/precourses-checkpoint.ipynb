{
 "cells": [
  {
   "cell_type": "code",
   "execution_count": 2,
   "metadata": {
    "colab": {
     "base_uri": "https://localhost:8080/",
     "height": 35
    },
    "colab_type": "code",
    "id": "GluP3Mj2w7US",
    "outputId": "b07203cf-b178-49bd-ac40-30d65e804e6b"
   },
   "outputs": [
    {
     "name": "stdout",
     "output_type": "stream",
     "text": [
      "hello world\n"
     ]
    }
   ],
   "source": [
    "print(\"hello world\")"
   ]
  },
  {
   "cell_type": "markdown",
   "metadata": {
    "colab_type": "text",
    "id": "k8dnSvbvIb_y"
   },
   "source": [
    "# Hello World"
   ]
  },
  {
   "cell_type": "code",
   "execution_count": 3,
   "metadata": {
    "colab": {
     "base_uri": "https://localhost:8080/",
     "height": 87
    },
    "colab_type": "code",
    "id": "RSBmkHaK_Ttq",
    "outputId": "6fc87687-f3be-4ed4-84eb-316c2d899885"
   },
   "outputs": [
    {
     "name": "stdout",
     "output_type": "stream",
     "text": [
      "helloworld\n",
      "hello world\n",
      "hello world\n"
     ]
    },
    {
     "data": {
      "text/plain": [
       "'Colab is easy'"
      ]
     },
     "execution_count": 3,
     "metadata": {},
     "output_type": "execute_result"
    }
   ],
   "source": [
    "print(\"hello\"+\"world\")\n",
    "print(\"hello\" + \" \" + \"world\")\n",
    "print(\"hello\", \"world\")\n",
    "\"Colab is easy\""
   ]
  },
  {
   "cell_type": "markdown",
   "metadata": {
    "colab_type": "text",
    "id": "GFXXoNlpz16a"
   },
   "source": [
    "# Python Variables\n"
   ]
  },
  {
   "cell_type": "code",
   "execution_count": 4,
   "metadata": {
    "colab": {
     "base_uri": "https://localhost:8080/",
     "height": 35
    },
    "colab_type": "code",
    "id": "tMD8rjsHWON5",
    "outputId": "06167776-78f4-477f-d6ca-8c9c3de773a1"
   },
   "outputs": [
    {
     "data": {
      "text/plain": [
       "1"
      ]
     },
     "execution_count": 4,
     "metadata": {},
     "output_type": "execute_result"
    }
   ],
   "source": [
    "# Int\n",
    "a = 1\n",
    "a"
   ]
  },
  {
   "cell_type": "code",
   "execution_count": 5,
   "metadata": {
    "colab": {},
    "colab_type": "code",
    "id": "4bovsaOLw5Gr"
   },
   "outputs": [],
   "source": [
    "# This is comment"
   ]
  },
  {
   "cell_type": "code",
   "execution_count": 6,
   "metadata": {
    "colab": {
     "base_uri": "https://localhost:8080/",
     "height": 35
    },
    "colab_type": "code",
    "id": "91G6iFPEWnc5",
    "outputId": "f570aacc-656a-4388-918d-a0a627b21564"
   },
   "outputs": [
    {
     "data": {
      "text/plain": [
       "1.0"
      ]
     },
     "execution_count": 6,
     "metadata": {},
     "output_type": "execute_result"
    }
   ],
   "source": [
    "# Float\n",
    "float(a)"
   ]
  },
  {
   "cell_type": "code",
   "execution_count": 7,
   "metadata": {
    "colab": {
     "base_uri": "https://localhost:8080/",
     "height": 35
    },
    "colab_type": "code",
    "id": "reCYBrjSW-WZ",
    "outputId": "9a83e029-92a2-4d48-8f82-4dbd40a33568"
   },
   "outputs": [
    {
     "data": {
      "text/plain": [
       "'1'"
      ]
     },
     "execution_count": 7,
     "metadata": {},
     "output_type": "execute_result"
    }
   ],
   "source": [
    "# String\n",
    "str(a)"
   ]
  },
  {
   "cell_type": "code",
   "execution_count": 8,
   "metadata": {
    "colab": {
     "base_uri": "https://localhost:8080/",
     "height": 35
    },
    "colab_type": "code",
    "id": "TopGFHnV_oqA",
    "outputId": "3d42633e-3609-48a6-80b4-77b8c4c936e1"
   },
   "outputs": [
    {
     "data": {
      "text/plain": [
       "'11'"
      ]
     },
     "execution_count": 8,
     "metadata": {},
     "output_type": "execute_result"
    }
   ],
   "source": [
    "str(a) + \"1\""
   ]
  },
  {
   "cell_type": "code",
   "execution_count": 9,
   "metadata": {
    "colab": {
     "base_uri": "https://localhost:8080/",
     "height": 35
    },
    "colab_type": "code",
    "id": "w8Zv3DPAZUt3",
    "outputId": "be567350-6215-4455-938f-8bc8d1d370d5"
   },
   "outputs": [
    {
     "data": {
      "text/plain": [
       "True"
      ]
     },
     "execution_count": 9,
     "metadata": {},
     "output_type": "execute_result"
    }
   ],
   "source": [
    "bool(a)"
   ]
  },
  {
   "cell_type": "code",
   "execution_count": 10,
   "metadata": {
    "colab": {
     "base_uri": "https://localhost:8080/",
     "height": 35
    },
    "colab_type": "code",
    "id": "Zn5_2PblJ7DJ",
    "outputId": "8778db99-2b91-4265-fa41-086b29a38b2e"
   },
   "outputs": [
    {
     "data": {
      "text/plain": [
       "False"
      ]
     },
     "execution_count": 10,
     "metadata": {},
     "output_type": "execute_result"
    }
   ],
   "source": [
    "bool(None)"
   ]
  },
  {
   "cell_type": "code",
   "execution_count": 11,
   "metadata": {
    "colab": {
     "base_uri": "https://localhost:8080/",
     "height": 35
    },
    "colab_type": "code",
    "id": "gUCKSUJmZeNS",
    "outputId": "72736d9b-9d07-4d70-a9b2-ddf6ff42fc78"
   },
   "outputs": [
    {
     "data": {
      "text/plain": [
       "int"
      ]
     },
     "execution_count": 11,
     "metadata": {},
     "output_type": "execute_result"
    }
   ],
   "source": [
    "type(a)"
   ]
  },
  {
   "cell_type": "code",
   "execution_count": 12,
   "metadata": {
    "colab": {
     "base_uri": "https://localhost:8080/",
     "height": 35
    },
    "colab_type": "code",
    "id": "myq5TcAWe7ZP",
    "outputId": "5428effb-046d-4649-b84a-33dc52cc75f9"
   },
   "outputs": [
    {
     "data": {
      "text/plain": [
       "'Python!'"
      ]
     },
     "execution_count": 12,
     "metadata": {},
     "output_type": "execute_result"
    }
   ],
   "source": [
    "b = \"Python!\"\n",
    "b"
   ]
  },
  {
   "cell_type": "markdown",
   "metadata": {
    "colab_type": "text",
    "id": "_jGLwZ_5a5GA"
   },
   "source": [
    "# Python Structures"
   ]
  },
  {
   "cell_type": "markdown",
   "metadata": {
    "colab_type": "text",
    "id": "4SeTYcMBqLjD"
   },
   "source": [
    "## List"
   ]
  },
  {
   "cell_type": "code",
   "execution_count": 13,
   "metadata": {
    "colab": {
     "base_uri": "https://localhost:8080/",
     "height": 35
    },
    "colab_type": "code",
    "id": "4YcpeyeUbGca",
    "outputId": "33ec718f-1246-4569-93a8-b550ca9f1c99"
   },
   "outputs": [
    {
     "data": {
      "text/plain": [
       "['Python!', 1, 0, 1]"
      ]
     },
     "execution_count": 13,
     "metadata": {},
     "output_type": "execute_result"
    }
   ],
   "source": [
    "l = [b, a, a - 1, a]\n",
    "l"
   ]
  },
  {
   "cell_type": "code",
   "execution_count": 14,
   "metadata": {
    "colab": {
     "base_uri": "https://localhost:8080/",
     "height": 35
    },
    "colab_type": "code",
    "id": "h5tpLduMfpIY",
    "outputId": "9c5e3ac2-8f0c-4a08-dba8-30c856284cd6"
   },
   "outputs": [
    {
     "data": {
      "text/plain": [
       "4"
      ]
     },
     "execution_count": 14,
     "metadata": {},
     "output_type": "execute_result"
    }
   ],
   "source": [
    "len(l)"
   ]
  },
  {
   "cell_type": "code",
   "execution_count": 15,
   "metadata": {
    "colab": {
     "base_uri": "https://localhost:8080/",
     "height": 35
    },
    "colab_type": "code",
    "id": "P_7Esctef3G5",
    "outputId": "e33df44a-b842-4e12-9226-8dbfe4bdebcb"
   },
   "outputs": [
    {
     "data": {
      "text/plain": [
       "['Python!', 1, 0, 0]"
      ]
     },
     "execution_count": 15,
     "metadata": {},
     "output_type": "execute_result"
    }
   ],
   "source": [
    "l[3] = 0\n",
    "l"
   ]
  },
  {
   "cell_type": "code",
   "execution_count": 16,
   "metadata": {
    "colab": {
     "base_uri": "https://localhost:8080/",
     "height": 167
    },
    "colab_type": "code",
    "id": "VyVzFzgLCmGr",
    "outputId": "13707499-c974-48ab-fd47-c386a61e34d6"
   },
   "outputs": [
    {
     "ename": "IndexError",
     "evalue": "list assignment index out of range",
     "output_type": "error",
     "traceback": [
      "\u001b[1;31m---------------------------------------------------------------------------\u001b[0m",
      "\u001b[1;31mIndexError\u001b[0m                                Traceback (most recent call last)",
      "\u001b[1;32m<ipython-input-16-bf0f23f4e4c3>\u001b[0m in \u001b[0;36m<module>\u001b[1;34m\u001b[0m\n\u001b[0;32m      1\u001b[0m \u001b[1;31m# NameError\u001b[0m\u001b[1;33m\u001b[0m\u001b[1;33m\u001b[0m\u001b[1;33m\u001b[0m\u001b[0m\n\u001b[1;32m----> 2\u001b[1;33m \u001b[0ml\u001b[0m\u001b[1;33m[\u001b[0m\u001b[1;36m4\u001b[0m\u001b[1;33m]\u001b[0m \u001b[1;33m=\u001b[0m \u001b[1;34m\":)\"\u001b[0m\u001b[1;33m\u001b[0m\u001b[1;33m\u001b[0m\u001b[0m\n\u001b[0m",
      "\u001b[1;31mIndexError\u001b[0m: list assignment index out of range"
     ]
    }
   ],
   "source": [
    "# NameError\n",
    "l[4] = \":)\""
   ]
  },
  {
   "cell_type": "code",
   "execution_count": 17,
   "metadata": {
    "colab": {
     "base_uri": "https://localhost:8080/",
     "height": 35
    },
    "colab_type": "code",
    "id": "jreK8tLJCvj5",
    "outputId": "39b19322-6afb-42f5-a706-346def6110ae"
   },
   "outputs": [
    {
     "data": {
      "text/plain": [
       "['Python!', 1, 0, 0]"
      ]
     },
     "execution_count": 17,
     "metadata": {},
     "output_type": "execute_result"
    }
   ],
   "source": [
    "l"
   ]
  },
  {
   "cell_type": "code",
   "execution_count": 18,
   "metadata": {
    "colab": {
     "base_uri": "https://localhost:8080/",
     "height": 35
    },
    "colab_type": "code",
    "id": "omSAISZ5CweV",
    "outputId": "4118ee8a-c3de-4ef4-df5d-813076bb072e"
   },
   "outputs": [
    {
     "data": {
      "text/plain": [
       "['Python!', 1, 0, 0, ':)']"
      ]
     },
     "execution_count": 18,
     "metadata": {},
     "output_type": "execute_result"
    }
   ],
   "source": [
    "l.append(\":)\")\n",
    "l"
   ]
  },
  {
   "cell_type": "code",
   "execution_count": 19,
   "metadata": {
    "colab": {
     "base_uri": "https://localhost:8080/",
     "height": 35
    },
    "colab_type": "code",
    "id": "SzfHN-iiC6Ag",
    "outputId": "7dccf1c3-ea53-4e50-a477-ccf7468c94d1"
   },
   "outputs": [
    {
     "data": {
      "text/plain": [
       "5"
      ]
     },
     "execution_count": 19,
     "metadata": {},
     "output_type": "execute_result"
    }
   ],
   "source": [
    "len(l)"
   ]
  },
  {
   "cell_type": "code",
   "execution_count": 20,
   "metadata": {
    "colab": {
     "base_uri": "https://localhost:8080/",
     "height": 35
    },
    "colab_type": "code",
    "id": "MIQd0KpXC8DE",
    "outputId": "1de56572-869d-441e-84eb-f7b06d517c82"
   },
   "outputs": [
    {
     "data": {
      "text/plain": [
       "['Python!', 1, 0, 0]"
      ]
     },
     "execution_count": 20,
     "metadata": {},
     "output_type": "execute_result"
    }
   ],
   "source": [
    "l.pop()\n",
    "l"
   ]
  },
  {
   "cell_type": "markdown",
   "metadata": {
    "colab_type": "text",
    "id": "DtYagBS_qQFy"
   },
   "source": [
    "## Tuple"
   ]
  },
  {
   "cell_type": "code",
   "execution_count": 21,
   "metadata": {
    "colab": {},
    "colab_type": "code",
    "id": "ueDnLunycWaY"
   },
   "outputs": [],
   "source": [
    "t = (0, 1, 2, 3, 4)"
   ]
  },
  {
   "cell_type": "code",
   "execution_count": 22,
   "metadata": {
    "colab": {
     "base_uri": "https://localhost:8080/",
     "height": 35
    },
    "colab_type": "code",
    "id": "au0wM8XCgn_B",
    "outputId": "e53e9ef0-9c73-48a8-b072-f154b1db5c25"
   },
   "outputs": [
    {
     "data": {
      "text/plain": [
       "5"
      ]
     },
     "execution_count": 22,
     "metadata": {},
     "output_type": "execute_result"
    }
   ],
   "source": [
    "len(t)"
   ]
  },
  {
   "cell_type": "code",
   "execution_count": 23,
   "metadata": {
    "colab": {
     "base_uri": "https://localhost:8080/",
     "height": 35
    },
    "colab_type": "code",
    "id": "_rkBkHYUguGs",
    "outputId": "3e48cbf4-2d4e-41bb-edc0-7516cd94d5be"
   },
   "outputs": [
    {
     "data": {
      "text/plain": [
       "(0, 1, 2)"
      ]
     },
     "execution_count": 23,
     "metadata": {},
     "output_type": "execute_result"
    }
   ],
   "source": [
    "t[0:3]"
   ]
  },
  {
   "cell_type": "code",
   "execution_count": 24,
   "metadata": {
    "colab": {
     "base_uri": "https://localhost:8080/",
     "height": 35
    },
    "colab_type": "code",
    "id": "n3myc9P4hCBD",
    "outputId": "c2e92dd6-559a-4abd-c0c2-ac980419da47"
   },
   "outputs": [
    {
     "data": {
      "text/plain": [
       "4"
      ]
     },
     "execution_count": 24,
     "metadata": {},
     "output_type": "execute_result"
    }
   ],
   "source": [
    "t[-1]"
   ]
  },
  {
   "cell_type": "code",
   "execution_count": 25,
   "metadata": {
    "colab": {
     "base_uri": "https://localhost:8080/",
     "height": 35
    },
    "colab_type": "code",
    "id": "S0LgakJNhKZE",
    "outputId": "005fe457-56eb-4b86-a8fa-4e027b54728a"
   },
   "outputs": [
    {
     "data": {
      "text/plain": [
       "(2, 3, 4)"
      ]
     },
     "execution_count": 25,
     "metadata": {},
     "output_type": "execute_result"
    }
   ],
   "source": [
    "t[-3:]"
   ]
  },
  {
   "cell_type": "code",
   "execution_count": 26,
   "metadata": {
    "colab": {
     "base_uri": "https://localhost:8080/",
     "height": 167
    },
    "colab_type": "code",
    "id": "vj_zrSjyhZBo",
    "outputId": "e5dde317-c935-4484-ce8e-269225938713"
   },
   "outputs": [
    {
     "ename": "TypeError",
     "evalue": "'tuple' object does not support item assignment",
     "output_type": "error",
     "traceback": [
      "\u001b[1;31m---------------------------------------------------------------------------\u001b[0m",
      "\u001b[1;31mTypeError\u001b[0m                                 Traceback (most recent call last)",
      "\u001b[1;32m<ipython-input-26-14fd85fa5839>\u001b[0m in \u001b[0;36m<module>\u001b[1;34m\u001b[0m\n\u001b[0;32m      1\u001b[0m \u001b[1;31m# TypeError: Cannot edit tuple.\u001b[0m\u001b[1;33m\u001b[0m\u001b[1;33m\u001b[0m\u001b[1;33m\u001b[0m\u001b[0m\n\u001b[1;32m----> 2\u001b[1;33m \u001b[0mt\u001b[0m\u001b[1;33m[\u001b[0m\u001b[1;36m4\u001b[0m\u001b[1;33m]\u001b[0m \u001b[1;33m=\u001b[0m \u001b[1;36m5\u001b[0m\u001b[1;33m\u001b[0m\u001b[1;33m\u001b[0m\u001b[0m\n\u001b[0m",
      "\u001b[1;31mTypeError\u001b[0m: 'tuple' object does not support item assignment"
     ]
    }
   ],
   "source": [
    "# TypeError: Cannot edit tuple.\n",
    "t[4] = 5"
   ]
  },
  {
   "cell_type": "markdown",
   "metadata": {
    "colab_type": "text",
    "id": "5ReonijCBhrj"
   },
   "source": [
    "## Dictionary"
   ]
  },
  {
   "cell_type": "code",
   "execution_count": 27,
   "metadata": {
    "colab": {
     "base_uri": "https://localhost:8080/",
     "height": 35
    },
    "colab_type": "code",
    "id": "QvXx0QchiTts",
    "outputId": "e4f868ed-d1dd-4e64-e8b0-42d0d324ab5e"
   },
   "outputs": [
    {
     "data": {
      "text/plain": [
       "{'A': 80, 'B': 70, 'C': 60, 'D': 50}"
      ]
     },
     "execution_count": 27,
     "metadata": {},
     "output_type": "execute_result"
    }
   ],
   "source": [
    "grade = {\n",
    "    \"A\" : 80,\n",
    "    \"B\" : 70,\n",
    "    \"C\" : 60,\n",
    "    \"D\" : 50\n",
    "}\n",
    "grade"
   ]
  },
  {
   "cell_type": "code",
   "execution_count": 28,
   "metadata": {
    "colab": {
     "base_uri": "https://localhost:8080/",
     "height": 35
    },
    "colab_type": "code",
    "id": "kK1D_Izjq8Kj",
    "outputId": "2fca3292-4226-4bc6-890b-ddb5a271696c"
   },
   "outputs": [
    {
     "data": {
      "text/plain": [
       "80"
      ]
     },
     "execution_count": 28,
     "metadata": {},
     "output_type": "execute_result"
    }
   ],
   "source": [
    "grade[\"A\"]"
   ]
  },
  {
   "cell_type": "code",
   "execution_count": 29,
   "metadata": {
    "colab": {
     "base_uri": "https://localhost:8080/",
     "height": 35
    },
    "colab_type": "code",
    "id": "4hSmxQg8rAOa",
    "outputId": "3e62df51-378e-4f79-b1bd-316cf2b49ae1"
   },
   "outputs": [
    {
     "data": {
      "text/plain": [
       "{'A': 80, 'B': 70, 'C': 60, 'D': 50, 'B+': 75}"
      ]
     },
     "execution_count": 29,
     "metadata": {},
     "output_type": "execute_result"
    }
   ],
   "source": [
    "grade[\"B+\"] = 75\n",
    "grade"
   ]
  },
  {
   "cell_type": "code",
   "execution_count": 30,
   "metadata": {
    "colab": {},
    "colab_type": "code",
    "id": "TAXxt9Z2hgwz"
   },
   "outputs": [],
   "source": [
    "d = {}\n",
    "d[\"s001\"] = \"Perth\"\n",
    "d[\"s002\"] = \"Fon\""
   ]
  },
  {
   "cell_type": "code",
   "execution_count": 31,
   "metadata": {
    "colab": {
     "base_uri": "https://localhost:8080/",
     "height": 35
    },
    "colab_type": "code",
    "id": "pJdFriSPBuDy",
    "outputId": "62937367-95f2-48cc-80a5-2159782660e6"
   },
   "outputs": [
    {
     "data": {
      "text/plain": [
       "'Perth'"
      ]
     },
     "execution_count": 31,
     "metadata": {},
     "output_type": "execute_result"
    }
   ],
   "source": [
    "d[\"s001\"]"
   ]
  },
  {
   "cell_type": "code",
   "execution_count": 32,
   "metadata": {},
   "outputs": [
    {
     "data": {
      "text/plain": [
       "{'s001': 'Perth', 's002': 'Fon'}"
      ]
     },
     "execution_count": 32,
     "metadata": {},
     "output_type": "execute_result"
    }
   ],
   "source": [
    "d"
   ]
  },
  {
   "cell_type": "markdown",
   "metadata": {
    "colab_type": "text",
    "id": "3ZyIaJomrYPJ"
   },
   "source": [
    "# Python String"
   ]
  },
  {
   "cell_type": "code",
   "execution_count": 33,
   "metadata": {
    "colab": {},
    "colab_type": "code",
    "id": "PwkD2_FxrXjm"
   },
   "outputs": [],
   "source": [
    "sentence = \" Hello Corgi. I am hungry. \""
   ]
  },
  {
   "cell_type": "code",
   "execution_count": 34,
   "metadata": {
    "colab": {
     "base_uri": "https://localhost:8080/",
     "height": 35
    },
    "colab_type": "code",
    "id": "OfSs6-_Xr7Nn",
    "outputId": "61894aa8-2284-4289-9371-2833efcdc297"
   },
   "outputs": [
    {
     "data": {
      "text/plain": [
       "'H'"
      ]
     },
     "execution_count": 34,
     "metadata": {},
     "output_type": "execute_result"
    }
   ],
   "source": [
    "sentence[1]"
   ]
  },
  {
   "cell_type": "code",
   "execution_count": 35,
   "metadata": {
    "colab": {
     "base_uri": "https://localhost:8080/",
     "height": 35
    },
    "colab_type": "code",
    "id": "9-o4xocQ5she",
    "outputId": "638a85a9-368d-45b0-8330-eecc8c0a380d"
   },
   "outputs": [
    {
     "data": {
      "text/plain": [
       "'Hello Corgi'"
      ]
     },
     "execution_count": 35,
     "metadata": {},
     "output_type": "execute_result"
    }
   ],
   "source": [
    "sentence[1:12]"
   ]
  },
  {
   "cell_type": "code",
   "execution_count": 36,
   "metadata": {
    "colab": {
     "base_uri": "https://localhost:8080/",
     "height": 35
    },
    "colab_type": "code",
    "id": "nxSxmQcyrmQQ",
    "outputId": "61398752-484f-42fa-a0c4-c3057886323e"
   },
   "outputs": [
    {
     "data": {
      "text/plain": [
       "'Hello Corgi. I am hungry.'"
      ]
     },
     "execution_count": 36,
     "metadata": {},
     "output_type": "execute_result"
    }
   ],
   "source": [
    "sentence.strip()"
   ]
  },
  {
   "cell_type": "code",
   "execution_count": 37,
   "metadata": {
    "colab": {
     "base_uri": "https://localhost:8080/",
     "height": 35
    },
    "colab_type": "code",
    "id": "r1I9hlv6r4FB",
    "outputId": "5ad1bd0c-46e3-43a1-ab63-0e1daf13a756"
   },
   "outputs": [
    {
     "data": {
      "text/plain": [
       "['Hello', 'Corgi.', 'I', 'am', 'hungry.']"
      ]
     },
     "execution_count": 37,
     "metadata": {},
     "output_type": "execute_result"
    }
   ],
   "source": [
    "sentence.strip().split(' ')"
   ]
  },
  {
   "cell_type": "code",
   "execution_count": 38,
   "metadata": {
    "colab": {},
    "colab_type": "code",
    "id": "BdxmLMEuqv2j"
   },
   "outputs": [],
   "source": [
    "corgi = ' '.join(sentence.strip().split(' '))"
   ]
  },
  {
   "cell_type": "markdown",
   "metadata": {
    "colab_type": "text",
    "id": "6Ktf3sJeqq6x"
   },
   "source": [
    "# Loop and Condition"
   ]
  },
  {
   "cell_type": "code",
   "execution_count": 39,
   "metadata": {
    "colab": {
     "base_uri": "https://localhost:8080/",
     "height": 35
    },
    "colab_type": "code",
    "id": "N4TOwdrCMlaY",
    "outputId": "7ba0b264-5e7a-491a-84c6-9697c7605324"
   },
   "outputs": [
    {
     "data": {
      "text/plain": [
       "['Python!', 1, 0, 0]"
      ]
     },
     "execution_count": 39,
     "metadata": {},
     "output_type": "execute_result"
    }
   ],
   "source": [
    "l"
   ]
  },
  {
   "cell_type": "code",
   "execution_count": 40,
   "metadata": {
    "colab": {
     "base_uri": "https://localhost:8080/",
     "height": 87
    },
    "colab_type": "code",
    "id": "Iguikec5vq7K",
    "outputId": "adf5bed4-7828-4910-e3c7-4bbd7642812e"
   },
   "outputs": [
    {
     "name": "stdout",
     "output_type": "stream",
     "text": [
      "Python!\n",
      "1\n",
      "0\n",
      "0\n"
     ]
    }
   ],
   "source": [
    "for item in l:\n",
    "  print(item)"
   ]
  },
  {
   "cell_type": "code",
   "execution_count": 41,
   "metadata": {
    "colab": {
     "base_uri": "https://localhost:8080/",
     "height": 35
    },
    "colab_type": "code",
    "id": "UPMugiFPMyLz",
    "outputId": "c5637a6c-b994-401a-dc10-8ee94dbfad47"
   },
   "outputs": [
    {
     "data": {
      "text/plain": [
       "(0, 1, 2, 3, 4)"
      ]
     },
     "execution_count": 41,
     "metadata": {},
     "output_type": "execute_result"
    }
   ],
   "source": [
    "t"
   ]
  },
  {
   "cell_type": "code",
   "execution_count": 42,
   "metadata": {
    "colab": {
     "base_uri": "https://localhost:8080/",
     "height": 35
    },
    "colab_type": "code",
    "id": "lOBC3OJpvzGK",
    "outputId": "623ec9c8-c9aa-4cf2-d4b2-9f887f5e7128"
   },
   "outputs": [
    {
     "data": {
      "text/plain": [
       "[0, 1, 2, 3, 4]"
      ]
     },
     "execution_count": 42,
     "metadata": {},
     "output_type": "execute_result"
    }
   ],
   "source": [
    "# List Comprehension\n",
    "[i for i in t]"
   ]
  },
  {
   "cell_type": "code",
   "execution_count": 43,
   "metadata": {
    "colab": {},
    "colab_type": "code",
    "id": "jqnhTZOYM9gq",
    "scrolled": true
   },
   "outputs": [
    {
     "data": {
      "text/plain": [
       "[0,\n",
       " 1,\n",
       " 2,\n",
       " 3,\n",
       " 4,\n",
       " 5,\n",
       " 6,\n",
       " 7,\n",
       " 8,\n",
       " 9,\n",
       " 10,\n",
       " 11,\n",
       " 12,\n",
       " 13,\n",
       " 14,\n",
       " 15,\n",
       " 16,\n",
       " 17,\n",
       " 18,\n",
       " 19,\n",
       " 20,\n",
       " 21,\n",
       " 22,\n",
       " 23,\n",
       " 24,\n",
       " 25,\n",
       " 26,\n",
       " 27,\n",
       " 28,\n",
       " 29,\n",
       " 30,\n",
       " 31,\n",
       " 32,\n",
       " 33,\n",
       " 34,\n",
       " 35,\n",
       " 36,\n",
       " 37,\n",
       " 38,\n",
       " 39,\n",
       " 40,\n",
       " 41,\n",
       " 42,\n",
       " 43,\n",
       " 44,\n",
       " 45,\n",
       " 46,\n",
       " 47,\n",
       " 48,\n",
       " 49,\n",
       " 50,\n",
       " 51,\n",
       " 52,\n",
       " 53,\n",
       " 54,\n",
       " 55,\n",
       " 56,\n",
       " 57,\n",
       " 58,\n",
       " 59,\n",
       " 60,\n",
       " 61,\n",
       " 62,\n",
       " 63,\n",
       " 64,\n",
       " 65,\n",
       " 66,\n",
       " 67,\n",
       " 68,\n",
       " 69,\n",
       " 70,\n",
       " 71,\n",
       " 72,\n",
       " 73,\n",
       " 74,\n",
       " 75,\n",
       " 76,\n",
       " 77,\n",
       " 78,\n",
       " 79,\n",
       " 80,\n",
       " 81,\n",
       " 82,\n",
       " 83,\n",
       " 84,\n",
       " 85,\n",
       " 86,\n",
       " 87,\n",
       " 88,\n",
       " 89,\n",
       " 90,\n",
       " 91,\n",
       " 92,\n",
       " 93,\n",
       " 94,\n",
       " 95,\n",
       " 96,\n",
       " 97,\n",
       " 98,\n",
       " 99]"
      ]
     },
     "execution_count": 43,
     "metadata": {},
     "output_type": "execute_result"
    }
   ],
   "source": [
    "[i for i in range(100)]"
   ]
  },
  {
   "cell_type": "markdown",
   "metadata": {
    "colab_type": "text",
    "id": "pI897Mvy4yls"
   },
   "source": [
    "## If condition"
   ]
  },
  {
   "cell_type": "code",
   "execution_count": 44,
   "metadata": {
    "colab": {
     "base_uri": "https://localhost:8080/",
     "height": 35
    },
    "colab_type": "code",
    "id": "o2ASqKBy40vF",
    "outputId": "e73b6bec-adc3-4e3c-89fb-59324b2b416f"
   },
   "outputs": [
    {
     "name": "stdout",
     "output_type": "stream",
     "text": [
      "length is 5\n"
     ]
    }
   ],
   "source": [
    "if len(t) == 5:\n",
    "  print('length is 5')\n",
    "else:\n",
    "  print('length not equals 5')"
   ]
  },
  {
   "cell_type": "code",
   "execution_count": 45,
   "metadata": {
    "colab": {
     "base_uri": "https://localhost:8080/",
     "height": 52
    },
    "colab_type": "code",
    "id": "C7bVD-2V75P-",
    "outputId": "cec90a68-fdbf-4b7d-95c0-284408e4272b"
   },
   "outputs": [
    {
     "name": "stdout",
     "output_type": "stream",
     "text": [
      "A\n",
      "Good Job!\n"
     ]
    }
   ],
   "source": [
    "score = 90\n",
    "if score >= grade[\"A\"]:\n",
    "  print(\"A\")\n",
    "  print(\"Good Job!\")\n",
    "elif score >= grade[\"B+\"]:\n",
    "  print(\"B+\")\n",
    "elif score >= grade[\"B\"]:\n",
    "  print(\"B\")\n",
    "elif score >= grade[\"C\"]:\n",
    "  print(\"C\")\n",
    "elif score >= grade[\"D\"]:\n",
    "  print(\"D\")\n",
    "else:\n",
    "  print(\"F\")"
   ]
  },
  {
   "cell_type": "markdown",
   "metadata": {
    "colab_type": "text",
    "id": "Ftu2euHycYAA"
   },
   "source": [
    "# Python Packages"
   ]
  },
  {
   "cell_type": "code",
   "execution_count": 46,
   "metadata": {
    "colab": {
     "base_uri": "https://localhost:8080/",
     "height": 35
    },
    "colab_type": "code",
    "id": "efDIf2UvcjT8",
    "outputId": "fa1b1ebe-e1b0-4c30-d129-a6702d05a026"
   },
   "outputs": [
    {
     "name": "stdout",
     "output_type": "stream",
     "text": [
      "Hello world!\n"
     ]
    }
   ],
   "source": [
    "import __hello__"
   ]
  },
  {
   "cell_type": "code",
   "execution_count": 47,
   "metadata": {
    "colab": {
     "base_uri": "https://localhost:8080/",
     "height": 35
    },
    "colab_type": "code",
    "id": "7_LUlsGTcxDT",
    "outputId": "7b94c37f-9a83-46fb-bf9b-1d752d0f9d58"
   },
   "outputs": [
    {
     "data": {
      "text/plain": [
       "3.141592653589793"
      ]
     },
     "execution_count": 47,
     "metadata": {},
     "output_type": "execute_result"
    }
   ],
   "source": [
    "import math\n",
    "\n",
    "math.pi"
   ]
  },
  {
   "cell_type": "markdown",
   "metadata": {
    "colab_type": "text",
    "id": "USn2zGrvdYOy"
   },
   "source": [
    "or using from statement"
   ]
  },
  {
   "cell_type": "code",
   "execution_count": 48,
   "metadata": {
    "colab": {
     "base_uri": "https://localhost:8080/",
     "height": 35
    },
    "colab_type": "code",
    "id": "YVigxwRvdFcL",
    "outputId": "06ba6ae2-6303-4010-a540-db748d403672"
   },
   "outputs": [
    {
     "data": {
      "text/plain": [
       "3.141592653589793"
      ]
     },
     "execution_count": 48,
     "metadata": {},
     "output_type": "execute_result"
    }
   ],
   "source": [
    "from math import pi\n",
    "\n",
    "pi"
   ]
  },
  {
   "cell_type": "markdown",
   "metadata": {
    "colab_type": "text",
    "id": "dEyyUh5P70iV"
   },
   "source": [
    "Datetime function"
   ]
  },
  {
   "cell_type": "code",
   "execution_count": 49,
   "metadata": {
    "colab": {
     "base_uri": "https://localhost:8080/",
     "height": 35
    },
    "colab_type": "code",
    "id": "qFB9ARmS5Ay_",
    "outputId": "e6dd2644-431f-483b-8c8c-e3b55c607916"
   },
   "outputs": [
    {
     "data": {
      "text/plain": [
       "datetime.datetime(2020, 6, 3, 11, 21, 37, 109286)"
      ]
     },
     "execution_count": 49,
     "metadata": {},
     "output_type": "execute_result"
    }
   ],
   "source": [
    "import datetime\n",
    "\n",
    "now = datetime.datetime.now()\n",
    "now"
   ]
  },
  {
   "cell_type": "code",
   "execution_count": 50,
   "metadata": {
    "colab": {
     "base_uri": "https://localhost:8080/",
     "height": 35
    },
    "colab_type": "code",
    "id": "Hjf2A4WAO4Sh",
    "outputId": "9ffac2bf-55d1-433b-b69e-d5abf569b944"
   },
   "outputs": [
    {
     "data": {
      "text/plain": [
       "'2020-06-03T11:21:37.109286'"
      ]
     },
     "execution_count": 50,
     "metadata": {},
     "output_type": "execute_result"
    }
   ],
   "source": [
    "now.isoformat()"
   ]
  },
  {
   "cell_type": "code",
   "execution_count": 51,
   "metadata": {
    "colab": {},
    "colab_type": "code",
    "id": "mP7YZxDR5X6l"
   },
   "outputs": [],
   "source": [
    "today = datetime.date.today()"
   ]
  },
  {
   "cell_type": "code",
   "execution_count": 52,
   "metadata": {
    "colab": {
     "base_uri": "https://localhost:8080/",
     "height": 35
    },
    "colab_type": "code",
    "id": "yaWMiGH0O-sI",
    "outputId": "22132762-1bce-48b6-b903-3b16e21cf2dc"
   },
   "outputs": [
    {
     "data": {
      "text/plain": [
       "'2020-06-03'"
      ]
     },
     "execution_count": 52,
     "metadata": {},
     "output_type": "execute_result"
    }
   ],
   "source": [
    "today.isoformat()"
   ]
  },
  {
   "cell_type": "markdown",
   "metadata": {
    "colab_type": "text",
    "id": "pjRhF6m9w0WZ"
   },
   "source": [
    "# Simple functions"
   ]
  },
  {
   "cell_type": "code",
   "execution_count": 53,
   "metadata": {
    "colab": {
     "base_uri": "https://localhost:8080/",
     "height": 35
    },
    "colab_type": "code",
    "id": "4Qruy5d21l76",
    "outputId": "60135d8a-b83f-41a1-b317-fdc14b6445a6"
   },
   "outputs": [
    {
     "data": {
      "text/plain": [
       "12.566370614359172"
      ]
     },
     "execution_count": 53,
     "metadata": {},
     "output_type": "execute_result"
    }
   ],
   "source": [
    "def circle_area(radius):\n",
    "  return pi * radius * radius\n",
    "\n",
    "circle_area(2)"
   ]
  },
  {
   "cell_type": "code",
   "execution_count": 54,
   "metadata": {
    "colab": {
     "base_uri": "https://localhost:8080/",
     "height": 35
    },
    "colab_type": "code",
    "id": "-rtsx6QW12aM",
    "outputId": "ce0589ee-945e-4d57-8a2d-f2c2feab8878"
   },
   "outputs": [
    {
     "ename": "NameError",
     "evalue": "name 'square_area' is not defined",
     "output_type": "error",
     "traceback": [
      "\u001b[1;31m---------------------------------------------------------------------------\u001b[0m",
      "\u001b[1;31mNameError\u001b[0m                                 Traceback (most recent call last)",
      "\u001b[1;32m<ipython-input-54-556e805ff7e2>\u001b[0m in \u001b[0;36m<module>\u001b[1;34m\u001b[0m\n\u001b[0;32m      2\u001b[0m   \u001b[1;32mreturn\u001b[0m \u001b[0mheight\u001b[0m \u001b[1;33m*\u001b[0m \u001b[0mwidth\u001b[0m\u001b[1;33m\u001b[0m\u001b[1;33m\u001b[0m\u001b[0m\n\u001b[0;32m      3\u001b[0m \u001b[1;33m\u001b[0m\u001b[0m\n\u001b[1;32m----> 4\u001b[1;33m \u001b[0msquare_area\u001b[0m\u001b[1;33m(\u001b[0m\u001b[1;36m4\u001b[0m\u001b[1;33m,\u001b[0m \u001b[1;36m5\u001b[0m\u001b[1;33m)\u001b[0m\u001b[1;33m\u001b[0m\u001b[1;33m\u001b[0m\u001b[0m\n\u001b[0m",
      "\u001b[1;31mNameError\u001b[0m: name 'square_area' is not defined"
     ]
    }
   ],
   "source": [
    "def rectangle_area(height, width):\n",
    "  return height * width\n",
    "\n",
    "square_area(4, 5)"
   ]
  },
  {
   "cell_type": "code",
   "execution_count": 0,
   "metadata": {
    "colab": {
     "base_uri": "https://localhost:8080/",
     "height": 35
    },
    "colab_type": "code",
    "id": "lswe1z6S3rtX",
    "outputId": "aa4d47e0-823c-4a4c-b34c-f96f2d42ed19"
   },
   "outputs": [
    {
     "data": {
      "text/plain": [
       "939.9"
      ]
     },
     "execution_count": 144,
     "metadata": {
      "tags": []
     },
     "output_type": "execute_result"
    }
   ],
   "source": [
    "def conversion(amount, rate=31.33):\n",
    "  return amount * rate\n",
    "\n",
    "\n",
    "conversion(30)"
   ]
  },
  {
   "cell_type": "code",
   "execution_count": 0,
   "metadata": {
    "colab": {
     "base_uri": "https://localhost:8080/",
     "height": 35
    },
    "colab_type": "code",
    "id": "uWD-VVlP4jFx",
    "outputId": "a397f786-72d5-4627-ffd7-d622eb77f2a2"
   },
   "outputs": [
    {
     "data": {
      "text/plain": [
       "999.999"
      ]
     },
     "execution_count": 146,
     "metadata": {
      "tags": []
     },
     "output_type": "execute_result"
    }
   ],
   "source": [
    "conversion(30, 33.3333)"
   ]
  },
  {
   "cell_type": "markdown",
   "metadata": {
    "colab_type": "text",
    "id": "OaxEeWQTwA1V"
   },
   "source": [
    "# Working with files"
   ]
  },
  {
   "cell_type": "markdown",
   "metadata": {
    "colab_type": "text",
    "id": "Z5184gI48YK-"
   },
   "source": [
    "## Write file"
   ]
  },
  {
   "cell_type": "code",
   "execution_count": 0,
   "metadata": {
    "colab": {},
    "colab_type": "code",
    "id": "SjXJ5yiP4wfu"
   },
   "outputs": [],
   "source": [
    "file = open('output.csv', 'w')\n",
    "file.write(\"date,item,price\\n\")\n",
    "file.write(\"2020-02-07,Milk,26.5\\n\")\n",
    "file.write(\"2020-02-08,Water,7\\n\")\n",
    "file.close()"
   ]
  },
  {
   "cell_type": "code",
   "execution_count": 0,
   "metadata": {
    "colab": {},
    "colab_type": "code",
    "id": "W5C4Uoei93_9"
   },
   "outputs": [],
   "source": [
    "header = (\"date\", \"item\", \"price\")\n",
    "content = [\n",
    "    (\"2020-02-07\", \"Milk\", \"26.5\"),\n",
    "    (\"2020-02-08\", \"Water\", \"7\"),\n",
    "    (\"2020-02-08\", \"Mask\", \"20\"),\n",
    "    (\"2020-02-08\", \"Lays\", \"10\"),\n",
    "    (\"2020-02-08\", \"Rice\", \"6\")\n",
    "]\n",
    "\n",
    "file = open('products.csv', 'w')\n",
    "file.write(\",\".join(header) + \"\\n\")\n",
    "\n",
    "for row in content:\n",
    "  file.write(\",\".join(row) + \"\\n\")\n",
    "\n",
    "file.close()"
   ]
  },
  {
   "cell_type": "markdown",
   "metadata": {
    "colab_type": "text",
    "id": "PFMeyDyGAnxk"
   },
   "source": [
    "## Read file"
   ]
  },
  {
   "cell_type": "code",
   "execution_count": 0,
   "metadata": {
    "colab": {
     "base_uri": "https://localhost:8080/",
     "height": 121
    },
    "colab_type": "code",
    "id": "BKbZ1KQ9Am-3",
    "outputId": "3cc2265e-cc99-4bec-d61b-d1bbceb737cf"
   },
   "outputs": [
    {
     "data": {
      "text/plain": [
       "['date,item,price\\n',\n",
       " '2020-02-07,Milk,26.5\\n',\n",
       " '2020-02-08,Water,7\\n',\n",
       " '2020-02-08,Mask,20\\n',\n",
       " '2020-02-08,Lays,10\\n',\n",
       " '2020-02-08,Rice,6\\n']"
      ]
     },
     "execution_count": 149,
     "metadata": {
      "tags": []
     },
     "output_type": "execute_result"
    }
   ],
   "source": [
    "with open(\"products.csv\", \"r\") as f:\n",
    "  product = f.readlines()\n",
    "\n",
    "product"
   ]
  },
  {
   "cell_type": "markdown",
   "metadata": {
    "colab_type": "text",
    "id": "nu2d7t-dAisB"
   },
   "source": [
    "## Use Pandas to Read/Write file"
   ]
  },
  {
   "cell_type": "markdown",
   "metadata": {
    "colab_type": "text",
    "id": "2u_LKLTOCD7r"
   },
   "source": [
    "Read CSV file with pandas"
   ]
  },
  {
   "cell_type": "code",
   "execution_count": 0,
   "metadata": {
    "colab": {
     "base_uri": "https://localhost:8080/",
     "height": 202
    },
    "colab_type": "code",
    "id": "gaXfQ73DAh6v",
    "outputId": "c04ae0d3-f266-4392-c82e-552e02418e70"
   },
   "outputs": [
    {
     "data": {
      "text/html": [
       "<div>\n",
       "<style scoped>\n",
       "    .dataframe tbody tr th:only-of-type {\n",
       "        vertical-align: middle;\n",
       "    }\n",
       "\n",
       "    .dataframe tbody tr th {\n",
       "        vertical-align: top;\n",
       "    }\n",
       "\n",
       "    .dataframe thead th {\n",
       "        text-align: right;\n",
       "    }\n",
       "</style>\n",
       "<table border=\"1\" class=\"dataframe\">\n",
       "  <thead>\n",
       "    <tr style=\"text-align: right;\">\n",
       "      <th></th>\n",
       "      <th>date</th>\n",
       "      <th>item</th>\n",
       "      <th>price</th>\n",
       "    </tr>\n",
       "  </thead>\n",
       "  <tbody>\n",
       "    <tr>\n",
       "      <th>0</th>\n",
       "      <td>2020-02-07</td>\n",
       "      <td>Milk</td>\n",
       "      <td>26.5</td>\n",
       "    </tr>\n",
       "    <tr>\n",
       "      <th>1</th>\n",
       "      <td>2020-02-08</td>\n",
       "      <td>Water</td>\n",
       "      <td>7.0</td>\n",
       "    </tr>\n",
       "    <tr>\n",
       "      <th>2</th>\n",
       "      <td>2020-02-08</td>\n",
       "      <td>Mask</td>\n",
       "      <td>20.0</td>\n",
       "    </tr>\n",
       "    <tr>\n",
       "      <th>3</th>\n",
       "      <td>2020-02-08</td>\n",
       "      <td>Lays</td>\n",
       "      <td>10.0</td>\n",
       "    </tr>\n",
       "    <tr>\n",
       "      <th>4</th>\n",
       "      <td>2020-02-08</td>\n",
       "      <td>Rice</td>\n",
       "      <td>6.0</td>\n",
       "    </tr>\n",
       "  </tbody>\n",
       "</table>\n",
       "</div>"
      ],
      "text/plain": [
       "         date   item  price\n",
       "0  2020-02-07   Milk   26.5\n",
       "1  2020-02-08  Water    7.0\n",
       "2  2020-02-08   Mask   20.0\n",
       "3  2020-02-08   Lays   10.0\n",
       "4  2020-02-08   Rice    6.0"
      ]
     },
     "execution_count": 150,
     "metadata": {
      "tags": []
     },
     "output_type": "execute_result"
    }
   ],
   "source": [
    "import pandas as pd\n",
    "\n",
    "products = pd.read_csv(\"products.csv\")\n",
    "products"
   ]
  },
  {
   "cell_type": "code",
   "execution_count": 0,
   "metadata": {
    "colab": {
     "base_uri": "https://localhost:8080/",
     "height": 35
    },
    "colab_type": "code",
    "id": "dmyfjfirRCqn",
    "outputId": "b66a5f6e-1382-45a4-8ac6-1e1d4415a2aa"
   },
   "outputs": [
    {
     "data": {
      "text/plain": [
       "pandas.core.frame.DataFrame"
      ]
     },
     "execution_count": 151,
     "metadata": {
      "tags": []
     },
     "output_type": "execute_result"
    }
   ],
   "source": [
    "type(products)"
   ]
  },
  {
   "cell_type": "markdown",
   "metadata": {
    "colab_type": "text",
    "id": "RscjixvpCZ7A"
   },
   "source": [
    "Write to CSV"
   ]
  },
  {
   "cell_type": "code",
   "execution_count": 0,
   "metadata": {
    "colab": {
     "base_uri": "https://localhost:8080/",
     "height": 202
    },
    "colab_type": "code",
    "id": "YGdfLXeHCHng",
    "outputId": "e1410a15-9621-43a1-aeea-d26a731f393a"
   },
   "outputs": [
    {
     "data": {
      "text/html": [
       "<div>\n",
       "<style scoped>\n",
       "    .dataframe tbody tr th:only-of-type {\n",
       "        vertical-align: middle;\n",
       "    }\n",
       "\n",
       "    .dataframe tbody tr th {\n",
       "        vertical-align: top;\n",
       "    }\n",
       "\n",
       "    .dataframe thead th {\n",
       "        text-align: right;\n",
       "    }\n",
       "</style>\n",
       "<table border=\"1\" class=\"dataframe\">\n",
       "  <thead>\n",
       "    <tr style=\"text-align: right;\">\n",
       "      <th></th>\n",
       "      <th>date</th>\n",
       "      <th>item</th>\n",
       "      <th>price</th>\n",
       "    </tr>\n",
       "  </thead>\n",
       "  <tbody>\n",
       "    <tr>\n",
       "      <th>0</th>\n",
       "      <td>2020-02-07</td>\n",
       "      <td>Milk</td>\n",
       "      <td>26.5</td>\n",
       "    </tr>\n",
       "    <tr>\n",
       "      <th>1</th>\n",
       "      <td>2020-02-08</td>\n",
       "      <td>Water</td>\n",
       "      <td>7.0</td>\n",
       "    </tr>\n",
       "    <tr>\n",
       "      <th>2</th>\n",
       "      <td>2020-02-08</td>\n",
       "      <td>Mask</td>\n",
       "      <td>20.0</td>\n",
       "    </tr>\n",
       "    <tr>\n",
       "      <th>3</th>\n",
       "      <td>2020-02-08</td>\n",
       "      <td>Lays</td>\n",
       "      <td>10.0</td>\n",
       "    </tr>\n",
       "    <tr>\n",
       "      <th>4</th>\n",
       "      <td>2020-02-08</td>\n",
       "      <td>Rice</td>\n",
       "      <td>6.0</td>\n",
       "    </tr>\n",
       "  </tbody>\n",
       "</table>\n",
       "</div>"
      ],
      "text/plain": [
       "         date   item  price\n",
       "0  2020-02-07   Milk   26.5\n",
       "1  2020-02-08  Water    7.0\n",
       "2  2020-02-08   Mask   20.0\n",
       "3  2020-02-08   Lays   10.0\n",
       "4  2020-02-08   Rice    6.0"
      ]
     },
     "execution_count": 152,
     "metadata": {
      "tags": []
     },
     "output_type": "execute_result"
    }
   ],
   "source": [
    "products.to_csv(\"new_products.csv\")\n",
    "products"
   ]
  },
  {
   "cell_type": "markdown",
   "metadata": {
    "colab_type": "text",
    "id": "QO-awEUvwEEo"
   },
   "source": [
    "## JSON"
   ]
  },
  {
   "cell_type": "markdown",
   "metadata": {
    "colab_type": "text",
    "id": "zLJProKfGJXj"
   },
   "source": [
    "JSON dump = export JSON"
   ]
  },
  {
   "cell_type": "code",
   "execution_count": 0,
   "metadata": {
    "colab": {
     "base_uri": "https://localhost:8080/",
     "height": 35
    },
    "colab_type": "code",
    "id": "fj5To2YCRStw",
    "outputId": "d1390f34-d3d4-4b9e-9e1d-6e42a12650ee"
   },
   "outputs": [
    {
     "data": {
      "text/plain": [
       "{'A': 80, 'B': 70, 'B+': 75, 'C': 60, 'D': 50}"
      ]
     },
     "execution_count": 153,
     "metadata": {
      "tags": []
     },
     "output_type": "execute_result"
    }
   ],
   "source": [
    "grade"
   ]
  },
  {
   "cell_type": "code",
   "execution_count": 0,
   "metadata": {
    "colab": {
     "base_uri": "https://localhost:8080/",
     "height": 35
    },
    "colab_type": "code",
    "id": "1qwDmHNuv_lR",
    "outputId": "24963467-1ed8-42c0-dd1e-71ecceeed916"
   },
   "outputs": [
    {
     "data": {
      "text/plain": [
       "'{\"A\": 80, \"B\": 70, \"C\": 60, \"D\": 50, \"B+\": 75}'"
      ]
     },
     "execution_count": 155,
     "metadata": {
      "tags": []
     },
     "output_type": "execute_result"
    }
   ],
   "source": [
    "import json\n",
    "json.dumps(grade)"
   ]
  },
  {
   "cell_type": "code",
   "execution_count": 0,
   "metadata": {
    "colab": {
     "base_uri": "https://localhost:8080/",
     "height": 35
    },
    "colab_type": "code",
    "id": "b_HFy_oJRbee",
    "outputId": "03741000-11ac-4f70-b638-5b0e13b6c207"
   },
   "outputs": [
    {
     "data": {
      "text/plain": [
       "str"
      ]
     },
     "execution_count": 156,
     "metadata": {
      "tags": []
     },
     "output_type": "execute_result"
    }
   ],
   "source": [
    "type(json.dumps(grade))"
   ]
  },
  {
   "cell_type": "code",
   "execution_count": 0,
   "metadata": {
    "colab": {},
    "colab_type": "code",
    "id": "3VcEg89FwOdA"
   },
   "outputs": [],
   "source": [
    "# Save to output file grade.json\n",
    "json.dump(grade, open(\"grade.json\", \"w\"))"
   ]
  },
  {
   "cell_type": "markdown",
   "metadata": {
    "colab_type": "text",
    "id": "fcZ-ERRKGMwo"
   },
   "source": [
    "JSON load = import JSON"
   ]
  },
  {
   "cell_type": "code",
   "execution_count": 0,
   "metadata": {
    "colab": {
     "base_uri": "https://localhost:8080/",
     "height": 35
    },
    "colab_type": "code",
    "id": "DNe3gRwj6sKR",
    "outputId": "593823f0-f4bc-481f-d2bc-7ff8211a666d"
   },
   "outputs": [
    {
     "data": {
      "text/plain": [
       "{'student1': 'Perth', 'student2': 'Fon'}"
      ]
     },
     "execution_count": 158,
     "metadata": {
      "tags": []
     },
     "output_type": "execute_result"
    }
   ],
   "source": [
    "students = json.loads('{\"student1\": \"Perth\", \"student2\": \"Fon\"}')\n",
    "students"
   ]
  },
  {
   "cell_type": "code",
   "execution_count": 0,
   "metadata": {
    "colab": {
     "base_uri": "https://localhost:8080/",
     "height": 35
    },
    "colab_type": "code",
    "id": "TaOV6cgQ7HWw",
    "outputId": "e015e7ff-028f-4915-be8e-4baf58922d9b"
   },
   "outputs": [
    {
     "data": {
      "text/plain": [
       "dict"
      ]
     },
     "execution_count": 159,
     "metadata": {
      "tags": []
     },
     "output_type": "execute_result"
    }
   ],
   "source": [
    "type(students)"
   ]
  },
  {
   "cell_type": "markdown",
   "metadata": {
    "colab_type": "text",
    "id": "AT131s4MZ-0X"
   },
   "source": [
    "# Tips"
   ]
  },
  {
   "cell_type": "code",
   "execution_count": 0,
   "metadata": {
    "colab": {
     "base_uri": "https://localhost:8080/",
     "height": 35
    },
    "colab_type": "code",
    "id": "v7JsDop7ZuIZ",
    "outputId": "84b54544-825f-4bc0-ed2f-cecadf5dc98c"
   },
   "outputs": [
    {
     "data": {
      "text/plain": [
       "True"
      ]
     },
     "execution_count": 160,
     "metadata": {
      "tags": []
     },
     "output_type": "execute_result"
    }
   ],
   "source": [
    "bool(\"False\")"
   ]
  },
  {
   "cell_type": "code",
   "execution_count": 0,
   "metadata": {
    "colab": {
     "base_uri": "https://localhost:8080/",
     "height": 35
    },
    "colab_type": "code",
    "id": "HeRzcQUZaBbz",
    "outputId": "a4e1875e-42b7-464e-86de-e77bb476a655"
   },
   "outputs": [
    {
     "data": {
      "text/plain": [
       "False"
      ]
     },
     "execution_count": 161,
     "metadata": {
      "tags": []
     },
     "output_type": "execute_result"
    }
   ],
   "source": [
    "import ast\n",
    "ast.literal_eval(\"False\")"
   ]
  },
  {
   "cell_type": "code",
   "execution_count": 0,
   "metadata": {
    "colab": {
     "base_uri": "https://localhost:8080/",
     "height": 381
    },
    "colab_type": "code",
    "id": "HIUfvGnyblch",
    "outputId": "cbe681e7-9cf5-4736-8272-718be60b9f12"
   },
   "outputs": [
    {
     "name": "stdout",
     "output_type": "stream",
     "text": [
      "The Zen of Python, by Tim Peters\n",
      "\n",
      "Beautiful is better than ugly.\n",
      "Explicit is better than implicit.\n",
      "Simple is better than complex.\n",
      "Complex is better than complicated.\n",
      "Flat is better than nested.\n",
      "Sparse is better than dense.\n",
      "Readability counts.\n",
      "Special cases aren't special enough to break the rules.\n",
      "Although practicality beats purity.\n",
      "Errors should never pass silently.\n",
      "Unless explicitly silenced.\n",
      "In the face of ambiguity, refuse the temptation to guess.\n",
      "There should be one-- and preferably only one --obvious way to do it.\n",
      "Although that way may not be obvious at first unless you're Dutch.\n",
      "Now is better than never.\n",
      "Although never is often better than *right* now.\n",
      "If the implementation is hard to explain, it's a bad idea.\n",
      "If the implementation is easy to explain, it may be a good idea.\n",
      "Namespaces are one honking great idea -- let's do more of those!\n"
     ]
    }
   ],
   "source": [
    "import this"
   ]
  },
  {
   "cell_type": "markdown",
   "metadata": {
    "colab_type": "text",
    "id": "325icnU0U-zj"
   },
   "source": [
    "# Connect to MySQL using PyMysql"
   ]
  },
  {
   "cell_type": "code",
   "execution_count": 0,
   "metadata": {
    "colab": {
     "base_uri": "https://localhost:8080/",
     "height": 35
    },
    "colab_type": "code",
    "id": "XI69DrmIUvV2",
    "outputId": "91fff6f0-e6f2-47c4-fcd4-b25a3f32285e"
   },
   "outputs": [
    {
     "name": "stdout",
     "output_type": "stream",
     "text": [
      "Requirement already satisfied: pymysql in /usr/local/lib/python3.6/dist-packages (0.9.3)\n"
     ]
    }
   ],
   "source": [
    "!pip install pymysql"
   ]
  },
  {
   "cell_type": "markdown",
   "metadata": {
    "colab_type": "text",
    "id": "U4Su6uewVv9w"
   },
   "source": [
    "Connect to Sample DB"
   ]
  },
  {
   "cell_type": "code",
   "execution_count": 0,
   "metadata": {
    "colab": {},
    "colab_type": "code",
    "id": "iUBwIpIY7R9A"
   },
   "outputs": [],
   "source": []
  },
  {
   "cell_type": "code",
   "execution_count": 0,
   "metadata": {
    "colab": {},
    "colab_type": "code",
    "id": "cgi4HP8dVypG"
   },
   "outputs": [],
   "source": [
    "import pymysql.cursors\n",
    "import pandas as pd\n",
    "\n",
    "# Connect to the database\n",
    "connection = pymysql.connect(host='',\n",
    "                             port=port,\n",
    "                             user='',\n",
    "                             password='',\n",
    "                             db='',\n",
    "                             cursorclass=pymysql.cursors.DictCursor)"
   ]
  },
  {
   "cell_type": "code",
   "execution_count": 0,
   "metadata": {
    "colab": {
     "base_uri": "https://localhost:8080/",
     "height": 55
    },
    "colab_type": "code",
    "id": "6SjWev01Wg-_",
    "outputId": "5235cb63-30a4-499c-8a7a-6395f3d1882e"
   },
   "outputs": [
    {
     "name": "stdout",
     "output_type": "stream",
     "text": [
      "[{'Tables_in_detraining': 'current_dept_emp'}, {'Tables_in_detraining': 'departments'}, {'Tables_in_detraining': 'dept_emp'}, {'Tables_in_detraining': 'dept_emp_latest_date'}, {'Tables_in_detraining': 'dept_manager'}, {'Tables_in_detraining': 'employees'}, {'Tables_in_detraining': 'online_retail'}, {'Tables_in_detraining': 'salaries'}, {'Tables_in_detraining': 'titles'}]\n"
     ]
    }
   ],
   "source": [
    "# list all tables\n",
    "cursor = connection.cursor()\n",
    "cursor.execute(\"show tables;\")\n",
    "tables = cursor.fetchall()\n",
    "cursor.close()\n",
    "print(tables)"
   ]
  },
  {
   "cell_type": "code",
   "execution_count": 0,
   "metadata": {
    "colab": {
     "base_uri": "https://localhost:8080/",
     "height": 55
    },
    "colab_type": "code",
    "id": "RBLRyhe_WOw-",
    "outputId": "e610b7bf-fca6-4b8c-8014-ede662597e02"
   },
   "outputs": [
    {
     "name": "stdout",
     "output_type": "stream",
     "text": [
      "[{'InvoiceNo': 536365, 'StockCode': '85123A', 'Description': 'WHITE HANGING HEART T-LIGHT HOLDER', 'Quantity': 6, 'InvoiceDate': '1/12/2018 08:26', 'UnitPrice': 2.55, 'CustomerID': 17850, 'Country': 'United Kingdom'}, {'InvoiceNo': 536365, 'StockCode': '71053', 'Description': 'WHITE METAL LANTERN', 'Quantity': 6, 'InvoiceDate': '1/12/2018 08:26', 'UnitPrice': 3.39, 'CustomerID': 17850, 'Country': 'United Kingdom'}, {'InvoiceNo': 536365, 'StockCode': '84406B', 'Description': 'CREAM CUPID HEARTS COAT HANGER', 'Quantity': 8, 'InvoiceDate': '1/12/2018 08:26', 'UnitPrice': 2.75, 'CustomerID': 17850, 'Country': 'United Kingdom'}, {'InvoiceNo': 536365, 'StockCode': '84029G', 'Description': 'KNITTED UNION FLAG HOT WATER BOTTLE', 'Quantity': 6, 'InvoiceDate': '1/12/2018 08:26', 'UnitPrice': 3.39, 'CustomerID': 17850, 'Country': 'United Kingdom'}, {'InvoiceNo': 536365, 'StockCode': '84029E', 'Description': 'RED WOOLLY HOTTIE WHITE HEART.', 'Quantity': 6, 'InvoiceDate': '1/12/2018 08:26', 'UnitPrice': 3.39, 'CustomerID': 17850, 'Country': 'United Kingdom'}, {'InvoiceNo': 536365, 'StockCode': '22752', 'Description': 'SET 7 BABUSHKA NESTING BOXES', 'Quantity': 2, 'InvoiceDate': '1/12/2018 08:26', 'UnitPrice': 7.65, 'CustomerID': 17850, 'Country': 'United Kingdom'}, {'InvoiceNo': 536365, 'StockCode': '21730', 'Description': 'GLASS STAR FROSTED T-LIGHT HOLDER', 'Quantity': 6, 'InvoiceDate': '1/12/2018 08:26', 'UnitPrice': 4.25, 'CustomerID': 17850, 'Country': 'United Kingdom'}, {'InvoiceNo': 536366, 'StockCode': '22633', 'Description': 'HAND WARMER UNION JACK', 'Quantity': 6, 'InvoiceDate': '1/12/2018 08:28', 'UnitPrice': 1.85, 'CustomerID': 17850, 'Country': 'United Kingdom'}, {'InvoiceNo': 536366, 'StockCode': '22632', 'Description': 'HAND WARMER RED POLKA DOT', 'Quantity': 6, 'InvoiceDate': '1/12/2018 08:28', 'UnitPrice': 1.85, 'CustomerID': 17850, 'Country': 'United Kingdom'}, {'InvoiceNo': 536367, 'StockCode': '84879', 'Description': 'ASSORTED COLOUR BIRD ORNAMENT', 'Quantity': 32, 'InvoiceDate': '1/12/2018 08:34', 'UnitPrice': 1.69, 'CustomerID': 13047, 'Country': 'United Kingdom'}, {'InvoiceNo': 536367, 'StockCode': '22745', 'Description': \"POPPY'S PLAYHOUSE BEDROOM \", 'Quantity': 6, 'InvoiceDate': '1/12/2018 08:34', 'UnitPrice': 2.1, 'CustomerID': 13047, 'Country': 'United Kingdom'}, {'InvoiceNo': 536367, 'StockCode': '22748', 'Description': \"POPPY'S PLAYHOUSE KITCHEN\", 'Quantity': 6, 'InvoiceDate': '1/12/2018 08:34', 'UnitPrice': 2.1, 'CustomerID': 13047, 'Country': 'United Kingdom'}, {'InvoiceNo': 536367, 'StockCode': '22749', 'Description': 'FELTCRAFT PRINCESS CHARLOTTE DOLL', 'Quantity': 8, 'InvoiceDate': '1/12/2018 08:34', 'UnitPrice': 3.75, 'CustomerID': 13047, 'Country': 'United Kingdom'}, {'InvoiceNo': 536367, 'StockCode': '22310', 'Description': 'IVORY KNITTED MUG COSY ', 'Quantity': 6, 'InvoiceDate': '1/12/2018 08:34', 'UnitPrice': 1.65, 'CustomerID': 13047, 'Country': 'United Kingdom'}, {'InvoiceNo': 536367, 'StockCode': '84969', 'Description': 'BOX OF 6 ASSORTED COLOUR TEASPOONS', 'Quantity': 6, 'InvoiceDate': '1/12/2018 08:34', 'UnitPrice': 4.25, 'CustomerID': 13047, 'Country': 'United Kingdom'}, {'InvoiceNo': 536367, 'StockCode': '22623', 'Description': 'BOX OF VINTAGE JIGSAW BLOCKS ', 'Quantity': 3, 'InvoiceDate': '1/12/2018 08:34', 'UnitPrice': 4.95, 'CustomerID': 13047, 'Country': 'United Kingdom'}, {'InvoiceNo': 536367, 'StockCode': '22622', 'Description': 'BOX OF VINTAGE ALPHABET BLOCKS', 'Quantity': 2, 'InvoiceDate': '1/12/2018 08:34', 'UnitPrice': 9.95, 'CustomerID': 13047, 'Country': 'United Kingdom'}, {'InvoiceNo': 536367, 'StockCode': '21754', 'Description': 'HOME BUILDING BLOCK WORD', 'Quantity': 3, 'InvoiceDate': '1/12/2018 08:34', 'UnitPrice': 5.95, 'CustomerID': 13047, 'Country': 'United Kingdom'}, {'InvoiceNo': 536367, 'StockCode': '21755', 'Description': 'LOVE BUILDING BLOCK WORD', 'Quantity': 3, 'InvoiceDate': '1/12/2018 08:34', 'UnitPrice': 5.95, 'CustomerID': 13047, 'Country': 'United Kingdom'}, {'InvoiceNo': 536367, 'StockCode': '21777', 'Description': 'RECIPE BOX WITH METAL HEART', 'Quantity': 4, 'InvoiceDate': '1/12/2018 08:34', 'UnitPrice': 7.95, 'CustomerID': 13047, 'Country': 'United Kingdom'}, {'InvoiceNo': 536367, 'StockCode': '48187', 'Description': 'DOORMAT NEW ENGLAND', 'Quantity': 4, 'InvoiceDate': '1/12/2018 08:34', 'UnitPrice': 7.95, 'CustomerID': 13047, 'Country': 'United Kingdom'}, {'InvoiceNo': 536368, 'StockCode': '22960', 'Description': 'JAM MAKING SET WITH JARS', 'Quantity': 6, 'InvoiceDate': '1/12/2018 08:34', 'UnitPrice': 4.25, 'CustomerID': 13047, 'Country': 'United Kingdom'}, {'InvoiceNo': 536368, 'StockCode': '22913', 'Description': 'RED COAT RACK PARIS FASHION', 'Quantity': 3, 'InvoiceDate': '1/12/2018 08:34', 'UnitPrice': 4.95, 'CustomerID': 13047, 'Country': 'United Kingdom'}, {'InvoiceNo': 536368, 'StockCode': '22912', 'Description': 'YELLOW COAT RACK PARIS FASHION', 'Quantity': 3, 'InvoiceDate': '1/12/2018 08:34', 'UnitPrice': 4.95, 'CustomerID': 13047, 'Country': 'United Kingdom'}, {'InvoiceNo': 536368, 'StockCode': '22914', 'Description': 'BLUE COAT RACK PARIS FASHION', 'Quantity': 3, 'InvoiceDate': '1/12/2018 08:34', 'UnitPrice': 4.95, 'CustomerID': 13047, 'Country': 'United Kingdom'}, {'InvoiceNo': 536369, 'StockCode': '21756', 'Description': 'BATH BUILDING BLOCK WORD', 'Quantity': 3, 'InvoiceDate': '1/12/2018 08:35', 'UnitPrice': 5.95, 'CustomerID': 13047, 'Country': 'United Kingdom'}, {'InvoiceNo': 536370, 'StockCode': '22728', 'Description': 'ALARM CLOCK BAKELIKE PINK', 'Quantity': 24, 'InvoiceDate': '1/12/2018 08:45', 'UnitPrice': 3.75, 'CustomerID': 12583, 'Country': 'France'}, {'InvoiceNo': 536370, 'StockCode': '22727', 'Description': 'ALARM CLOCK BAKELIKE RED ', 'Quantity': 24, 'InvoiceDate': '1/12/2018 08:45', 'UnitPrice': 3.75, 'CustomerID': 12583, 'Country': 'France'}, {'InvoiceNo': 536370, 'StockCode': '22726', 'Description': 'ALARM CLOCK BAKELIKE GREEN', 'Quantity': 12, 'InvoiceDate': '1/12/2018 08:45', 'UnitPrice': 3.75, 'CustomerID': 12583, 'Country': 'France'}, {'InvoiceNo': 536370, 'StockCode': '21724', 'Description': 'PANDA AND BUNNIES STICKER SHEET', 'Quantity': 12, 'InvoiceDate': '1/12/2018 08:45', 'UnitPrice': 0.85, 'CustomerID': 12583, 'Country': 'France'}, {'InvoiceNo': 536370, 'StockCode': '21883', 'Description': 'STARS GIFT TAPE ', 'Quantity': 24, 'InvoiceDate': '1/12/2018 08:45', 'UnitPrice': 0.65, 'CustomerID': 12583, 'Country': 'France'}, {'InvoiceNo': 536370, 'StockCode': '10002', 'Description': 'INFLATABLE POLITICAL GLOBE ', 'Quantity': 48, 'InvoiceDate': '1/12/2018 08:45', 'UnitPrice': 0.85, 'CustomerID': 12583, 'Country': 'France'}, {'InvoiceNo': 536370, 'StockCode': '21791', 'Description': 'VINTAGE HEADS AND TAILS CARD GAME ', 'Quantity': 24, 'InvoiceDate': '1/12/2018 08:45', 'UnitPrice': 1.25, 'CustomerID': 12583, 'Country': 'France'}, {'InvoiceNo': 536370, 'StockCode': '21035', 'Description': 'SET/2 RED RETROSPOT TEA TOWELS ', 'Quantity': 18, 'InvoiceDate': '1/12/2018 08:45', 'UnitPrice': 2.95, 'CustomerID': 12583, 'Country': 'France'}, {'InvoiceNo': 536370, 'StockCode': '22326', 'Description': 'ROUND SNACK BOXES SET OF4 WOODLAND ', 'Quantity': 24, 'InvoiceDate': '1/12/2018 08:45', 'UnitPrice': 2.95, 'CustomerID': 12583, 'Country': 'France'}, {'InvoiceNo': 536370, 'StockCode': '22629', 'Description': 'SPACEBOY LUNCH BOX ', 'Quantity': 24, 'InvoiceDate': '1/12/2018 08:45', 'UnitPrice': 1.95, 'CustomerID': 12583, 'Country': 'France'}, {'InvoiceNo': 536370, 'StockCode': '22659', 'Description': 'LUNCH BOX I LOVE LONDON', 'Quantity': 24, 'InvoiceDate': '1/12/2018 08:45', 'UnitPrice': 1.95, 'CustomerID': 12583, 'Country': 'France'}, {'InvoiceNo': 536370, 'StockCode': '22631', 'Description': 'CIRCUS PARADE LUNCH BOX ', 'Quantity': 24, 'InvoiceDate': '1/12/2018 08:45', 'UnitPrice': 1.95, 'CustomerID': 12583, 'Country': 'France'}, {'InvoiceNo': 536370, 'StockCode': '22661', 'Description': 'CHARLOTTE BAG DOLLY GIRL DESIGN', 'Quantity': 20, 'InvoiceDate': '1/12/2018 08:45', 'UnitPrice': 0.85, 'CustomerID': 12583, 'Country': 'France'}, {'InvoiceNo': 536370, 'StockCode': '21731', 'Description': 'RED TOADSTOOL LED NIGHT LIGHT', 'Quantity': 24, 'InvoiceDate': '1/12/2018 08:45', 'UnitPrice': 1.65, 'CustomerID': 12583, 'Country': 'France'}, {'InvoiceNo': 536370, 'StockCode': '22900', 'Description': ' SET 2 TEA TOWELS I LOVE LONDON ', 'Quantity': 24, 'InvoiceDate': '1/12/2018 08:45', 'UnitPrice': 2.95, 'CustomerID': 12583, 'Country': 'France'}, {'InvoiceNo': 536370, 'StockCode': '21913', 'Description': 'VINTAGE SEASIDE JIGSAW PUZZLES', 'Quantity': 12, 'InvoiceDate': '1/12/2018 08:45', 'UnitPrice': 3.75, 'CustomerID': 12583, 'Country': 'France'}, {'InvoiceNo': 536370, 'StockCode': '22540', 'Description': 'MINI JIGSAW CIRCUS PARADE ', 'Quantity': 24, 'InvoiceDate': '1/12/2018 08:45', 'UnitPrice': 0.42, 'CustomerID': 12583, 'Country': 'France'}, {'InvoiceNo': 536370, 'StockCode': '22544', 'Description': 'MINI JIGSAW SPACEBOY', 'Quantity': 24, 'InvoiceDate': '1/12/2018 08:45', 'UnitPrice': 0.42, 'CustomerID': 12583, 'Country': 'France'}, {'InvoiceNo': 536370, 'StockCode': '22492', 'Description': 'MINI PAINT SET VINTAGE ', 'Quantity': 36, 'InvoiceDate': '1/12/2018 08:45', 'UnitPrice': 0.65, 'CustomerID': 12583, 'Country': 'France'}, {'InvoiceNo': 536370, 'StockCode': 'POST', 'Description': 'POSTAGE', 'Quantity': 3, 'InvoiceDate': '1/12/2018 08:45', 'UnitPrice': 18.0, 'CustomerID': 12583, 'Country': 'France'}, {'InvoiceNo': 536371, 'StockCode': '22086', 'Description': \"PAPER CHAIN KIT 50'S CHRISTMAS \", 'Quantity': 80, 'InvoiceDate': '1/12/2018 09:00', 'UnitPrice': 2.55, 'CustomerID': 13748, 'Country': 'United Kingdom'}, {'InvoiceNo': 536372, 'StockCode': '22632', 'Description': 'HAND WARMER RED POLKA DOT', 'Quantity': 6, 'InvoiceDate': '1/12/2018 09:01', 'UnitPrice': 1.85, 'CustomerID': 17850, 'Country': 'United Kingdom'}, {'InvoiceNo': 536372, 'StockCode': '22633', 'Description': 'HAND WARMER UNION JACK', 'Quantity': 6, 'InvoiceDate': '1/12/2018 09:01', 'UnitPrice': 1.85, 'CustomerID': 17850, 'Country': 'United Kingdom'}, {'InvoiceNo': 536373, 'StockCode': '85123A', 'Description': 'WHITE HANGING HEART T-LIGHT HOLDER', 'Quantity': 6, 'InvoiceDate': '1/12/2018 09:02', 'UnitPrice': 2.55, 'CustomerID': 17850, 'Country': 'United Kingdom'}, {'InvoiceNo': 536373, 'StockCode': '71053', 'Description': 'WHITE METAL LANTERN', 'Quantity': 6, 'InvoiceDate': '1/12/2018 09:02', 'UnitPrice': 3.39, 'CustomerID': 17850, 'Country': 'United Kingdom'}, {'InvoiceNo': 536373, 'StockCode': '84406B', 'Description': 'CREAM CUPID HEARTS COAT HANGER', 'Quantity': 8, 'InvoiceDate': '1/12/2018 09:02', 'UnitPrice': 2.75, 'CustomerID': 17850, 'Country': 'United Kingdom'}, {'InvoiceNo': 536373, 'StockCode': '20679', 'Description': 'EDWARDIAN PARASOL RED', 'Quantity': 6, 'InvoiceDate': '1/12/2018 09:02', 'UnitPrice': 4.95, 'CustomerID': 17850, 'Country': 'United Kingdom'}, {'InvoiceNo': 536373, 'StockCode': '37370', 'Description': 'RETRO COFFEE MUGS ASSORTED', 'Quantity': 6, 'InvoiceDate': '1/12/2018 09:02', 'UnitPrice': 1.06, 'CustomerID': 17850, 'Country': 'United Kingdom'}, {'InvoiceNo': 536373, 'StockCode': '21871', 'Description': 'SAVE THE PLANET MUG', 'Quantity': 6, 'InvoiceDate': '1/12/2018 09:02', 'UnitPrice': 1.06, 'CustomerID': 17850, 'Country': 'United Kingdom'}, {'InvoiceNo': 536373, 'StockCode': '21071', 'Description': 'VINTAGE BILLBOARD DRINK ME MUG', 'Quantity': 6, 'InvoiceDate': '1/12/2018 09:02', 'UnitPrice': 1.06, 'CustomerID': 17850, 'Country': 'United Kingdom'}, {'InvoiceNo': 536373, 'StockCode': '21068', 'Description': 'VINTAGE BILLBOARD LOVE/HATE MUG', 'Quantity': 6, 'InvoiceDate': '1/12/2018 09:02', 'UnitPrice': 1.06, 'CustomerID': 17850, 'Country': 'United Kingdom'}, {'InvoiceNo': 536373, 'StockCode': '82483', 'Description': 'WOOD 2 DRAWER CABINET WHITE FINISH', 'Quantity': 2, 'InvoiceDate': '1/12/2018 09:02', 'UnitPrice': 4.95, 'CustomerID': 17850, 'Country': 'United Kingdom'}, {'InvoiceNo': 536373, 'StockCode': '82486', 'Description': 'WOOD S/3 CABINET ANT WHITE FINISH', 'Quantity': 4, 'InvoiceDate': '1/12/2018 09:02', 'UnitPrice': 6.95, 'CustomerID': 17850, 'Country': 'United Kingdom'}, {'InvoiceNo': 536373, 'StockCode': '82482', 'Description': 'WOODEN PICTURE FRAME WHITE FINISH', 'Quantity': 6, 'InvoiceDate': '1/12/2018 09:02', 'UnitPrice': 2.1, 'CustomerID': 17850, 'Country': 'United Kingdom'}, {'InvoiceNo': 536373, 'StockCode': '82494L', 'Description': 'WOODEN FRAME ANTIQUE WHITE ', 'Quantity': 6, 'InvoiceDate': '1/12/2018 09:02', 'UnitPrice': 2.55, 'CustomerID': 17850, 'Country': 'United Kingdom'}, {'InvoiceNo': 536373, 'StockCode': '84029G', 'Description': 'KNITTED UNION FLAG HOT WATER BOTTLE', 'Quantity': 6, 'InvoiceDate': '1/12/2018 09:02', 'UnitPrice': 3.39, 'CustomerID': 17850, 'Country': 'United Kingdom'}, {'InvoiceNo': 536373, 'StockCode': '84029E', 'Description': 'RED WOOLLY HOTTIE WHITE HEART.', 'Quantity': 6, 'InvoiceDate': '1/12/2018 09:02', 'UnitPrice': 3.39, 'CustomerID': 17850, 'Country': 'United Kingdom'}, {'InvoiceNo': 536373, 'StockCode': '22752', 'Description': 'SET 7 BABUSHKA NESTING BOXES', 'Quantity': 2, 'InvoiceDate': '1/12/2018 09:02', 'UnitPrice': 7.65, 'CustomerID': 17850, 'Country': 'United Kingdom'}, {'InvoiceNo': 536373, 'StockCode': '21730', 'Description': 'GLASS STAR FROSTED T-LIGHT HOLDER', 'Quantity': 6, 'InvoiceDate': '1/12/2018 09:02', 'UnitPrice': 4.25, 'CustomerID': 17850, 'Country': 'United Kingdom'}, {'InvoiceNo': 536374, 'StockCode': '21258', 'Description': 'VICTORIAN SEWING BOX LARGE', 'Quantity': 32, 'InvoiceDate': '1/12/2018 09:09', 'UnitPrice': 10.95, 'CustomerID': 15100, 'Country': 'United Kingdom'}, {'InvoiceNo': 536375, 'StockCode': '85123A', 'Description': 'WHITE HANGING HEART T-LIGHT HOLDER', 'Quantity': 6, 'InvoiceDate': '1/12/2018 09:32', 'UnitPrice': 2.55, 'CustomerID': 17850, 'Country': 'United Kingdom'}, {'InvoiceNo': 536375, 'StockCode': '71053', 'Description': 'WHITE METAL LANTERN', 'Quantity': 6, 'InvoiceDate': '1/12/2018 09:32', 'UnitPrice': 3.39, 'CustomerID': 17850, 'Country': 'United Kingdom'}, {'InvoiceNo': 536375, 'StockCode': '84406B', 'Description': 'CREAM CUPID HEARTS COAT HANGER', 'Quantity': 8, 'InvoiceDate': '1/12/2018 09:32', 'UnitPrice': 2.75, 'CustomerID': 17850, 'Country': 'United Kingdom'}, {'InvoiceNo': 536375, 'StockCode': '20679', 'Description': 'EDWARDIAN PARASOL RED', 'Quantity': 6, 'InvoiceDate': '1/12/2018 09:32', 'UnitPrice': 4.95, 'CustomerID': 17850, 'Country': 'United Kingdom'}, {'InvoiceNo': 536375, 'StockCode': '37370', 'Description': 'RETRO COFFEE MUGS ASSORTED', 'Quantity': 6, 'InvoiceDate': '1/12/2018 09:32', 'UnitPrice': 1.06, 'CustomerID': 17850, 'Country': 'United Kingdom'}, {'InvoiceNo': 536375, 'StockCode': '21871', 'Description': 'SAVE THE PLANET MUG', 'Quantity': 6, 'InvoiceDate': '1/12/2018 09:32', 'UnitPrice': 1.06, 'CustomerID': 17850, 'Country': 'United Kingdom'}, {'InvoiceNo': 536375, 'StockCode': '21071', 'Description': 'VINTAGE BILLBOARD DRINK ME MUG', 'Quantity': 6, 'InvoiceDate': '1/12/2018 09:32', 'UnitPrice': 1.06, 'CustomerID': 17850, 'Country': 'United Kingdom'}, {'InvoiceNo': 536375, 'StockCode': '21068', 'Description': 'VINTAGE BILLBOARD LOVE/HATE MUG', 'Quantity': 6, 'InvoiceDate': '1/12/2018 09:32', 'UnitPrice': 1.06, 'CustomerID': 17850, 'Country': 'United Kingdom'}, {'InvoiceNo': 536375, 'StockCode': '82483', 'Description': 'WOOD 2 DRAWER CABINET WHITE FINISH', 'Quantity': 2, 'InvoiceDate': '1/12/2018 09:32', 'UnitPrice': 4.95, 'CustomerID': 17850, 'Country': 'United Kingdom'}, {'InvoiceNo': 536375, 'StockCode': '82486', 'Description': 'WOOD S/3 CABINET ANT WHITE FINISH', 'Quantity': 4, 'InvoiceDate': '1/12/2018 09:32', 'UnitPrice': 6.95, 'CustomerID': 17850, 'Country': 'United Kingdom'}, {'InvoiceNo': 536375, 'StockCode': '82482', 'Description': 'WOODEN PICTURE FRAME WHITE FINISH', 'Quantity': 6, 'InvoiceDate': '1/12/2018 09:32', 'UnitPrice': 2.1, 'CustomerID': 17850, 'Country': 'United Kingdom'}, {'InvoiceNo': 536375, 'StockCode': '82494L', 'Description': 'WOODEN FRAME ANTIQUE WHITE ', 'Quantity': 6, 'InvoiceDate': '1/12/2018 09:32', 'UnitPrice': 2.55, 'CustomerID': 17850, 'Country': 'United Kingdom'}, {'InvoiceNo': 536375, 'StockCode': '84029G', 'Description': 'KNITTED UNION FLAG HOT WATER BOTTLE', 'Quantity': 6, 'InvoiceDate': '1/12/2018 09:32', 'UnitPrice': 3.39, 'CustomerID': 17850, 'Country': 'United Kingdom'}, {'InvoiceNo': 536375, 'StockCode': '84029E', 'Description': 'RED WOOLLY HOTTIE WHITE HEART.', 'Quantity': 6, 'InvoiceDate': '1/12/2018 09:32', 'UnitPrice': 3.39, 'CustomerID': 17850, 'Country': 'United Kingdom'}, {'InvoiceNo': 536375, 'StockCode': '22752', 'Description': 'SET 7 BABUSHKA NESTING BOXES', 'Quantity': 2, 'InvoiceDate': '1/12/2018 09:32', 'UnitPrice': 7.65, 'CustomerID': 17850, 'Country': 'United Kingdom'}, {'InvoiceNo': 536375, 'StockCode': '21730', 'Description': 'GLASS STAR FROSTED T-LIGHT HOLDER', 'Quantity': 6, 'InvoiceDate': '1/12/2018 09:32', 'UnitPrice': 4.25, 'CustomerID': 17850, 'Country': 'United Kingdom'}, {'InvoiceNo': 536376, 'StockCode': '22114', 'Description': 'HOT WATER BOTTLE TEA AND SYMPATHY', 'Quantity': 48, 'InvoiceDate': '1/12/2018 09:32', 'UnitPrice': 3.45, 'CustomerID': 15291, 'Country': 'United Kingdom'}, {'InvoiceNo': 536376, 'StockCode': '21733', 'Description': 'RED HANGING HEART T-LIGHT HOLDER', 'Quantity': 64, 'InvoiceDate': '1/12/2018 09:32', 'UnitPrice': 2.55, 'CustomerID': 15291, 'Country': 'United Kingdom'}, {'InvoiceNo': 536377, 'StockCode': '22632', 'Description': 'HAND WARMER RED POLKA DOT', 'Quantity': 6, 'InvoiceDate': '1/12/2018 09:34', 'UnitPrice': 1.85, 'CustomerID': 17850, 'Country': 'United Kingdom'}, {'InvoiceNo': 536377, 'StockCode': '22633', 'Description': 'HAND WARMER UNION JACK', 'Quantity': 6, 'InvoiceDate': '1/12/2018 09:34', 'UnitPrice': 1.85, 'CustomerID': 17850, 'Country': 'United Kingdom'}, {'InvoiceNo': 536378, 'StockCode': '22386', 'Description': 'JUMBO BAG PINK POLKADOT', 'Quantity': 10, 'InvoiceDate': '1/12/2018 09:37', 'UnitPrice': 1.95, 'CustomerID': 14688, 'Country': 'United Kingdom'}, {'InvoiceNo': 536378, 'StockCode': '85099C', 'Description': 'JUMBO  BAG BAROQUE BLACK WHITE', 'Quantity': 10, 'InvoiceDate': '1/12/2018 09:37', 'UnitPrice': 1.95, 'CustomerID': 14688, 'Country': 'United Kingdom'}, {'InvoiceNo': 536378, 'StockCode': '21033', 'Description': 'JUMBO BAG CHARLIE AND LOLA TOYS', 'Quantity': 10, 'InvoiceDate': '1/12/2018 09:37', 'UnitPrice': 2.95, 'CustomerID': 14688, 'Country': 'United Kingdom'}, {'InvoiceNo': 536378, 'StockCode': '20723', 'Description': 'STRAWBERRY CHARLOTTE BAG', 'Quantity': 10, 'InvoiceDate': '1/12/2018 09:37', 'UnitPrice': 0.85, 'CustomerID': 14688, 'Country': 'United Kingdom'}, {'InvoiceNo': 536378, 'StockCode': '84997B', 'Description': 'RED 3 PIECE RETROSPOT CUTLERY SET', 'Quantity': 12, 'InvoiceDate': '1/12/2018 09:37', 'UnitPrice': 3.75, 'CustomerID': 14688, 'Country': 'United Kingdom'}, {'InvoiceNo': 536378, 'StockCode': '84997C', 'Description': 'BLUE 3 PIECE POLKADOT CUTLERY SET', 'Quantity': 6, 'InvoiceDate': '1/12/2018 09:37', 'UnitPrice': 3.75, 'CustomerID': 14688, 'Country': 'United Kingdom'}, {'InvoiceNo': 536378, 'StockCode': '21094', 'Description': 'SET/6 RED SPOTTY PAPER PLATES', 'Quantity': 12, 'InvoiceDate': '1/12/2018 09:37', 'UnitPrice': 0.85, 'CustomerID': 14688, 'Country': 'United Kingdom'}, {'InvoiceNo': 536378, 'StockCode': '20725', 'Description': 'LUNCH BAG RED RETROSPOT', 'Quantity': 10, 'InvoiceDate': '1/12/2018 09:37', 'UnitPrice': 1.65, 'CustomerID': 14688, 'Country': 'United Kingdom'}, {'InvoiceNo': 536378, 'StockCode': '21559', 'Description': 'STRAWBERRY LUNCH BOX WITH CUTLERY', 'Quantity': 6, 'InvoiceDate': '1/12/2018 09:37', 'UnitPrice': 2.55, 'CustomerID': 14688, 'Country': 'United Kingdom'}, {'InvoiceNo': 536378, 'StockCode': '22352', 'Description': 'LUNCH BOX WITH CUTLERY RETROSPOT ', 'Quantity': 6, 'InvoiceDate': '1/12/2018 09:37', 'UnitPrice': 2.55, 'CustomerID': 14688, 'Country': 'United Kingdom'}, {'InvoiceNo': 536378, 'StockCode': '21212', 'Description': 'PACK OF 72 RETROSPOT CAKE CASES', 'Quantity': 120, 'InvoiceDate': '1/12/2018 09:37', 'UnitPrice': 0.42, 'CustomerID': 14688, 'Country': 'United Kingdom'}, {'InvoiceNo': 536378, 'StockCode': '21975', 'Description': 'PACK OF 60 DINOSAUR CAKE CASES', 'Quantity': 24, 'InvoiceDate': '1/12/2018 09:37', 'UnitPrice': 0.55, 'CustomerID': 14688, 'Country': 'United Kingdom'}, {'InvoiceNo': 536378, 'StockCode': '21977', 'Description': 'PACK OF 60 PINK PAISLEY CAKE CASES', 'Quantity': 24, 'InvoiceDate': '1/12/2018 09:37', 'UnitPrice': 0.55, 'CustomerID': 14688, 'Country': 'United Kingdom'}, {'InvoiceNo': 536378, 'StockCode': '84991', 'Description': '60 TEATIME FAIRY CAKE CASES', 'Quantity': 24, 'InvoiceDate': '1/12/2018 09:37', 'UnitPrice': 0.55, 'CustomerID': 14688, 'Country': 'United Kingdom'}, {'InvoiceNo': 536378, 'StockCode': '84519A', 'Description': 'TOMATO CHARLIE+LOLA COASTER SET', 'Quantity': 6, 'InvoiceDate': '1/12/2018 09:37', 'UnitPrice': 2.95, 'CustomerID': 14688, 'Country': 'United Kingdom'}, {'InvoiceNo': 536378, 'StockCode': '85183B', 'Description': 'CHARLIE & LOLA WASTEPAPER BIN FLORA', 'Quantity': 48, 'InvoiceDate': '1/12/2018 09:37', 'UnitPrice': 1.25, 'CustomerID': 14688, 'Country': 'United Kingdom'}, {'InvoiceNo': 536378, 'StockCode': '85071B', 'Description': 'RED CHARLIE+LOLA PERSONAL DOORSIGN', 'Quantity': 96, 'InvoiceDate': '1/12/2018 09:37', 'UnitPrice': 0.38, 'CustomerID': 14688, 'Country': 'United Kingdom'}, {'InvoiceNo': 536378, 'StockCode': '21931', 'Description': 'JUMBO STORAGE BAG SUKI', 'Quantity': 10, 'InvoiceDate': '1/12/2018 09:37', 'UnitPrice': 1.95, 'CustomerID': 14688, 'Country': 'United Kingdom'}, {'InvoiceNo': 536378, 'StockCode': '21929', 'Description': 'JUMBO BAG PINK VINTAGE PAISLEY', 'Quantity': 10, 'InvoiceDate': '1/12/2018 09:37', 'UnitPrice': 1.95, 'CustomerID': 14688, 'Country': 'United Kingdom'}, {'InvoiceNo': 536380, 'StockCode': '22961', 'Description': 'JAM MAKING SET PRINTED', 'Quantity': 24, 'InvoiceDate': '1/12/2018 09:41', 'UnitPrice': 1.45, 'CustomerID': 17809, 'Country': 'United Kingdom'}, {'InvoiceNo': 536381, 'StockCode': '22139', 'Description': 'RETROSPOT TEA SET CERAMIC 11 PC ', 'Quantity': 23, 'InvoiceDate': '1/12/2018 09:41', 'UnitPrice': 4.25, 'CustomerID': 15311, 'Country': 'United Kingdom'}, {'InvoiceNo': 536381, 'StockCode': '84854', 'Description': 'GIRLY PINK TOOL SET', 'Quantity': 5, 'InvoiceDate': '1/12/2018 09:41', 'UnitPrice': 4.95, 'CustomerID': 15311, 'Country': 'United Kingdom'}, {'InvoiceNo': 536381, 'StockCode': '22411', 'Description': 'JUMBO SHOPPER VINTAGE RED PAISLEY', 'Quantity': 10, 'InvoiceDate': '1/12/2018 09:41', 'UnitPrice': 1.95, 'CustomerID': 15311, 'Country': 'United Kingdom'}, {'InvoiceNo': 536381, 'StockCode': '82567', 'Description': 'AIRLINE LOUNGE,METAL SIGN', 'Quantity': 2, 'InvoiceDate': '1/12/2018 09:41', 'UnitPrice': 2.1, 'CustomerID': 15311, 'Country': 'United Kingdom'}, {'InvoiceNo': 536381, 'StockCode': '21672', 'Description': 'WHITE SPOT RED CERAMIC DRAWER KNOB', 'Quantity': 6, 'InvoiceDate': '1/12/2018 09:41', 'UnitPrice': 1.25, 'CustomerID': 15311, 'Country': 'United Kingdom'}, {'InvoiceNo': 536381, 'StockCode': '22774', 'Description': 'RED DRAWER KNOB ACRYLIC EDWARDIAN', 'Quantity': 24, 'InvoiceDate': '1/12/2018 09:41', 'UnitPrice': 1.25, 'CustomerID': 15311, 'Country': 'United Kingdom'}, {'InvoiceNo': 536381, 'StockCode': '22771', 'Description': 'CLEAR DRAWER KNOB ACRYLIC EDWARDIAN', 'Quantity': 24, 'InvoiceDate': '1/12/2018 09:41', 'UnitPrice': 1.25, 'CustomerID': 15311, 'Country': 'United Kingdom'}, {'InvoiceNo': 536381, 'StockCode': '71270', 'Description': 'PHOTO CLIP LINE', 'Quantity': 1, 'InvoiceDate': '1/12/2018 09:41', 'UnitPrice': 1.25, 'CustomerID': 15311, 'Country': 'United Kingdom'}, {'InvoiceNo': 536381, 'StockCode': '22262', 'Description': 'FELT EGG COSY CHICKEN', 'Quantity': 1, 'InvoiceDate': '1/12/2018 09:41', 'UnitPrice': 0.85, 'CustomerID': 15311, 'Country': 'United Kingdom'}, {'InvoiceNo': 536381, 'StockCode': '22637', 'Description': 'PIGGY BANK RETROSPOT ', 'Quantity': 1, 'InvoiceDate': '1/12/2018 09:41', 'UnitPrice': 2.55, 'CustomerID': 15311, 'Country': 'United Kingdom'}, {'InvoiceNo': 536381, 'StockCode': '21934', 'Description': 'SKULL SHOULDER BAG', 'Quantity': 10, 'InvoiceDate': '1/12/2018 09:41', 'UnitPrice': 1.65, 'CustomerID': 15311, 'Country': 'United Kingdom'}, {'InvoiceNo': 536381, 'StockCode': '21169', 'Description': \"YOU'RE CONFUSING ME METAL SIGN \", 'Quantity': 3, 'InvoiceDate': '1/12/2018 09:41', 'UnitPrice': 1.69, 'CustomerID': 15311, 'Country': 'United Kingdom'}, {'InvoiceNo': 536381, 'StockCode': '21166', 'Description': 'COOK WITH WINE METAL SIGN ', 'Quantity': 1, 'InvoiceDate': '1/12/2018 09:41', 'UnitPrice': 1.95, 'CustomerID': 15311, 'Country': 'United Kingdom'}, {'InvoiceNo': 536381, 'StockCode': '21175', 'Description': 'GIN + TONIC DIET METAL SIGN', 'Quantity': 2, 'InvoiceDate': '1/12/2018 09:41', 'UnitPrice': 2.1, 'CustomerID': 15311, 'Country': 'United Kingdom'}, {'InvoiceNo': 536381, 'StockCode': '37444A', 'Description': 'YELLOW BREAKFAST CUP AND SAUCER', 'Quantity': 1, 'InvoiceDate': '1/12/2018 09:41', 'UnitPrice': 2.95, 'CustomerID': 15311, 'Country': 'United Kingdom'}, {'InvoiceNo': 536381, 'StockCode': '37444C', 'Description': 'PINK BREAKFAST CUP AND SAUCER ', 'Quantity': 1, 'InvoiceDate': '1/12/2018 09:41', 'UnitPrice': 2.95, 'CustomerID': 15311, 'Country': 'United Kingdom'}, {'InvoiceNo': 536381, 'StockCode': '22086', 'Description': \"PAPER CHAIN KIT 50'S CHRISTMAS \", 'Quantity': 4, 'InvoiceDate': '1/12/2018 09:41', 'UnitPrice': 2.95, 'CustomerID': 15311, 'Country': 'United Kingdom'}, {'InvoiceNo': 536381, 'StockCode': '22083', 'Description': 'PAPER CHAIN KIT RETROSPOT', 'Quantity': 1, 'InvoiceDate': '1/12/2018 09:41', 'UnitPrice': 2.95, 'CustomerID': 15311, 'Country': 'United Kingdom'}, {'InvoiceNo': 536381, 'StockCode': '84971S', 'Description': 'SMALL HEART FLOWERS HOOK ', 'Quantity': 6, 'InvoiceDate': '1/12/2018 09:41', 'UnitPrice': 0.85, 'CustomerID': 15311, 'Country': 'United Kingdom'}, {'InvoiceNo': 536381, 'StockCode': '71270', 'Description': 'PHOTO CLIP LINE', 'Quantity': 3, 'InvoiceDate': '1/12/2018 09:41', 'UnitPrice': 1.25, 'CustomerID': 15311, 'Country': 'United Kingdom'}, {'InvoiceNo': 536381, 'StockCode': '47580', 'Description': 'TEA TIME DES TEA COSY', 'Quantity': 2, 'InvoiceDate': '1/12/2018 09:41', 'UnitPrice': 2.55, 'CustomerID': 15311, 'Country': 'United Kingdom'}, {'InvoiceNo': 536381, 'StockCode': '22261', 'Description': 'FELT EGG COSY WHITE RABBIT ', 'Quantity': 1, 'InvoiceDate': '1/12/2018 09:41', 'UnitPrice': 0.85, 'CustomerID': 15311, 'Country': 'United Kingdom'}, {'InvoiceNo': 536381, 'StockCode': '84832', 'Description': 'ZINC WILLIE WINKIE  CANDLE STICK', 'Quantity': 1, 'InvoiceDate': '1/12/2018 09:41', 'UnitPrice': 0.85, 'CustomerID': 15311, 'Country': 'United Kingdom'}, {'InvoiceNo': 536381, 'StockCode': '22644', 'Description': 'CERAMIC CHERRY CAKE MONEY BANK', 'Quantity': 1, 'InvoiceDate': '1/12/2018 09:41', 'UnitPrice': 1.45, 'CustomerID': 15311, 'Country': 'United Kingdom'}, {'InvoiceNo': 536381, 'StockCode': '21533', 'Description': 'RETROSPOT LARGE MILK JUG', 'Quantity': 1, 'InvoiceDate': '1/12/2018 09:41', 'UnitPrice': 4.95, 'CustomerID': 15311, 'Country': 'United Kingdom'}, {'InvoiceNo': 536381, 'StockCode': '21557', 'Description': 'SET OF 6 FUNKY BEAKERS', 'Quantity': 2, 'InvoiceDate': '1/12/2018 09:41', 'UnitPrice': 2.95, 'CustomerID': 15311, 'Country': 'United Kingdom'}, {'InvoiceNo': 536381, 'StockCode': '15056BL', 'Description': 'EDWARDIAN PARASOL BLACK', 'Quantity': 2, 'InvoiceDate': '1/12/2018 09:41', 'UnitPrice': 5.95, 'CustomerID': 15311, 'Country': 'United Kingdom'}, {'InvoiceNo': 536381, 'StockCode': '15056N', 'Description': 'EDWARDIAN PARASOL NATURAL', 'Quantity': 2, 'InvoiceDate': '1/12/2018 09:41', 'UnitPrice': 5.95, 'CustomerID': 15311, 'Country': 'United Kingdom'}, {'InvoiceNo': 536381, 'StockCode': '22646', 'Description': 'CERAMIC STRAWBERRY CAKE MONEY BANK', 'Quantity': 4, 'InvoiceDate': '1/12/2018 09:41', 'UnitPrice': 1.45, 'CustomerID': 15311, 'Country': 'United Kingdom'}, {'InvoiceNo': 536381, 'StockCode': '22176', 'Description': 'BLUE OWL SOFT TOY', 'Quantity': 1, 'InvoiceDate': '1/12/2018 09:41', 'UnitPrice': 2.95, 'CustomerID': 15311, 'Country': 'United Kingdom'}, {'InvoiceNo': 536381, 'StockCode': '22438', 'Description': 'BALLOON ART MAKE YOUR OWN FLOWERS', 'Quantity': 1, 'InvoiceDate': '1/12/2018 09:41', 'UnitPrice': 1.95, 'CustomerID': 15311, 'Country': 'United Kingdom'}, {'InvoiceNo': 536381, 'StockCode': '21731', 'Description': 'RED TOADSTOOL LED NIGHT LIGHT', 'Quantity': 2, 'InvoiceDate': '1/12/2018 09:41', 'UnitPrice': 1.65, 'CustomerID': 15311, 'Country': 'United Kingdom'}, {'InvoiceNo': 536381, 'StockCode': '22778', 'Description': 'GLASS CLOCHE SMALL', 'Quantity': 3, 'InvoiceDate': '1/12/2018 09:41', 'UnitPrice': 3.95, 'CustomerID': 15311, 'Country': 'United Kingdom'}, {'InvoiceNo': 536381, 'StockCode': '22719', 'Description': 'GUMBALL MONOCHROME COAT RACK', 'Quantity': 36, 'InvoiceDate': '1/12/2018 09:41', 'UnitPrice': 1.06, 'CustomerID': 15311, 'Country': 'United Kingdom'}, {'InvoiceNo': 536381, 'StockCode': '21523', 'Description': 'DOORMAT FANCY FONT HOME SWEET HOME', 'Quantity': 10, 'InvoiceDate': '1/12/2018 09:41', 'UnitPrice': 6.75, 'CustomerID': 15311, 'Country': 'United Kingdom'}, {'InvoiceNo': 536382, 'StockCode': '10002', 'Description': 'INFLATABLE POLITICAL GLOBE ', 'Quantity': 12, 'InvoiceDate': '1/12/2018 09:45', 'UnitPrice': 0.85, 'CustomerID': 16098, 'Country': 'United Kingdom'}, {'InvoiceNo': 536382, 'StockCode': '21912', 'Description': 'VINTAGE SNAKES & LADDERS', 'Quantity': 8, 'InvoiceDate': '1/12/2018 09:45', 'UnitPrice': 3.75, 'CustomerID': 16098, 'Country': 'United Kingdom'}, {'InvoiceNo': 536382, 'StockCode': '21832', 'Description': 'CHOCOLATE CALCULATOR', 'Quantity': 12, 'InvoiceDate': '1/12/2018 09:45', 'UnitPrice': 1.65, 'CustomerID': 16098, 'Country': 'United Kingdom'}, {'InvoiceNo': 536382, 'StockCode': '22411', 'Description': 'JUMBO SHOPPER VINTAGE RED PAISLEY', 'Quantity': 10, 'InvoiceDate': '1/12/2018 09:45', 'UnitPrice': 1.95, 'CustomerID': 16098, 'Country': 'United Kingdom'}, {'InvoiceNo': 536382, 'StockCode': '22379', 'Description': 'RECYCLING BAG RETROSPOT ', 'Quantity': 10, 'InvoiceDate': '1/12/2018 09:45', 'UnitPrice': 2.1, 'CustomerID': 16098, 'Country': 'United Kingdom'}, {'InvoiceNo': 536382, 'StockCode': '22381', 'Description': 'TOY TIDY PINK POLKADOT', 'Quantity': 50, 'InvoiceDate': '1/12/2018 09:45', 'UnitPrice': 1.85, 'CustomerID': 16098, 'Country': 'United Kingdom'}, {'InvoiceNo': 536382, 'StockCode': '22798', 'Description': 'ANTIQUE GLASS DRESSING TABLE POT', 'Quantity': 8, 'InvoiceDate': '1/12/2018 09:45', 'UnitPrice': 2.95, 'CustomerID': 16098, 'Country': 'United Kingdom'}, {'InvoiceNo': 536382, 'StockCode': '22726', 'Description': 'ALARM CLOCK BAKELIKE GREEN', 'Quantity': 4, 'InvoiceDate': '1/12/2018 09:45', 'UnitPrice': 3.75, 'CustomerID': 16098, 'Country': 'United Kingdom'}, {'InvoiceNo': 536382, 'StockCode': '22926', 'Description': 'IVORY GIANT GARDEN THERMOMETER', 'Quantity': 12, 'InvoiceDate': '1/12/2018 09:45', 'UnitPrice': 5.95, 'CustomerID': 16098, 'Country': 'United Kingdom'}, {'InvoiceNo': 536382, 'StockCode': '22839', 'Description': '3 TIER CAKE TIN GREEN AND CREAM', 'Quantity': 2, 'InvoiceDate': '1/12/2018 09:45', 'UnitPrice': 14.95, 'CustomerID': 16098, 'Country': 'United Kingdom'}, {'InvoiceNo': 536382, 'StockCode': '22838', 'Description': '3 TIER CAKE TIN RED AND CREAM', 'Quantity': 2, 'InvoiceDate': '1/12/2018 09:45', 'UnitPrice': 14.95, 'CustomerID': 16098, 'Country': 'United Kingdom'}, {'InvoiceNo': 536382, 'StockCode': '22783', 'Description': 'SET 3 WICKER OVAL BASKETS W LIDS', 'Quantity': 4, 'InvoiceDate': '1/12/2018 09:45', 'UnitPrice': 16.95, 'CustomerID': 16098, 'Country': 'United Kingdom'}, {'InvoiceNo': 536384, 'StockCode': '82484', 'Description': 'WOOD BLACK BOARD ANT WHITE FINISH', 'Quantity': 3, 'InvoiceDate': '1/12/2018 09:53', 'UnitPrice': 6.45, 'CustomerID': 18074, 'Country': 'United Kingdom'}, {'InvoiceNo': 536384, 'StockCode': '84755', 'Description': 'COLOUR GLASS T-LIGHT HOLDER HANGING', 'Quantity': 48, 'InvoiceDate': '1/12/2018 09:53', 'UnitPrice': 0.65, 'CustomerID': 18074, 'Country': 'United Kingdom'}, {'InvoiceNo': 536384, 'StockCode': '22464', 'Description': 'HANGING METAL HEART LANTERN', 'Quantity': 12, 'InvoiceDate': '1/12/2018 09:53', 'UnitPrice': 1.65, 'CustomerID': 18074, 'Country': 'United Kingdom'}, {'InvoiceNo': 536384, 'StockCode': '21324', 'Description': 'HANGING MEDINA LANTERN SMALL', 'Quantity': 6, 'InvoiceDate': '1/12/2018 09:53', 'UnitPrice': 2.95, 'CustomerID': 18074, 'Country': 'United Kingdom'}, {'InvoiceNo': 536384, 'StockCode': '22457', 'Description': 'NATURAL SLATE HEART CHALKBOARD ', 'Quantity': 12, 'InvoiceDate': '1/12/2018 09:53', 'UnitPrice': 2.95, 'CustomerID': 18074, 'Country': 'United Kingdom'}, {'InvoiceNo': 536384, 'StockCode': '22469', 'Description': 'HEART OF WICKER SMALL', 'Quantity': 40, 'InvoiceDate': '1/12/2018 09:53', 'UnitPrice': 1.45, 'CustomerID': 18074, 'Country': 'United Kingdom'}, {'InvoiceNo': 536384, 'StockCode': '22470', 'Description': 'HEART OF WICKER LARGE', 'Quantity': 40, 'InvoiceDate': '1/12/2018 09:53', 'UnitPrice': 2.55, 'CustomerID': 18074, 'Country': 'United Kingdom'}, {'InvoiceNo': 536384, 'StockCode': '22224', 'Description': 'WHITE LOVEBIRD LANTERN', 'Quantity': 6, 'InvoiceDate': '1/12/2018 09:53', 'UnitPrice': 2.95, 'CustomerID': 18074, 'Country': 'United Kingdom'}, {'InvoiceNo': 536384, 'StockCode': '21340', 'Description': 'CLASSIC METAL BIRDCAGE PLANT HOLDER', 'Quantity': 2, 'InvoiceDate': '1/12/2018 09:53', 'UnitPrice': 12.75, 'CustomerID': 18074, 'Country': 'United Kingdom'}, {'InvoiceNo': 536384, 'StockCode': '22189', 'Description': 'CREAM HEART CARD HOLDER', 'Quantity': 4, 'InvoiceDate': '1/12/2018 09:53', 'UnitPrice': 3.95, 'CustomerID': 18074, 'Country': 'United Kingdom'}, {'InvoiceNo': 536384, 'StockCode': '22427', 'Description': 'ENAMEL FLOWER JUG CREAM', 'Quantity': 3, 'InvoiceDate': '1/12/2018 09:53', 'UnitPrice': 5.95, 'CustomerID': 18074, 'Country': 'United Kingdom'}, {'InvoiceNo': 536384, 'StockCode': '22428', 'Description': 'ENAMEL FIRE BUCKET CREAM', 'Quantity': 6, 'InvoiceDate': '1/12/2018 09:53', 'UnitPrice': 6.95, 'CustomerID': 18074, 'Country': 'United Kingdom'}, {'InvoiceNo': 536384, 'StockCode': '22424', 'Description': 'ENAMEL BREAD BIN CREAM', 'Quantity': 8, 'InvoiceDate': '1/12/2018 09:53', 'UnitPrice': 10.95, 'CustomerID': 18074, 'Country': 'United Kingdom'}, {'InvoiceNo': 536385, 'StockCode': '22783', 'Description': 'SET 3 WICKER OVAL BASKETS W LIDS', 'Quantity': 1, 'InvoiceDate': '1/12/2018 09:56', 'UnitPrice': 19.95, 'CustomerID': 17420, 'Country': 'United Kingdom'}, {'InvoiceNo': 536385, 'StockCode': '22961', 'Description': 'JAM MAKING SET PRINTED', 'Quantity': 12, 'InvoiceDate': '1/12/2018 09:56', 'UnitPrice': 1.45, 'CustomerID': 17420, 'Country': 'United Kingdom'}, {'InvoiceNo': 536385, 'StockCode': '22960', 'Description': 'JAM MAKING SET WITH JARS', 'Quantity': 6, 'InvoiceDate': '1/12/2018 09:56', 'UnitPrice': 4.25, 'CustomerID': 17420, 'Country': 'United Kingdom'}, {'InvoiceNo': 536385, 'StockCode': '22663', 'Description': 'JUMBO BAG DOLLY GIRL DESIGN', 'Quantity': 10, 'InvoiceDate': '1/12/2018 09:56', 'UnitPrice': 1.95, 'CustomerID': 17420, 'Country': 'United Kingdom'}, {'InvoiceNo': 536385, 'StockCode': '85049A', 'Description': 'TRADITIONAL CHRISTMAS RIBBONS', 'Quantity': 12, 'InvoiceDate': '1/12/2018 09:56', 'UnitPrice': 1.25, 'CustomerID': 17420, 'Country': 'United Kingdom'}, {'InvoiceNo': 536385, 'StockCode': '22168', 'Description': 'ORGANISER WOOD ANTIQUE WHITE ', 'Quantity': 2, 'InvoiceDate': '1/12/2018 09:56', 'UnitPrice': 8.5, 'CustomerID': 17420, 'Country': 'United Kingdom'}, {'InvoiceNo': 536385, 'StockCode': '22662', 'Description': 'LUNCH BAG DOLLY GIRL DESIGN', 'Quantity': 10, 'InvoiceDate': '1/12/2018 09:56', 'UnitPrice': 1.65, 'CustomerID': 17420, 'Country': 'United Kingdom'}, {'InvoiceNo': 536386, 'StockCode': '84880', 'Description': 'WHITE WIRE EGG HOLDER', 'Quantity': 36, 'InvoiceDate': '1/12/2018 09:57', 'UnitPrice': 4.95, 'CustomerID': 16029, 'Country': 'United Kingdom'}, {'InvoiceNo': 536386, 'StockCode': '85099C', 'Description': 'JUMBO  BAG BAROQUE BLACK WHITE', 'Quantity': 100, 'InvoiceDate': '1/12/2018 09:57', 'UnitPrice': 1.65, 'CustomerID': 16029, 'Country': 'United Kingdom'}, {'InvoiceNo': 536386, 'StockCode': '85099B', 'Description': 'JUMBO BAG RED RETROSPOT', 'Quantity': 100, 'InvoiceDate': '1/12/2018 09:57', 'UnitPrice': 1.65, 'CustomerID': 16029, 'Country': 'United Kingdom'}, {'InvoiceNo': 536387, 'StockCode': '79321', 'Description': 'CHILLI LIGHTS', 'Quantity': 192, 'InvoiceDate': '1/12/2018 09:58', 'UnitPrice': 3.82, 'CustomerID': 16029, 'Country': 'United Kingdom'}, {'InvoiceNo': 536387, 'StockCode': '22780', 'Description': 'LIGHT GARLAND BUTTERFILES PINK', 'Quantity': 192, 'InvoiceDate': '1/12/2018 09:58', 'UnitPrice': 3.37, 'CustomerID': 16029, 'Country': 'United Kingdom'}, {'InvoiceNo': 536387, 'StockCode': '22779', 'Description': 'WOODEN OWLS LIGHT GARLAND ', 'Quantity': 192, 'InvoiceDate': '1/12/2018 09:58', 'UnitPrice': 3.37, 'CustomerID': 16029, 'Country': 'United Kingdom'}, {'InvoiceNo': 536387, 'StockCode': '22466', 'Description': 'FAIRY TALE COTTAGE NIGHTLIGHT', 'Quantity': 432, 'InvoiceDate': '1/12/2018 09:58', 'UnitPrice': 1.45, 'CustomerID': 16029, 'Country': 'United Kingdom'}, {'InvoiceNo': 536387, 'StockCode': '21731', 'Description': 'RED TOADSTOOL LED NIGHT LIGHT', 'Quantity': 432, 'InvoiceDate': '1/12/2018 09:58', 'UnitPrice': 1.25, 'CustomerID': 16029, 'Country': 'United Kingdom'}, {'InvoiceNo': 536388, 'StockCode': '21754', 'Description': 'HOME BUILDING BLOCK WORD', 'Quantity': 3, 'InvoiceDate': '1/12/2018 09:59', 'UnitPrice': 5.95, 'CustomerID': 16250, 'Country': 'United Kingdom'}, {'InvoiceNo': 536388, 'StockCode': '21755', 'Description': 'LOVE BUILDING BLOCK WORD', 'Quantity': 3, 'InvoiceDate': '1/12/2018 09:59', 'UnitPrice': 5.95, 'CustomerID': 16250, 'Country': 'United Kingdom'}, {'InvoiceNo': 536388, 'StockCode': '21523', 'Description': 'DOORMAT FANCY FONT HOME SWEET HOME', 'Quantity': 2, 'InvoiceDate': '1/12/2018 09:59', 'UnitPrice': 7.95, 'CustomerID': 16250, 'Country': 'United Kingdom'}, {'InvoiceNo': 536388, 'StockCode': '21363', 'Description': 'HOME SMALL WOOD LETTERS', 'Quantity': 3, 'InvoiceDate': '1/12/2018 09:59', 'UnitPrice': 4.95, 'CustomerID': 16250, 'Country': 'United Kingdom'}, {'InvoiceNo': 536388, 'StockCode': '21411', 'Description': 'GINGHAM HEART  DOORSTOP RED', 'Quantity': 3, 'InvoiceDate': '1/12/2018 09:59', 'UnitPrice': 4.25, 'CustomerID': 16250, 'Country': 'United Kingdom'}, {'InvoiceNo': 536388, 'StockCode': '22318', 'Description': 'FIVE HEART HANGING DECORATION', 'Quantity': 6, 'InvoiceDate': '1/12/2018 09:59', 'UnitPrice': 2.95, 'CustomerID': 16250, 'Country': 'United Kingdom'}, {'InvoiceNo': 536388, 'StockCode': '22464', 'Description': 'HANGING METAL HEART LANTERN', 'Quantity': 12, 'InvoiceDate': '1/12/2018 09:59', 'UnitPrice': 1.65, 'CustomerID': 16250, 'Country': 'United Kingdom'}, {'InvoiceNo': 536388, 'StockCode': '22915', 'Description': 'ASSORTED BOTTLE TOP  MAGNETS ', 'Quantity': 12, 'InvoiceDate': '1/12/2018 09:59', 'UnitPrice': 0.42, 'CustomerID': 16250, 'Country': 'United Kingdom'}, {'InvoiceNo': 536388, 'StockCode': '22922', 'Description': 'FRIDGE MAGNETS US DINER ASSORTED', 'Quantity': 12, 'InvoiceDate': '1/12/2018 09:59', 'UnitPrice': 0.85, 'CustomerID': 16250, 'Country': 'United Kingdom'}, {'InvoiceNo': 536388, 'StockCode': '22969', 'Description': 'HOMEMADE JAM SCENTED CANDLES', 'Quantity': 12, 'InvoiceDate': '1/12/2018 09:59', 'UnitPrice': 1.45, 'CustomerID': 16250, 'Country': 'United Kingdom'}, {'InvoiceNo': 536388, 'StockCode': '22923', 'Description': 'FRIDGE MAGNETS LES ENFANTS ASSORTED', 'Quantity': 12, 'InvoiceDate': '1/12/2018 09:59', 'UnitPrice': 0.85, 'CustomerID': 16250, 'Country': 'United Kingdom'}, {'InvoiceNo': 536388, 'StockCode': '21115', 'Description': 'ROSE CARAVAN DOORSTOP', 'Quantity': 4, 'InvoiceDate': '1/12/2018 09:59', 'UnitPrice': 6.75, 'CustomerID': 16250, 'Country': 'United Kingdom'}, {'InvoiceNo': 536388, 'StockCode': '22469', 'Description': 'HEART OF WICKER SMALL', 'Quantity': 12, 'InvoiceDate': '1/12/2018 09:59', 'UnitPrice': 1.65, 'CustomerID': 16250, 'Country': 'United Kingdom'}, {'InvoiceNo': 536388, 'StockCode': '22242', 'Description': '5 HOOK HANGER MAGIC TOADSTOOL', 'Quantity': 12, 'InvoiceDate': '1/12/2018 09:59', 'UnitPrice': 1.65, 'CustomerID': 16250, 'Country': 'United Kingdom'}, {'InvoiceNo': 536389, 'StockCode': '22941', 'Description': 'CHRISTMAS LIGHTS 10 REINDEER', 'Quantity': 6, 'InvoiceDate': '1/12/2018 10:03', 'UnitPrice': 8.5, 'CustomerID': 12431, 'Country': 'Australia'}, {'InvoiceNo': 536389, 'StockCode': '21622', 'Description': 'VINTAGE UNION JACK CUSHION COVER', 'Quantity': 8, 'InvoiceDate': '1/12/2018 10:03', 'UnitPrice': 4.95, 'CustomerID': 12431, 'Country': 'Australia'}, {'InvoiceNo': 536389, 'StockCode': '21791', 'Description': 'VINTAGE HEADS AND TAILS CARD GAME ', 'Quantity': 12, 'InvoiceDate': '1/12/2018 10:03', 'UnitPrice': 1.25, 'CustomerID': 12431, 'Country': 'Australia'}, {'InvoiceNo': 536389, 'StockCode': '35004C', 'Description': 'SET OF 3 COLOURED  FLYING DUCKS', 'Quantity': 6, 'InvoiceDate': '1/12/2018 10:03', 'UnitPrice': 5.45, 'CustomerID': 12431, 'Country': 'Australia'}, {'InvoiceNo': 536389, 'StockCode': '35004G', 'Description': 'SET OF 3 GOLD FLYING DUCKS', 'Quantity': 4, 'InvoiceDate': '1/12/2018 10:03', 'UnitPrice': 6.35, 'CustomerID': 12431, 'Country': 'Australia'}, {'InvoiceNo': 536389, 'StockCode': '85014B', 'Description': 'RED RETROSPOT UMBRELLA', 'Quantity': 6, 'InvoiceDate': '1/12/2018 10:03', 'UnitPrice': 5.95, 'CustomerID': 12431, 'Country': 'Australia'}, {'InvoiceNo': 536389, 'StockCode': '85014A', 'Description': 'BLACK/BLUE POLKADOT UMBRELLA', 'Quantity': 3, 'InvoiceDate': '1/12/2018 10:03', 'UnitPrice': 5.95, 'CustomerID': 12431, 'Country': 'Australia'}, {'InvoiceNo': 536389, 'StockCode': '22193', 'Description': 'RED DINER WALL CLOCK', 'Quantity': 2, 'InvoiceDate': '1/12/2018 10:03', 'UnitPrice': 8.5, 'CustomerID': 12431, 'Country': 'Australia'}, {'InvoiceNo': 536389, 'StockCode': '22726', 'Description': 'ALARM CLOCK BAKELIKE GREEN', 'Quantity': 4, 'InvoiceDate': '1/12/2018 10:03', 'UnitPrice': 3.75, 'CustomerID': 12431, 'Country': 'Australia'}, {'InvoiceNo': 536389, 'StockCode': '22727', 'Description': 'ALARM CLOCK BAKELIKE RED ', 'Quantity': 4, 'InvoiceDate': '1/12/2018 10:03', 'UnitPrice': 3.75, 'CustomerID': 12431, 'Country': 'Australia'}, {'InvoiceNo': 536389, 'StockCode': '22192', 'Description': 'BLUE DINER WALL CLOCK', 'Quantity': 2, 'InvoiceDate': '1/12/2018 10:03', 'UnitPrice': 8.5, 'CustomerID': 12431, 'Country': 'Australia'}, {'InvoiceNo': 536389, 'StockCode': '22191', 'Description': 'IVORY DINER WALL CLOCK', 'Quantity': 2, 'InvoiceDate': '1/12/2018 10:03', 'UnitPrice': 8.5, 'CustomerID': 12431, 'Country': 'Australia'}, {'InvoiceNo': 536389, 'StockCode': '22195', 'Description': 'LARGE HEART MEASURING SPOONS', 'Quantity': 24, 'InvoiceDate': '1/12/2018 10:03', 'UnitPrice': 1.65, 'CustomerID': 12431, 'Country': 'Australia'}, {'InvoiceNo': 536389, 'StockCode': '22196', 'Description': 'SMALL HEART MEASURING SPOONS', 'Quantity': 24, 'InvoiceDate': '1/12/2018 10:03', 'UnitPrice': 0.85, 'CustomerID': 12431, 'Country': 'Australia'}, {'InvoiceNo': 536390, 'StockCode': '22941', 'Description': 'CHRISTMAS LIGHTS 10 REINDEER', 'Quantity': 2, 'InvoiceDate': '1/12/2018 10:19', 'UnitPrice': 8.5, 'CustomerID': 17511, 'Country': 'United Kingdom'}, {'InvoiceNo': 536390, 'StockCode': '22960', 'Description': 'JAM MAKING SET WITH JARS', 'Quantity': 12, 'InvoiceDate': '1/12/2018 10:19', 'UnitPrice': 3.75, 'CustomerID': 17511, 'Country': 'United Kingdom'}, {'InvoiceNo': 536390, 'StockCode': '22961', 'Description': 'JAM MAKING SET PRINTED', 'Quantity': 12, 'InvoiceDate': '1/12/2018 10:19', 'UnitPrice': 1.45, 'CustomerID': 17511, 'Country': 'United Kingdom'}, {'InvoiceNo': 536390, 'StockCode': '22962', 'Description': 'JAM JAR WITH PINK LID', 'Quantity': 48, 'InvoiceDate': '1/12/2018 10:19', 'UnitPrice': 0.72, 'CustomerID': 17511, 'Country': 'United Kingdom'}, {'InvoiceNo': 536390, 'StockCode': '22963', 'Description': 'JAM JAR WITH GREEN LID', 'Quantity': 48, 'InvoiceDate': '1/12/2018 10:19', 'UnitPrice': 0.72, 'CustomerID': 17511, 'Country': 'United Kingdom'}, {'InvoiceNo': 536390, 'StockCode': '22968', 'Description': 'ROSE COTTAGE KEEPSAKE BOX ', 'Quantity': 8, 'InvoiceDate': '1/12/2018 10:19', 'UnitPrice': 8.5, 'CustomerID': 17511, 'Country': 'United Kingdom'}, {'InvoiceNo': 536390, 'StockCode': '84970S', 'Description': 'HANGING HEART ZINC T-LIGHT HOLDER', 'Quantity': 144, 'InvoiceDate': '1/12/2018 10:19', 'UnitPrice': 0.64, 'CustomerID': 17511, 'Country': 'United Kingdom'}, {'InvoiceNo': 536390, 'StockCode': '22910', 'Description': 'PAPER CHAIN KIT VINTAGE CHRISTMAS', 'Quantity': 40, 'InvoiceDate': '1/12/2018 10:19', 'UnitPrice': 2.55, 'CustomerID': 17511, 'Country': 'United Kingdom'}, {'InvoiceNo': 536390, 'StockCode': '20668', 'Description': 'DISCO BALL CHRISTMAS DECORATION', 'Quantity': 288, 'InvoiceDate': '1/12/2018 10:19', 'UnitPrice': 0.1, 'CustomerID': 17511, 'Country': 'United Kingdom'}, {'InvoiceNo': 536390, 'StockCode': '85123A', 'Description': 'WHITE HANGING HEART T-LIGHT HOLDER', 'Quantity': 64, 'InvoiceDate': '1/12/2018 10:19', 'UnitPrice': 2.55, 'CustomerID': 17511, 'Country': 'United Kingdom'}, {'InvoiceNo': 536390, 'StockCode': '22197', 'Description': 'SMALL POPCORN HOLDER', 'Quantity': 100, 'InvoiceDate': '1/12/2018 10:19', 'UnitPrice': 0.72, 'CustomerID': 17511, 'Country': 'United Kingdom'}, {'InvoiceNo': 536390, 'StockCode': '22198', 'Description': 'LARGE POPCORN HOLDER ', 'Quantity': 50, 'InvoiceDate': '1/12/2018 10:19', 'UnitPrice': 1.45, 'CustomerID': 17511, 'Country': 'United Kingdom'}, {'InvoiceNo': 536390, 'StockCode': '21533', 'Description': 'RETROSPOT LARGE MILK JUG', 'Quantity': 12, 'InvoiceDate': '1/12/2018 10:19', 'UnitPrice': 4.25, 'CustomerID': 17511, 'Country': 'United Kingdom'}, {'InvoiceNo': 536390, 'StockCode': '21080', 'Description': 'SET/20 RED RETROSPOT PAPER NAPKINS ', 'Quantity': 96, 'InvoiceDate': '1/12/2018 10:19', 'UnitPrice': 0.64, 'CustomerID': 17511, 'Country': 'United Kingdom'}, {'InvoiceNo': 536390, 'StockCode': '21094', 'Description': 'SET/6 RED SPOTTY PAPER PLATES', 'Quantity': 96, 'InvoiceDate': '1/12/2018 10:19', 'UnitPrice': 0.64, 'CustomerID': 17511, 'Country': 'United Kingdom'}, {'InvoiceNo': 536390, 'StockCode': '21086', 'Description': 'SET/6 RED SPOTTY PAPER CUPS', 'Quantity': 48, 'InvoiceDate': '1/12/2018 10:19', 'UnitPrice': 0.65, 'CustomerID': 17511, 'Country': 'United Kingdom'}, {'InvoiceNo': 536390, 'StockCode': '21786', 'Description': 'POLKADOT RAIN HAT ', 'Quantity': 144, 'InvoiceDate': '1/12/2018 10:19', 'UnitPrice': 0.32, 'CustomerID': 17511, 'Country': 'United Kingdom'}, {'InvoiceNo': 536390, 'StockCode': '22654', 'Description': 'DELUXE SEWING KIT ', 'Quantity': 40, 'InvoiceDate': '1/12/2018 10:19', 'UnitPrice': 4.95, 'CustomerID': 17511, 'Country': 'United Kingdom'}, {'InvoiceNo': 536390, 'StockCode': '21485', 'Description': 'RETROSPOT HEART HOT WATER BOTTLE', 'Quantity': 24, 'InvoiceDate': '1/12/2018 10:19', 'UnitPrice': 4.25, 'CustomerID': 17511, 'Country': 'United Kingdom'}, {'InvoiceNo': 536390, 'StockCode': '84029G', 'Description': 'KNITTED UNION FLAG HOT WATER BOTTLE', 'Quantity': 24, 'InvoiceDate': '1/12/2018 10:19', 'UnitPrice': 3.39, 'CustomerID': 17511, 'Country': 'United Kingdom'}, {'InvoiceNo': 536390, 'StockCode': '84030E', 'Description': 'ENGLISH ROSE HOT WATER BOTTLE', 'Quantity': 24, 'InvoiceDate': '1/12/2018 10:19', 'UnitPrice': 3.75, 'CustomerID': 17511, 'Country': 'United Kingdom'}, {'InvoiceNo': 536390, 'StockCode': '22174', 'Description': 'PHOTO CUBE', 'Quantity': 48, 'InvoiceDate': '1/12/2018 10:19', 'UnitPrice': 1.48, 'CustomerID': 17511, 'Country': 'United Kingdom'}, {'InvoiceNo': 536390, 'StockCode': '22969', 'Description': 'HOMEMADE JAM SCENTED CANDLES', 'Quantity': 96, 'InvoiceDate': '1/12/2018 10:19', 'UnitPrice': 1.25, 'CustomerID': 17511, 'Country': 'United Kingdom'}, {'InvoiceNo': 536390, 'StockCode': '85099B', 'Description': 'JUMBO BAG RED RETROSPOT', 'Quantity': 100, 'InvoiceDate': '1/12/2018 10:19', 'UnitPrice': 1.65, 'CustomerID': 17511, 'Country': 'United Kingdom'}, {'InvoiceNo': 536392, 'StockCode': '22150', 'Description': '3 STRIPEY MICE FELTCRAFT', 'Quantity': 6, 'InvoiceDate': '1/12/2018 10:29', 'UnitPrice': 1.95, 'CustomerID': 13705, 'Country': 'United Kingdom'}, {'InvoiceNo': 536392, 'StockCode': '22619', 'Description': 'SET OF 6 SOLDIER SKITTLES', 'Quantity': 4, 'InvoiceDate': '1/12/2018 10:29', 'UnitPrice': 3.75, 'CustomerID': 13705, 'Country': 'United Kingdom'}, {'InvoiceNo': 536392, 'StockCode': '21891', 'Description': 'TRADITIONAL WOODEN SKIPPING ROPE', 'Quantity': 12, 'InvoiceDate': '1/12/2018 10:29', 'UnitPrice': 1.25, 'CustomerID': 13705, 'Country': 'United Kingdom'}, {'InvoiceNo': 536392, 'StockCode': '21889', 'Description': 'WOODEN BOX OF DOMINOES', 'Quantity': 12, 'InvoiceDate': '1/12/2018 10:29', 'UnitPrice': 1.25, 'CustomerID': 13705, 'Country': 'United Kingdom'}, {'InvoiceNo': 536392, 'StockCode': '22827', 'Description': 'RUSTIC  SEVENTEEN DRAWER SIDEBOARD', 'Quantity': 1, 'InvoiceDate': '1/12/2018 10:29', 'UnitPrice': 165.0, 'CustomerID': 13705, 'Country': 'United Kingdom'}, {'InvoiceNo': 536392, 'StockCode': '22127', 'Description': 'PARTY CONES CARNIVAL ASSORTED', 'Quantity': 12, 'InvoiceDate': '1/12/2018 10:29', 'UnitPrice': 1.25, 'CustomerID': 13705, 'Country': 'United Kingdom'}, {'InvoiceNo': 536392, 'StockCode': '22128', 'Description': 'PARTY CONES CANDY ASSORTED', 'Quantity': 12, 'InvoiceDate': '1/12/2018 10:29', 'UnitPrice': 1.25, 'CustomerID': 13705, 'Country': 'United Kingdom'}, {'InvoiceNo': 536392, 'StockCode': '22502', 'Description': 'PICNIC BASKET WICKER SMALL', 'Quantity': 4, 'InvoiceDate': '1/12/2018 10:29', 'UnitPrice': 5.95, 'CustomerID': 13705, 'Country': 'United Kingdom'}, {'InvoiceNo': 536392, 'StockCode': '84879', 'Description': 'ASSORTED COLOUR BIRD ORNAMENT', 'Quantity': 16, 'InvoiceDate': '1/12/2018 10:29', 'UnitPrice': 1.69, 'CustomerID': 13705, 'Country': 'United Kingdom'}, {'InvoiceNo': 536392, 'StockCode': '22338', 'Description': 'STAR DECORATION PAINTED ZINC ', 'Quantity': 24, 'InvoiceDate': '1/12/2018 10:29', 'UnitPrice': 0.65, 'CustomerID': 13705, 'Country': 'United Kingdom'}, {'InvoiceNo': 536393, 'StockCode': '22180', 'Description': 'RETROSPOT LAMP', 'Quantity': 8, 'InvoiceDate': '1/12/2018 10:37', 'UnitPrice': 9.95, 'CustomerID': 13747, 'Country': 'United Kingdom'}, {'InvoiceNo': 536394, 'StockCode': '21506', 'Description': 'FANCY FONT BIRTHDAY CARD, ', 'Quantity': 24, 'InvoiceDate': '1/12/2018 10:39', 'UnitPrice': 0.42, 'CustomerID': 13408, 'Country': 'United Kingdom'}, {'InvoiceNo': 536394, 'StockCode': '22633', 'Description': 'HAND WARMER UNION JACK', 'Quantity': 96, 'InvoiceDate': '1/12/2018 10:39', 'UnitPrice': 1.85, 'CustomerID': 13408, 'Country': 'United Kingdom'}, {'InvoiceNo': 536394, 'StockCode': '22866', 'Description': 'HAND WARMER SCOTTY DOG DESIGN', 'Quantity': 96, 'InvoiceDate': '1/12/2018 10:39', 'UnitPrice': 1.85, 'CustomerID': 13408, 'Country': 'United Kingdom'}, {'InvoiceNo': 536394, 'StockCode': '22865', 'Description': 'HAND WARMER OWL DESIGN', 'Quantity': 96, 'InvoiceDate': '1/12/2018 10:39', 'UnitPrice': 1.85, 'CustomerID': 13408, 'Country': 'United Kingdom'}, {'InvoiceNo': 536394, 'StockCode': '22632', 'Description': 'HAND WARMER RED RETROSPOT', 'Quantity': 96, 'InvoiceDate': '1/12/2018 10:39', 'UnitPrice': 1.85, 'CustomerID': 13408, 'Country': 'United Kingdom'}, {'InvoiceNo': 536394, 'StockCode': '21485', 'Description': 'RETROSPOT HEART HOT WATER BOTTLE', 'Quantity': 12, 'InvoiceDate': '1/12/2018 10:39', 'UnitPrice': 4.95, 'CustomerID': 13408, 'Country': 'United Kingdom'}, {'InvoiceNo': 536394, 'StockCode': '22349', 'Description': 'DOG BOWL CHASING BALL DESIGN', 'Quantity': 12, 'InvoiceDate': '1/12/2018 10:39', 'UnitPrice': 3.75, 'CustomerID': 13408, 'Country': 'United Kingdom'}, {'InvoiceNo': 536394, 'StockCode': '22558', 'Description': 'CLOTHES PEGS RETROSPOT PACK 24 ', 'Quantity': 48, 'InvoiceDate': '1/12/2018 10:39', 'UnitPrice': 1.25, 'CustomerID': 13408, 'Country': 'United Kingdom'}, {'InvoiceNo': 536394, 'StockCode': '85152', 'Description': 'HAND OVER THE CHOCOLATE   SIGN ', 'Quantity': 12, 'InvoiceDate': '1/12/2018 10:39', 'UnitPrice': 2.1, 'CustomerID': 13408, 'Country': 'United Kingdom'}, {'InvoiceNo': 536394, 'StockCode': '85123A', 'Description': 'WHITE HANGING HEART T-LIGHT HOLDER', 'Quantity': 32, 'InvoiceDate': '1/12/2018 10:39', 'UnitPrice': 2.55, 'CustomerID': 13408, 'Country': 'United Kingdom'}, {'InvoiceNo': 536394, 'StockCode': '22652', 'Description': 'TRAVEL SEWING KIT', 'Quantity': 20, 'InvoiceDate': '1/12/2018 10:39', 'UnitPrice': 1.65, 'CustomerID': 13408, 'Country': 'United Kingdom'}, {'InvoiceNo': 536395, 'StockCode': '22188', 'Description': 'BLACK HEART CARD HOLDER', 'Quantity': 8, 'InvoiceDate': '1/12/2018 10:47', 'UnitPrice': 3.95, 'CustomerID': 13767, 'Country': 'United Kingdom'}, {'InvoiceNo': 536395, 'StockCode': '84879', 'Description': 'ASSORTED COLOUR BIRD ORNAMENT', 'Quantity': 32, 'InvoiceDate': '1/12/2018 10:47', 'UnitPrice': 1.69, 'CustomerID': 13767, 'Country': 'United Kingdom'}, {'InvoiceNo': 536395, 'StockCode': '21977', 'Description': 'PACK OF 60 PINK PAISLEY CAKE CASES', 'Quantity': 24, 'InvoiceDate': '1/12/2018 10:47', 'UnitPrice': 0.55, 'CustomerID': 13767, 'Country': 'United Kingdom'}, {'InvoiceNo': 536395, 'StockCode': '84991', 'Description': '60 TEATIME FAIRY CAKE CASES', 'Quantity': 24, 'InvoiceDate': '1/12/2018 10:47', 'UnitPrice': 0.55, 'CustomerID': 13767, 'Country': 'United Kingdom'}, {'InvoiceNo': 536395, 'StockCode': '21212', 'Description': 'PACK OF 72 RETROSPOT CAKE CASES', 'Quantity': 24, 'InvoiceDate': '1/12/2018 10:47', 'UnitPrice': 0.55, 'CustomerID': 13767, 'Country': 'United Kingdom'}, {'InvoiceNo': 536395, 'StockCode': '21484', 'Description': 'CHICK GREY HOT WATER BOTTLE', 'Quantity': 8, 'InvoiceDate': '1/12/2018 10:47', 'UnitPrice': 3.45, 'CustomerID': 13767, 'Country': 'United Kingdom'}, {'InvoiceNo': 536395, 'StockCode': '21314', 'Description': 'SMALL GLASS HEART TRINKET POT', 'Quantity': 8, 'InvoiceDate': '1/12/2018 10:47', 'UnitPrice': 2.1, 'CustomerID': 13767, 'Country': 'United Kingdom'}, {'InvoiceNo': 536395, 'StockCode': '22730', 'Description': 'ALARM CLOCK BAKELIKE IVORY', 'Quantity': 4, 'InvoiceDate': '1/12/2018 10:47', 'UnitPrice': 3.75, 'CustomerID': 13767, 'Country': 'United Kingdom'}, {'InvoiceNo': 536395, 'StockCode': '22727', 'Description': 'ALARM CLOCK BAKELIKE RED ', 'Quantity': 8, 'InvoiceDate': '1/12/2018 10:47', 'UnitPrice': 3.75, 'CustomerID': 13767, 'Country': 'United Kingdom'}, {'InvoiceNo': 536395, 'StockCode': '22729', 'Description': 'ALARM CLOCK BAKELIKE ORANGE', 'Quantity': 8, 'InvoiceDate': '1/12/2018 10:47', 'UnitPrice': 3.75, 'CustomerID': 13767, 'Country': 'United Kingdom'}, {'InvoiceNo': 536395, 'StockCode': '22726', 'Description': 'ALARM CLOCK BAKELIKE GREEN', 'Quantity': 8, 'InvoiceDate': '1/12/2018 10:47', 'UnitPrice': 3.75, 'CustomerID': 13767, 'Country': 'United Kingdom'}, {'InvoiceNo': 536395, 'StockCode': '22114', 'Description': 'HOT WATER BOTTLE TEA AND SYMPATHY', 'Quantity': 8, 'InvoiceDate': '1/12/2018 10:47', 'UnitPrice': 3.95, 'CustomerID': 13767, 'Country': 'United Kingdom'}, {'InvoiceNo': 536395, 'StockCode': '22867', 'Description': 'HAND WARMER BIRD DESIGN', 'Quantity': 48, 'InvoiceDate': '1/12/2018 10:47', 'UnitPrice': 2.1, 'CustomerID': 13767, 'Country': 'United Kingdom'}, {'InvoiceNo': 536395, 'StockCode': '22866', 'Description': 'HAND WARMER SCOTTY DOG DESIGN', 'Quantity': 48, 'InvoiceDate': '1/12/2018 10:47', 'UnitPrice': 2.1, 'CustomerID': 13767, 'Country': 'United Kingdom'}, {'InvoiceNo': 536396, 'StockCode': '85123A', 'Description': 'WHITE HANGING HEART T-LIGHT HOLDER', 'Quantity': 6, 'InvoiceDate': '1/12/2018 10:51', 'UnitPrice': 2.55, 'CustomerID': 17850, 'Country': 'United Kingdom'}, {'InvoiceNo': 536396, 'StockCode': '71053', 'Description': 'WHITE METAL LANTERN', 'Quantity': 6, 'InvoiceDate': '1/12/2018 10:51', 'UnitPrice': 3.39, 'CustomerID': 17850, 'Country': 'United Kingdom'}, {'InvoiceNo': 536396, 'StockCode': '84406B', 'Description': 'CREAM CUPID HEARTS COAT HANGER', 'Quantity': 8, 'InvoiceDate': '1/12/2018 10:51', 'UnitPrice': 2.75, 'CustomerID': 17850, 'Country': 'United Kingdom'}, {'InvoiceNo': 536396, 'StockCode': '15056BL', 'Description': 'EDWARDIAN PARASOL BLACK', 'Quantity': 6, 'InvoiceDate': '1/12/2018 10:51', 'UnitPrice': 4.95, 'CustomerID': 17850, 'Country': 'United Kingdom'}, {'InvoiceNo': 536396, 'StockCode': '20679', 'Description': 'EDWARDIAN PARASOL RED', 'Quantity': 6, 'InvoiceDate': '1/12/2018 10:51', 'UnitPrice': 4.95, 'CustomerID': 17850, 'Country': 'United Kingdom'}, {'InvoiceNo': 536396, 'StockCode': '37370', 'Description': 'RETRO COFFEE MUGS ASSORTED', 'Quantity': 6, 'InvoiceDate': '1/12/2018 10:51', 'UnitPrice': 1.06, 'CustomerID': 17850, 'Country': 'United Kingdom'}, {'InvoiceNo': 536396, 'StockCode': '21871', 'Description': 'SAVE THE PLANET MUG', 'Quantity': 6, 'InvoiceDate': '1/12/2018 10:51', 'UnitPrice': 1.06, 'CustomerID': 17850, 'Country': 'United Kingdom'}, {'InvoiceNo': 536396, 'StockCode': '21071', 'Description': 'VINTAGE BILLBOARD DRINK ME MUG', 'Quantity': 6, 'InvoiceDate': '1/12/2018 10:51', 'UnitPrice': 1.06, 'CustomerID': 17850, 'Country': 'United Kingdom'}, {'InvoiceNo': 536396, 'StockCode': '21068', 'Description': 'VINTAGE BILLBOARD LOVE/HATE MUG', 'Quantity': 6, 'InvoiceDate': '1/12/2018 10:51', 'UnitPrice': 1.06, 'CustomerID': 17850, 'Country': 'United Kingdom'}, {'InvoiceNo': 536396, 'StockCode': '82483', 'Description': 'WOOD 2 DRAWER CABINET WHITE FINISH', 'Quantity': 2, 'InvoiceDate': '1/12/2018 10:51', 'UnitPrice': 4.95, 'CustomerID': 17850, 'Country': 'United Kingdom'}, {'InvoiceNo': 536396, 'StockCode': '82486', 'Description': 'WOOD S/3 CABINET ANT WHITE FINISH', 'Quantity': 4, 'InvoiceDate': '1/12/2018 10:51', 'UnitPrice': 6.95, 'CustomerID': 17850, 'Country': 'United Kingdom'}, {'InvoiceNo': 536396, 'StockCode': '82482', 'Description': 'WOODEN PICTURE FRAME WHITE FINISH', 'Quantity': 6, 'InvoiceDate': '1/12/2018 10:51', 'UnitPrice': 2.1, 'CustomerID': 17850, 'Country': 'United Kingdom'}, {'InvoiceNo': 536396, 'StockCode': '82494L', 'Description': 'WOODEN FRAME ANTIQUE WHITE ', 'Quantity': 12, 'InvoiceDate': '1/12/2018 10:51', 'UnitPrice': 2.55, 'CustomerID': 17850, 'Country': 'United Kingdom'}, {'InvoiceNo': 536396, 'StockCode': '84029G', 'Description': 'KNITTED UNION FLAG HOT WATER BOTTLE', 'Quantity': 6, 'InvoiceDate': '1/12/2018 10:51', 'UnitPrice': 3.39, 'CustomerID': 17850, 'Country': 'United Kingdom'}, {'InvoiceNo': 536396, 'StockCode': '84029E', 'Description': 'RED WOOLLY HOTTIE WHITE HEART.', 'Quantity': 6, 'InvoiceDate': '1/12/2018 10:51', 'UnitPrice': 3.39, 'CustomerID': 17850, 'Country': 'United Kingdom'}, {'InvoiceNo': 536396, 'StockCode': '22752', 'Description': 'SET 7 BABUSHKA NESTING BOXES', 'Quantity': 2, 'InvoiceDate': '1/12/2018 10:51', 'UnitPrice': 7.65, 'CustomerID': 17850, 'Country': 'United Kingdom'}, {'InvoiceNo': 536396, 'StockCode': '22803', 'Description': 'IVORY EMBROIDERED QUILT ', 'Quantity': 2, 'InvoiceDate': '1/12/2018 10:51', 'UnitPrice': 35.75, 'CustomerID': 17850, 'Country': 'United Kingdom'}, {'InvoiceNo': 536396, 'StockCode': '21730', 'Description': 'GLASS STAR FROSTED T-LIGHT HOLDER', 'Quantity': 6, 'InvoiceDate': '1/12/2018 10:51', 'UnitPrice': 4.25, 'CustomerID': 17850, 'Country': 'United Kingdom'}, {'InvoiceNo': 536397, 'StockCode': '35004B', 'Description': 'SET OF 3 BLACK FLYING DUCKS', 'Quantity': 12, 'InvoiceDate': '1/12/2018 10:51', 'UnitPrice': 4.65, 'CustomerID': 17924, 'Country': 'United Kingdom'}, {'InvoiceNo': 536397, 'StockCode': '35004C', 'Description': 'SET OF 3 COLOURED  FLYING DUCKS', 'Quantity': 48, 'InvoiceDate': '1/12/2018 10:51', 'UnitPrice': 4.65, 'CustomerID': 17924, 'Country': 'United Kingdom'}, {'InvoiceNo': 536398, 'StockCode': '21980', 'Description': 'PACK OF 12 RED RETROSPOT TISSUES ', 'Quantity': 24, 'InvoiceDate': '1/12/2018 10:52', 'UnitPrice': 0.29, 'CustomerID': 13448, 'Country': 'United Kingdom'}, {'InvoiceNo': 536398, 'StockCode': '21844', 'Description': 'RED RETROSPOT MUG', 'Quantity': 6, 'InvoiceDate': '1/12/2018 10:52', 'UnitPrice': 2.95, 'CustomerID': 13448, 'Country': 'United Kingdom'}, {'InvoiceNo': 536398, 'StockCode': '22468', 'Description': 'BABUSHKA LIGHTS STRING OF 10', 'Quantity': 4, 'InvoiceDate': '1/12/2018 10:52', 'UnitPrice': 6.75, 'CustomerID': 13448, 'Country': 'United Kingdom'}, {'InvoiceNo': 536398, 'StockCode': '22637', 'Description': 'PIGGY BANK RETROSPOT ', 'Quantity': 8, 'InvoiceDate': '1/12/2018 10:52', 'UnitPrice': 2.55, 'CustomerID': 13448, 'Country': 'United Kingdom'}, {'InvoiceNo': 536398, 'StockCode': '22752', 'Description': 'SET 7 BABUSHKA NESTING BOXES', 'Quantity': 6, 'InvoiceDate': '1/12/2018 10:52', 'UnitPrice': 8.5, 'CustomerID': 13448, 'Country': 'United Kingdom'}, {'InvoiceNo': 536398, 'StockCode': '48185', 'Description': 'DOORMAT FAIRY CAKE', 'Quantity': 2, 'InvoiceDate': '1/12/2018 10:52', 'UnitPrice': 7.95, 'CustomerID': 13448, 'Country': 'United Kingdom'}, {'InvoiceNo': 536398, 'StockCode': '22632', 'Description': 'HAND WARMER RED RETROSPOT', 'Quantity': 12, 'InvoiceDate': '1/12/2018 10:52', 'UnitPrice': 2.1, 'CustomerID': 13448, 'Country': 'United Kingdom'}, {'InvoiceNo': 536398, 'StockCode': '22866', 'Description': 'HAND WARMER SCOTTY DOG DESIGN', 'Quantity': 12, 'InvoiceDate': '1/12/2018 10:52', 'UnitPrice': 2.1, 'CustomerID': 13448, 'Country': 'United Kingdom'}, {'InvoiceNo': 536398, 'StockCode': '22865', 'Description': 'HAND WARMER OWL DESIGN', 'Quantity': 12, 'InvoiceDate': '1/12/2018 10:52', 'UnitPrice': 2.1, 'CustomerID': 13448, 'Country': 'United Kingdom'}, {'InvoiceNo': 536398, 'StockCode': '21232', 'Description': 'STRAWBERRY CERAMIC TRINKET BOX', 'Quantity': 12, 'InvoiceDate': '1/12/2018 10:52', 'UnitPrice': 1.25, 'CustomerID': 13448, 'Country': 'United Kingdom'}, {'InvoiceNo': 536398, 'StockCode': '22064', 'Description': 'PINK DOUGHNUT TRINKET POT ', 'Quantity': 12, 'InvoiceDate': '1/12/2018 10:52', 'UnitPrice': 1.65, 'CustomerID': 13448, 'Country': 'United Kingdom'}, {'InvoiceNo': 536398, 'StockCode': '22449', 'Description': 'SILK PURSE BABUSHKA PINK', 'Quantity': 6, 'InvoiceDate': '1/12/2018 10:52', 'UnitPrice': 3.35, 'CustomerID': 13448, 'Country': 'United Kingdom'}, {'InvoiceNo': 536398, 'StockCode': '22114', 'Description': 'HOT WATER BOTTLE TEA AND SYMPATHY', 'Quantity': 4, 'InvoiceDate': '1/12/2018 10:52', 'UnitPrice': 3.95, 'CustomerID': 13448, 'Country': 'United Kingdom'}, {'InvoiceNo': 536398, 'StockCode': '22835', 'Description': 'HOT WATER BOTTLE I AM SO POORLY', 'Quantity': 8, 'InvoiceDate': '1/12/2018 10:52', 'UnitPrice': 4.65, 'CustomerID': 13448, 'Country': 'United Kingdom'}, {'InvoiceNo': 536398, 'StockCode': '22112', 'Description': 'CHOCOLATE HOT WATER BOTTLE', 'Quantity': 9, 'InvoiceDate': '1/12/2018 10:52', 'UnitPrice': 4.95, 'CustomerID': 13448, 'Country': 'United Kingdom'}, {'InvoiceNo': 536398, 'StockCode': '21479', 'Description': 'WHITE SKULL HOT WATER BOTTLE ', 'Quantity': 4, 'InvoiceDate': '1/12/2018 10:52', 'UnitPrice': 3.75, 'CustomerID': 13448, 'Country': 'United Kingdom'}, {'InvoiceNo': 536398, 'StockCode': '22111', 'Description': 'SCOTTIE DOG HOT WATER BOTTLE', 'Quantity': 9, 'InvoiceDate': '1/12/2018 10:52', 'UnitPrice': 4.95, 'CustomerID': 13448, 'Country': 'United Kingdom'}, {'InvoiceNo': 536399, 'StockCode': '22632', 'Description': 'HAND WARMER RED POLKA DOT', 'Quantity': 6, 'InvoiceDate': '1/12/2018 10:52', 'UnitPrice': 1.85, 'CustomerID': 17850, 'Country': 'United Kingdom'}, {'InvoiceNo': 536399, 'StockCode': '22633', 'Description': 'HAND WARMER UNION JACK', 'Quantity': 6, 'InvoiceDate': '1/12/2018 10:52', 'UnitPrice': 1.85, 'CustomerID': 17850, 'Country': 'United Kingdom'}, {'InvoiceNo': 536400, 'StockCode': '22969', 'Description': 'HOMEMADE JAM SCENTED CANDLES', 'Quantity': 12, 'InvoiceDate': '1/12/2018 10:53', 'UnitPrice': 1.45, 'CustomerID': 13448, 'Country': 'United Kingdom'}, {'InvoiceNo': 536401, 'StockCode': '22110', 'Description': 'BIRD HOUSE HOT WATER BOTTLE', 'Quantity': 1, 'InvoiceDate': '1/12/2018 11:21', 'UnitPrice': 2.55, 'CustomerID': 15862, 'Country': 'United Kingdom'}, {'InvoiceNo': 536401, 'StockCode': '22098', 'Description': 'BOUDOIR SQUARE TISSUE BOX', 'Quantity': 1, 'InvoiceDate': '1/12/2018 11:21', 'UnitPrice': 1.25, 'CustomerID': 15862, 'Country': 'United Kingdom'}, {'InvoiceNo': 536401, 'StockCode': '22100', 'Description': 'SKULLS SQUARE TISSUE BOX', 'Quantity': 2, 'InvoiceDate': '1/12/2018 11:21', 'UnitPrice': 1.25, 'CustomerID': 15862, 'Country': 'United Kingdom'}, {'InvoiceNo': 536401, 'StockCode': '22766', 'Description': 'PHOTO FRAME CORNICE', 'Quantity': 1, 'InvoiceDate': '1/12/2018 11:21', 'UnitPrice': 2.95, 'CustomerID': 15862, 'Country': 'United Kingdom'}, {'InvoiceNo': 536401, 'StockCode': '22451', 'Description': 'SILK PURSE BABUSHKA RED', 'Quantity': 1, 'InvoiceDate': '1/12/2018 11:21', 'UnitPrice': 3.35, 'CustomerID': 15862, 'Country': 'United Kingdom'}, {'InvoiceNo': 536401, 'StockCode': '22549', 'Description': 'PICTURE DOMINOES', 'Quantity': 1, 'InvoiceDate': '1/12/2018 11:21', 'UnitPrice': 1.45, 'CustomerID': 15862, 'Country': 'United Kingdom'}, {'InvoiceNo': 536401, 'StockCode': '84744', 'Description': 'S/6 SEW ON CROCHET FLOWERS', 'Quantity': 1, 'InvoiceDate': '1/12/2018 11:21', 'UnitPrice': 1.25, 'CustomerID': 15862, 'Country': 'United Kingdom'}, {'InvoiceNo': 536401, 'StockCode': '85049E', 'Description': 'SCANDINAVIAN REDS RIBBONS', 'Quantity': 2, 'InvoiceDate': '1/12/2018 11:21', 'UnitPrice': 1.25, 'CustomerID': 15862, 'Country': 'United Kingdom'}, {'InvoiceNo': 536401, 'StockCode': '21328', 'Description': 'BALLOONS  WRITING SET ', 'Quantity': 1, 'InvoiceDate': '1/12/2018 11:21', 'UnitPrice': 1.65, 'CustomerID': 15862, 'Country': 'United Kingdom'}, {'InvoiceNo': 536401, 'StockCode': '22961', 'Description': 'JAM MAKING SET PRINTED', 'Quantity': 4, 'InvoiceDate': '1/12/2018 11:21', 'UnitPrice': 1.45, 'CustomerID': 15862, 'Country': 'United Kingdom'}, {'InvoiceNo': 536401, 'StockCode': '17091A', 'Description': 'LAVENDER INCENSE IN TIN', 'Quantity': 1, 'InvoiceDate': '1/12/2018 11:21', 'UnitPrice': 1.25, 'CustomerID': 15862, 'Country': 'United Kingdom'}, {'InvoiceNo': 536401, 'StockCode': '22473', 'Description': 'TV DINNER TRAY VINTAGE PAISLEY', 'Quantity': 1, 'InvoiceDate': '1/12/2018 11:21', 'UnitPrice': 4.95, 'CustomerID': 15862, 'Country': 'United Kingdom'}, {'InvoiceNo': 536401, 'StockCode': '84509A', 'Description': 'SET OF 4 ENGLISH ROSE PLACEMATS', 'Quantity': 2, 'InvoiceDate': '1/12/2018 11:21', 'UnitPrice': 3.75, 'CustomerID': 15862, 'Country': 'United Kingdom'}, {'InvoiceNo': 536401, 'StockCode': '84510A', 'Description': 'SET OF 4 ENGLISH ROSE COASTERS', 'Quantity': 2, 'InvoiceDate': '1/12/2018 11:21', 'UnitPrice': 1.25, 'CustomerID': 15862, 'Country': 'United Kingdom'}, {'InvoiceNo': 536401, 'StockCode': '22767', 'Description': 'TRIPLE PHOTO FRAME CORNICE ', 'Quantity': 2, 'InvoiceDate': '1/12/2018 11:21', 'UnitPrice': 9.95, 'CustomerID': 15862, 'Country': 'United Kingdom'}, {'InvoiceNo': 536401, 'StockCode': '22768', 'Description': 'FAMILY PHOTO FRAME CORNICE', 'Quantity': 1, 'InvoiceDate': '1/12/2018 11:21', 'UnitPrice': 9.95, 'CustomerID': 15862, 'Country': 'United Kingdom'}, {'InvoiceNo': 536401, 'StockCode': '21463', 'Description': 'MIRRORED DISCO BALL ', 'Quantity': 1, 'InvoiceDate': '1/12/2018 11:21', 'UnitPrice': 5.95, 'CustomerID': 15862, 'Country': 'United Kingdom'}, {'InvoiceNo': 536401, 'StockCode': '21464', 'Description': 'DISCO BALL ROTATOR BATTERY OPERATED', 'Quantity': 1, 'InvoiceDate': '1/12/2018 11:21', 'UnitPrice': 4.25, 'CustomerID': 15862, 'Country': 'United Kingdom'}, {'InvoiceNo': 536401, 'StockCode': '20820', 'Description': 'SILVER LOOKING MIRROR', 'Quantity': 3, 'InvoiceDate': '1/12/2018 11:21', 'UnitPrice': 4.95, 'CustomerID': 15862, 'Country': 'United Kingdom'}, {'InvoiceNo': 536401, 'StockCode': '85150', 'Description': 'LADIES & GENTLEMEN METAL SIGN', 'Quantity': 1, 'InvoiceDate': '1/12/2018 11:21', 'UnitPrice': 2.55, 'CustomerID': 15862, 'Country': 'United Kingdom'}, {'InvoiceNo': 536401, 'StockCode': '22117', 'Description': 'METAL SIGN HER DINNER IS SERVED ', 'Quantity': 1, 'InvoiceDate': '1/12/2018 11:21', 'UnitPrice': 2.95, 'CustomerID': 15862, 'Country': 'United Kingdom'}, {'InvoiceNo': 536401, 'StockCode': '21169', 'Description': \"YOU'RE CONFUSING ME METAL SIGN \", 'Quantity': 2, 'InvoiceDate': '1/12/2018 11:21', 'UnitPrice': 1.69, 'CustomerID': 15862, 'Country': 'United Kingdom'}, {'InvoiceNo': 536401, 'StockCode': '48129', 'Description': 'DOORMAT TOPIARY', 'Quantity': 1, 'InvoiceDate': '1/12/2018 11:21', 'UnitPrice': 7.95, 'CustomerID': 15862, 'Country': 'United Kingdom'}, {'InvoiceNo': 536401, 'StockCode': '82580', 'Description': 'BATHROOM METAL SIGN', 'Quantity': 1, 'InvoiceDate': '1/12/2018 11:21', 'UnitPrice': 0.55, 'CustomerID': 15862, 'Country': 'United Kingdom'}, {'InvoiceNo': 536401, 'StockCode': '82578', 'Description': 'KITCHEN METAL SIGN', 'Quantity': 1, 'InvoiceDate': '1/12/2018 11:21', 'UnitPrice': 0.55, 'CustomerID': 15862, 'Country': 'United Kingdom'}, {'InvoiceNo': 536401, 'StockCode': '82581', 'Description': 'TOILET METAL SIGN', 'Quantity': 2, 'InvoiceDate': '1/12/2018 11:21', 'UnitPrice': 0.55, 'CustomerID': 15862, 'Country': 'United Kingdom'}, {'InvoiceNo': 536401, 'StockCode': '22413', 'Description': 'METAL SIGN TAKE IT OR LEAVE IT ', 'Quantity': 4, 'InvoiceDate': '1/12/2018 11:21', 'UnitPrice': 2.95, 'CustomerID': 15862, 'Country': 'United Kingdom'}, {'InvoiceNo': 536401, 'StockCode': '21907', 'Description': \"I'M ON HOLIDAY METAL SIGN\", 'Quantity': 2, 'InvoiceDate': '1/12/2018 11:21', 'UnitPrice': 2.1, 'CustomerID': 15862, 'Country': 'United Kingdom'}, {'InvoiceNo': 536401, 'StockCode': '22441', 'Description': 'GROW YOUR OWN BASIL IN ENAMEL MUG', 'Quantity': 1, 'InvoiceDate': '1/12/2018 11:21', 'UnitPrice': 2.1, 'CustomerID': 15862, 'Country': 'United Kingdom'}, {'InvoiceNo': 536401, 'StockCode': '21122', 'Description': 'SET/10 PINK POLKADOT PARTY CANDLES', 'Quantity': 1, 'InvoiceDate': '1/12/2018 11:21', 'UnitPrice': 1.25, 'CustomerID': 15862, 'Country': 'United Kingdom'}, {'InvoiceNo': 536401, 'StockCode': '22851', 'Description': 'SET 20 NAPKINS FAIRY CAKES DESIGN ', 'Quantity': 1, 'InvoiceDate': '1/12/2018 11:21', 'UnitPrice': 0.85, 'CustomerID': 15862, 'Country': 'United Kingdom'}, {'InvoiceNo': 536401, 'StockCode': '84991', 'Description': '60 TEATIME FAIRY CAKE CASES', 'Quantity': 3, 'InvoiceDate': '1/12/2018 11:21', 'UnitPrice': 0.55, 'CustomerID': 15862, 'Country': 'United Kingdom'}, {'InvoiceNo': 536401, 'StockCode': '22810', 'Description': 'SET OF 6 T-LIGHTS SNOWMEN', 'Quantity': 1, 'InvoiceDate': '1/12/2018 11:21', 'UnitPrice': 2.95, 'CustomerID': 15862, 'Country': 'United Kingdom'}, {'InvoiceNo': 536401, 'StockCode': '22809', 'Description': 'SET OF 6 T-LIGHTS SANTA', 'Quantity': 1, 'InvoiceDate': '1/12/2018 11:21', 'UnitPrice': 2.95, 'CustomerID': 15862, 'Country': 'United Kingdom'}, {'InvoiceNo': 536401, 'StockCode': '22435', 'Description': 'SET OF 9 HEART SHAPED BALLOONS', 'Quantity': 2, 'InvoiceDate': '1/12/2018 11:21', 'UnitPrice': 1.25, 'CustomerID': 15862, 'Country': 'United Kingdom'}, {'InvoiceNo': 536401, 'StockCode': '20966', 'Description': 'SANDWICH BATH SPONGE', 'Quantity': 3, 'InvoiceDate': '1/12/2018 11:21', 'UnitPrice': 1.25, 'CustomerID': 15862, 'Country': 'United Kingdom'}, {'InvoiceNo': 536401, 'StockCode': '20963', 'Description': 'APPLE BATH SPONGE', 'Quantity': 1, 'InvoiceDate': '1/12/2018 11:21', 'UnitPrice': 1.25, 'CustomerID': 15862, 'Country': 'United Kingdom'}, {'InvoiceNo': 536401, 'StockCode': '20961', 'Description': 'STRAWBERRY BATH SPONGE ', 'Quantity': 1, 'InvoiceDate': '1/12/2018 11:21', 'UnitPrice': 1.25, 'CustomerID': 15862, 'Country': 'United Kingdom'}, {'InvoiceNo': 536401, 'StockCode': '22068', 'Description': 'BLACK PIRATE TREASURE CHEST', 'Quantity': 2, 'InvoiceDate': '1/12/2018 11:21', 'UnitPrice': 1.65, 'CustomerID': 15862, 'Country': 'United Kingdom'}, {'InvoiceNo': 536401, 'StockCode': '21743', 'Description': 'STAR PORTABLE TABLE LIGHT ', 'Quantity': 2, 'InvoiceDate': '1/12/2018 11:21', 'UnitPrice': 2.95, 'CustomerID': 15862, 'Country': 'United Kingdom'}, {'InvoiceNo': 536401, 'StockCode': '21744', 'Description': 'SNOWFLAKE PORTABLE TABLE LIGHT ', 'Quantity': 2, 'InvoiceDate': '1/12/2018 11:21', 'UnitPrice': 2.95, 'CustomerID': 15862, 'Country': 'United Kingdom'}, {'InvoiceNo': 536401, 'StockCode': '84709B', 'Description': 'PINK OVAL JEWELLED MIRROR', 'Quantity': 1, 'InvoiceDate': '1/12/2018 11:21', 'UnitPrice': 5.95, 'CustomerID': 15862, 'Country': 'United Kingdom'}, {'InvoiceNo': 536401, 'StockCode': '21592', 'Description': 'RETROSPOT CIGAR BOX MATCHES ', 'Quantity': 1, 'InvoiceDate': '1/12/2018 11:21', 'UnitPrice': 1.25, 'CustomerID': 15862, 'Country': 'United Kingdom'}, {'InvoiceNo': 536401, 'StockCode': '21587', 'Description': 'COSY HOUR GIANT TUBE MATCHES', 'Quantity': 2, 'InvoiceDate': '1/12/2018 11:21', 'UnitPrice': 2.55, 'CustomerID': 15862, 'Country': 'United Kingdom'}, {'InvoiceNo': 536401, 'StockCode': '20992', 'Description': 'JAZZ HEARTS PURSE NOTEBOOK', 'Quantity': 9, 'InvoiceDate': '1/12/2018 11:21', 'UnitPrice': 0.85, 'CustomerID': 15862, 'Country': 'United Kingdom'}, {'InvoiceNo': 536401, 'StockCode': '22662', 'Description': 'LUNCH BAG DOLLY GIRL DESIGN', 'Quantity': 1, 'InvoiceDate': '1/12/2018 11:21', 'UnitPrice': 1.65, 'CustomerID': 15862, 'Country': 'United Kingdom'}, {'InvoiceNo': 536401, 'StockCode': '85123A', 'Description': 'WHITE HANGING HEART T-LIGHT HOLDER', 'Quantity': 4, 'InvoiceDate': '1/12/2018 11:21', 'UnitPrice': 2.95, 'CustomerID': 15862, 'Country': 'United Kingdom'}, {'InvoiceNo': 536401, 'StockCode': '22804', 'Description': 'CANDLEHOLDER PINK HANGING HEART', 'Quantity': 3, 'InvoiceDate': '1/12/2018 11:21', 'UnitPrice': 2.95, 'CustomerID': 15862, 'Country': 'United Kingdom'}, {'InvoiceNo': 536401, 'StockCode': '82483', 'Description': 'WOOD 2 DRAWER CABINET WHITE FINISH', 'Quantity': 1, 'InvoiceDate': '1/12/2018 11:21', 'UnitPrice': 5.95, 'CustomerID': 15862, 'Country': 'United Kingdom'}, {'InvoiceNo': 536401, 'StockCode': '20749', 'Description': 'ASSORTED COLOUR MINI CASES', 'Quantity': 1, 'InvoiceDate': '1/12/2018 11:21', 'UnitPrice': 7.95, 'CustomerID': 15862, 'Country': 'United Kingdom'}, {'InvoiceNo': 536401, 'StockCode': '20725', 'Description': 'LUNCH BAG RED RETROSPOT', 'Quantity': 1, 'InvoiceDate': '1/12/2018 11:21', 'UnitPrice': 1.65, 'CustomerID': 15862, 'Country': 'United Kingdom'}, {'InvoiceNo': 536401, 'StockCode': '22382', 'Description': 'LUNCH BAG SPACEBOY DESIGN ', 'Quantity': 2, 'InvoiceDate': '1/12/2018 11:21', 'UnitPrice': 1.65, 'CustomerID': 15862, 'Country': 'United Kingdom'}, {'InvoiceNo': 536401, 'StockCode': '20726', 'Description': 'LUNCH BAG WOODLAND', 'Quantity': 1, 'InvoiceDate': '1/12/2018 11:21', 'UnitPrice': 1.65, 'CustomerID': 15862, 'Country': 'United Kingdom'}, {'InvoiceNo': 536401, 'StockCode': '22384', 'Description': 'LUNCH BAG PINK POLKADOT', 'Quantity': 1, 'InvoiceDate': '1/12/2018 11:21', 'UnitPrice': 1.65, 'CustomerID': 15862, 'Country': 'United Kingdom'}, {'InvoiceNo': 536401, 'StockCode': '22467', 'Description': 'GUMBALL COAT RACK', 'Quantity': 5, 'InvoiceDate': '1/12/2018 11:21', 'UnitPrice': 2.55, 'CustomerID': 15862, 'Country': 'United Kingdom'}, {'InvoiceNo': 536401, 'StockCode': '84625C', 'Description': 'BLUE NEW BAROQUE CANDLESTICK CANDLE', 'Quantity': 3, 'InvoiceDate': '1/12/2018 11:21', 'UnitPrice': 2.95, 'CustomerID': 15862, 'Country': 'United Kingdom'}, {'InvoiceNo': 536401, 'StockCode': '84625A', 'Description': 'PINK NEW BAROQUECANDLESTICK CANDLE', 'Quantity': 3, 'InvoiceDate': '1/12/2018 11:21', 'UnitPrice': 2.95, 'CustomerID': 15862, 'Country': 'United Kingdom'}, {'InvoiceNo': 536401, 'StockCode': '21108', 'Description': 'FAIRY CAKE FLANNEL ASSORTED COLOUR', 'Quantity': 9, 'InvoiceDate': '1/12/2018 11:21', 'UnitPrice': 2.55, 'CustomerID': 15862, 'Country': 'United Kingdom'}, {'InvoiceNo': 536401, 'StockCode': '22848', 'Description': 'BREAD BIN DINER STYLE PINK', 'Quantity': 1, 'InvoiceDate': '1/12/2018 11:21', 'UnitPrice': 16.95, 'CustomerID': 15862, 'Country': 'United Kingdom'}, {'InvoiceNo': 536401, 'StockCode': '21033', 'Description': 'JUMBO BAG CHARLIE AND LOLA TOYS', 'Quantity': 4, 'InvoiceDate': '1/12/2018 11:21', 'UnitPrice': 2.95, 'CustomerID': 15862, 'Country': 'United Kingdom'}, {'InvoiceNo': 536401, 'StockCode': '47570B', 'Description': 'TEA TIME TABLE CLOTH', 'Quantity': 1, 'InvoiceDate': '1/12/2018 11:21', 'UnitPrice': 10.65, 'CustomerID': 15862, 'Country': 'United Kingdom'}, {'InvoiceNo': 536401, 'StockCode': '84030E', 'Description': 'ENGLISH ROSE HOT WATER BOTTLE', 'Quantity': 1, 'InvoiceDate': '1/12/2018 11:21', 'UnitPrice': 4.25, 'CustomerID': 15862, 'Country': 'United Kingdom'}, {'InvoiceNo': 536401, 'StockCode': '22428', 'Description': 'ENAMEL FIRE BUCKET CREAM', 'Quantity': 2, 'InvoiceDate': '1/12/2018 11:21', 'UnitPrice': 6.95, 'CustomerID': 15862, 'Country': 'United Kingdom'}, {'InvoiceNo': 536401, 'StockCode': '22502', 'Description': 'PICNIC BASKET WICKER SMALL', 'Quantity': 2, 'InvoiceDate': '1/12/2018 11:21', 'UnitPrice': 5.95, 'CustomerID': 15862, 'Country': 'United Kingdom'}, {'InvoiceNo': 536402, 'StockCode': '22086', 'Description': \"PAPER CHAIN KIT 50'S CHRISTMAS \", 'Quantity': 40, 'InvoiceDate': '1/12/2018 11:22', 'UnitPrice': 2.55, 'CustomerID': 15513, 'Country': 'United Kingdom'}, {'InvoiceNo': 536402, 'StockCode': '22910', 'Description': 'PAPER CHAIN KIT VINTAGE CHRISTMAS', 'Quantity': 40, 'InvoiceDate': '1/12/2018 11:22', 'UnitPrice': 2.55, 'CustomerID': 15513, 'Country': 'United Kingdom'}, {'InvoiceNo': 536402, 'StockCode': '22837', 'Description': 'HOT WATER BOTTLE BABUSHKA ', 'Quantity': 36, 'InvoiceDate': '1/12/2018 11:22', 'UnitPrice': 4.25, 'CustomerID': 15513, 'Country': 'United Kingdom'}, {'InvoiceNo': 536403, 'StockCode': '22867', 'Description': 'HAND WARMER BIRD DESIGN', 'Quantity': 96, 'InvoiceDate': '1/12/2018 11:27', 'UnitPrice': 1.85, 'CustomerID': 12791, 'Country': 'Netherlands'}, {'InvoiceNo': 536403, 'StockCode': 'POST', 'Description': 'POSTAGE', 'Quantity': 1, 'InvoiceDate': '1/12/2018 11:27', 'UnitPrice': 15.0, 'CustomerID': 12791, 'Country': 'Netherlands'}, {'InvoiceNo': 536404, 'StockCode': '22297', 'Description': 'HEART IVORY TRELLIS SMALL', 'Quantity': 24, 'InvoiceDate': '1/12/2018 11:29', 'UnitPrice': 1.25, 'CustomerID': 16218, 'Country': 'United Kingdom'}, {'InvoiceNo': 536404, 'StockCode': '22771', 'Description': 'CLEAR DRAWER KNOB ACRYLIC EDWARDIAN', 'Quantity': 12, 'InvoiceDate': '1/12/2018 11:29', 'UnitPrice': 1.25, 'CustomerID': 16218, 'Country': 'United Kingdom'}, {'InvoiceNo': 536404, 'StockCode': '22772', 'Description': 'PINK DRAWER KNOB ACRYLIC EDWARDIAN', 'Quantity': 12, 'InvoiceDate': '1/12/2018 11:29', 'UnitPrice': 1.25, 'CustomerID': 16218, 'Country': 'United Kingdom'}, {'InvoiceNo': 536404, 'StockCode': '22773', 'Description': 'GREEN DRAWER KNOB ACRYLIC EDWARDIAN', 'Quantity': 12, 'InvoiceDate': '1/12/2018 11:29', 'UnitPrice': 1.25, 'CustomerID': 16218, 'Country': 'United Kingdom'}, {'InvoiceNo': 536404, 'StockCode': '22805', 'Description': 'BLUE DRAWER KNOB ACRYLIC EDWARDIAN', 'Quantity': 12, 'InvoiceDate': '1/12/2018 11:29', 'UnitPrice': 1.25, 'CustomerID': 16218, 'Country': 'United Kingdom'}, {'InvoiceNo': 536404, 'StockCode': '22469', 'Description': 'HEART OF WICKER SMALL', 'Quantity': 12, 'InvoiceDate': '1/12/2018 11:29', 'UnitPrice': 1.65, 'CustomerID': 16218, 'Country': 'United Kingdom'}, {'InvoiceNo': 536404, 'StockCode': '22197', 'Description': 'SMALL POPCORN HOLDER', 'Quantity': 36, 'InvoiceDate': '1/12/2018 11:29', 'UnitPrice': 0.85, 'CustomerID': 16218, 'Country': 'United Kingdom'}, {'InvoiceNo': 536404, 'StockCode': '21125', 'Description': 'SET 6 FOOTBALL CELEBRATION CANDLES', 'Quantity': 12, 'InvoiceDate': '1/12/2018 11:29', 'UnitPrice': 1.25, 'CustomerID': 16218, 'Country': 'United Kingdom'}, {'InvoiceNo': 536404, 'StockCode': '21126', 'Description': 'SET OF 6 GIRLS CELEBRATION CANDLES', 'Quantity': 12, 'InvoiceDate': '1/12/2018 11:29', 'UnitPrice': 1.25, 'CustomerID': 16218, 'Country': 'United Kingdom'}, {'InvoiceNo': 536404, 'StockCode': '85049C', 'Description': 'ROMANTIC PINKS RIBBONS ', 'Quantity': 12, 'InvoiceDate': '1/12/2018 11:29', 'UnitPrice': 1.25, 'CustomerID': 16218, 'Country': 'United Kingdom'}, {'InvoiceNo': 536404, 'StockCode': '85049D', 'Description': 'BRIGHT BLUES RIBBONS ', 'Quantity': 12, 'InvoiceDate': '1/12/2018 11:29', 'UnitPrice': 1.25, 'CustomerID': 16218, 'Country': 'United Kingdom'}, {'InvoiceNo': 536404, 'StockCode': '85049E', 'Description': 'SCANDINAVIAN REDS RIBBONS', 'Quantity': 12, 'InvoiceDate': '1/12/2018 11:29', 'UnitPrice': 1.25, 'CustomerID': 16218, 'Country': 'United Kingdom'}, {'InvoiceNo': 536404, 'StockCode': '85049G', 'Description': 'CHOCOLATE BOX RIBBONS ', 'Quantity': 12, 'InvoiceDate': '1/12/2018 11:29', 'UnitPrice': 1.25, 'CustomerID': 16218, 'Country': 'United Kingdom'}, {'InvoiceNo': 536404, 'StockCode': '21061', 'Description': 'PARTY INVITES FOOTBALL', 'Quantity': 12, 'InvoiceDate': '1/12/2018 11:29', 'UnitPrice': 0.85, 'CustomerID': 16218, 'Country': 'United Kingdom'}, {'InvoiceNo': 536404, 'StockCode': '21063', 'Description': 'PARTY INVITES JAZZ HEARTS', 'Quantity': 12, 'InvoiceDate': '1/12/2018 11:29', 'UnitPrice': 0.85, 'CustomerID': 16218, 'Country': 'United Kingdom'}, {'InvoiceNo': 536404, 'StockCode': '21062', 'Description': 'PARTY INVITES SPACEMAN', 'Quantity': 12, 'InvoiceDate': '1/12/2018 11:29', 'UnitPrice': 0.85, 'CustomerID': 16218, 'Country': 'United Kingdom'}, {'InvoiceNo': 536404, 'StockCode': '84380', 'Description': 'SET OF 3 BUTTERFLY COOKIE CUTTERS', 'Quantity': 12, 'InvoiceDate': '1/12/2018 11:29', 'UnitPrice': 1.25, 'CustomerID': 16218, 'Country': 'United Kingdom'}, {'InvoiceNo': 536404, 'StockCode': '84378', 'Description': 'SET OF 3 HEART COOKIE CUTTERS', 'Quantity': 12, 'InvoiceDate': '1/12/2018 11:29', 'UnitPrice': 1.25, 'CustomerID': 16218, 'Country': 'United Kingdom'}, {'InvoiceNo': 536404, 'StockCode': '22964', 'Description': '3 PIECE SPACEBOY COOKIE CUTTER SET', 'Quantity': 12, 'InvoiceDate': '1/12/2018 11:29', 'UnitPrice': 2.1, 'CustomerID': 16218, 'Country': 'United Kingdom'}, {'InvoiceNo': 536404, 'StockCode': '21213', 'Description': 'PACK OF 72 SKULL CAKE CASES', 'Quantity': 24, 'InvoiceDate': '1/12/2018 11:29', 'UnitPrice': 0.55, 'CustomerID': 16218, 'Country': 'United Kingdom'}, {'InvoiceNo': 536404, 'StockCode': '22417', 'Description': 'PACK OF 60 SPACEBOY CAKE CASES', 'Quantity': 24, 'InvoiceDate': '1/12/2018 11:29', 'UnitPrice': 0.55, 'CustomerID': 16218, 'Country': 'United Kingdom'}, {'InvoiceNo': 536404, 'StockCode': '21212', 'Description': 'PACK OF 72 RETROSPOT CAKE CASES', 'Quantity': 24, 'InvoiceDate': '1/12/2018 11:29', 'UnitPrice': 0.55, 'CustomerID': 16218, 'Country': 'United Kingdom'}, {'InvoiceNo': 536404, 'StockCode': '84992', 'Description': '72 SWEETHEART FAIRY CAKE CASES', 'Quantity': 24, 'InvoiceDate': '1/12/2018 11:29', 'UnitPrice': 0.55, 'CustomerID': 16218, 'Country': 'United Kingdom'}, {'InvoiceNo': 536404, 'StockCode': '21975', 'Description': 'PACK OF 60 DINOSAUR CAKE CASES', 'Quantity': 24, 'InvoiceDate': '1/12/2018 11:29', 'UnitPrice': 0.55, 'CustomerID': 16218, 'Country': 'United Kingdom'}, {'InvoiceNo': 536404, 'StockCode': '22383', 'Description': 'LUNCH BAG SUKI  DESIGN ', 'Quantity': 10, 'InvoiceDate': '1/12/2018 11:29', 'UnitPrice': 1.65, 'CustomerID': 16218, 'Country': 'United Kingdom'}, {'InvoiceNo': 536404, 'StockCode': '20728', 'Description': 'LUNCH BAG CARS BLUE', 'Quantity': 10, 'InvoiceDate': '1/12/2018 11:29', 'UnitPrice': 1.65, 'CustomerID': 16218, 'Country': 'United Kingdom'}, {'InvoiceNo': 536404, 'StockCode': '20727', 'Description': 'LUNCH BAG  BLACK SKULL.', 'Quantity': 10, 'InvoiceDate': '1/12/2018 11:29', 'UnitPrice': 1.65, 'CustomerID': 16218, 'Country': 'United Kingdom'}, {'InvoiceNo': 536404, 'StockCode': '22296', 'Description': 'HEART IVORY TRELLIS LARGE', 'Quantity': 24, 'InvoiceDate': '1/12/2018 11:29', 'UnitPrice': 1.65, 'CustomerID': 16218, 'Country': 'United Kingdom'}, {'InvoiceNo': 536405, 'StockCode': '20914', 'Description': 'SET/5 RED RETROSPOT LID GLASS BOWLS', 'Quantity': 128, 'InvoiceDate': '1/12/2018 11:32', 'UnitPrice': 2.55, 'CustomerID': 14045, 'Country': 'United Kingdom'}, {'InvoiceNo': 536406, 'StockCode': '85123A', 'Description': 'WHITE HANGING HEART T-LIGHT HOLDER', 'Quantity': 8, 'InvoiceDate': '1/12/2018 11:33', 'UnitPrice': 2.55, 'CustomerID': 17850, 'Country': 'United Kingdom'}, {'InvoiceNo': 536406, 'StockCode': '71053', 'Description': 'WHITE METAL LANTERN', 'Quantity': 8, 'InvoiceDate': '1/12/2018 11:33', 'UnitPrice': 3.39, 'CustomerID': 17850, 'Country': 'United Kingdom'}, {'InvoiceNo': 536406, 'StockCode': '84406B', 'Description': 'CREAM CUPID HEARTS COAT HANGER', 'Quantity': 8, 'InvoiceDate': '1/12/2018 11:33', 'UnitPrice': 2.75, 'CustomerID': 17850, 'Country': 'United Kingdom'}, {'InvoiceNo': 536406, 'StockCode': '20679', 'Description': 'EDWARDIAN PARASOL RED', 'Quantity': 6, 'InvoiceDate': '1/12/2018 11:33', 'UnitPrice': 4.95, 'CustomerID': 17850, 'Country': 'United Kingdom'}, {'InvoiceNo': 536406, 'StockCode': '37370', 'Description': 'RETRO COFFEE MUGS ASSORTED', 'Quantity': 6, 'InvoiceDate': '1/12/2018 11:33', 'UnitPrice': 1.06, 'CustomerID': 17850, 'Country': 'United Kingdom'}, {'InvoiceNo': 536406, 'StockCode': '21871', 'Description': 'SAVE THE PLANET MUG', 'Quantity': 6, 'InvoiceDate': '1/12/2018 11:33', 'UnitPrice': 1.06, 'CustomerID': 17850, 'Country': 'United Kingdom'}, {'InvoiceNo': 536406, 'StockCode': '21071', 'Description': 'VINTAGE BILLBOARD DRINK ME MUG', 'Quantity': 6, 'InvoiceDate': '1/12/2018 11:33', 'UnitPrice': 1.06, 'CustomerID': 17850, 'Country': 'United Kingdom'}, {'InvoiceNo': 536406, 'StockCode': '21068', 'Description': 'VINTAGE BILLBOARD LOVE/HATE MUG', 'Quantity': 6, 'InvoiceDate': '1/12/2018 11:33', 'UnitPrice': 1.06, 'CustomerID': 17850, 'Country': 'United Kingdom'}, {'InvoiceNo': 536406, 'StockCode': '82483', 'Description': 'WOOD 2 DRAWER CABINET WHITE FINISH', 'Quantity': 4, 'InvoiceDate': '1/12/2018 11:33', 'UnitPrice': 4.95, 'CustomerID': 17850, 'Country': 'United Kingdom'}, {'InvoiceNo': 536406, 'StockCode': '82486', 'Description': 'WOOD S/3 CABINET ANT WHITE FINISH', 'Quantity': 4, 'InvoiceDate': '1/12/2018 11:33', 'UnitPrice': 6.95, 'CustomerID': 17850, 'Country': 'United Kingdom'}, {'InvoiceNo': 536406, 'StockCode': '82482', 'Description': 'WOODEN PICTURE FRAME WHITE FINISH', 'Quantity': 6, 'InvoiceDate': '1/12/2018 11:33', 'UnitPrice': 2.1, 'CustomerID': 17850, 'Country': 'United Kingdom'}, {'InvoiceNo': 536406, 'StockCode': '82494L', 'Description': 'WOODEN FRAME ANTIQUE WHITE ', 'Quantity': 6, 'InvoiceDate': '1/12/2018 11:33', 'UnitPrice': 2.55, 'CustomerID': 17850, 'Country': 'United Kingdom'}, {'InvoiceNo': 536406, 'StockCode': '84029G', 'Description': 'KNITTED UNION FLAG HOT WATER BOTTLE', 'Quantity': 6, 'InvoiceDate': '1/12/2018 11:33', 'UnitPrice': 3.39, 'CustomerID': 17850, 'Country': 'United Kingdom'}, {'InvoiceNo': 536406, 'StockCode': '84029E', 'Description': 'RED WOOLLY HOTTIE WHITE HEART.', 'Quantity': 6, 'InvoiceDate': '1/12/2018 11:33', 'UnitPrice': 3.39, 'CustomerID': 17850, 'Country': 'United Kingdom'}, {'InvoiceNo': 536406, 'StockCode': '22752', 'Description': 'SET 7 BABUSHKA NESTING BOXES', 'Quantity': 2, 'InvoiceDate': '1/12/2018 11:33', 'UnitPrice': 7.65, 'CustomerID': 17850, 'Country': 'United Kingdom'}, {'InvoiceNo': 536406, 'StockCode': '22803', 'Description': 'IVORY EMBROIDERED QUILT ', 'Quantity': 2, 'InvoiceDate': '1/12/2018 11:33', 'UnitPrice': 35.75, 'CustomerID': 17850, 'Country': 'United Kingdom'}, {'InvoiceNo': 536406, 'StockCode': '21730', 'Description': 'GLASS STAR FROSTED T-LIGHT HOLDER', 'Quantity': 6, 'InvoiceDate': '1/12/2018 11:33', 'UnitPrice': 4.25, 'CustomerID': 17850, 'Country': 'United Kingdom'}, {'InvoiceNo': 536407, 'StockCode': '22632', 'Description': 'HAND WARMER RED POLKA DOT', 'Quantity': 6, 'InvoiceDate': '1/12/2018 11:34', 'UnitPrice': 1.85, 'CustomerID': 17850, 'Country': 'United Kingdom'}, {'InvoiceNo': 536407, 'StockCode': '22633', 'Description': 'HAND WARMER UNION JACK', 'Quantity': 6, 'InvoiceDate': '1/12/2018 11:34', 'UnitPrice': 1.85, 'CustomerID': 17850, 'Country': 'United Kingdom'}, {'InvoiceNo': 536408, 'StockCode': '22537', 'Description': 'MAGIC DRAWING SLATE DINOSAUR', 'Quantity': 24, 'InvoiceDate': '1/12/2018 11:41', 'UnitPrice': 0.42, 'CustomerID': 14307, 'Country': 'United Kingdom'}, {'InvoiceNo': 536408, 'StockCode': '22533', 'Description': 'MAGIC DRAWING SLATE BAKE A CAKE ', 'Quantity': 24, 'InvoiceDate': '1/12/2018 11:41', 'UnitPrice': 0.42, 'CustomerID': 14307, 'Country': 'United Kingdom'}, {'InvoiceNo': 536408, 'StockCode': '20982', 'Description': '12 PENCILS TALL TUBE SKULLS', 'Quantity': 12, 'InvoiceDate': '1/12/2018 11:41', 'UnitPrice': 0.85, 'CustomerID': 14307, 'Country': 'United Kingdom'}, {'InvoiceNo': 536408, 'StockCode': '21832', 'Description': 'CHOCOLATE CALCULATOR', 'Quantity': 12, 'InvoiceDate': '1/12/2018 11:41', 'UnitPrice': 1.65, 'CustomerID': 14307, 'Country': 'United Kingdom'}, {'InvoiceNo': 536408, 'StockCode': '21915', 'Description': 'RED  HARMONICA IN BOX ', 'Quantity': 12, 'InvoiceDate': '1/12/2018 11:41', 'UnitPrice': 1.25, 'CustomerID': 14307, 'Country': 'United Kingdom'}, {'InvoiceNo': 536408, 'StockCode': '21914', 'Description': 'BLUE HARMONICA IN BOX ', 'Quantity': 12, 'InvoiceDate': '1/12/2018 11:41', 'UnitPrice': 1.25, 'CustomerID': 14307, 'Country': 'United Kingdom'}, {'InvoiceNo': 536408, 'StockCode': '21544', 'Description': 'SKULLS  WATER TRANSFER TATTOOS ', 'Quantity': 12, 'InvoiceDate': '1/12/2018 11:41', 'UnitPrice': 0.85, 'CustomerID': 14307, 'Country': 'United Kingdom'}, {'InvoiceNo': 536408, 'StockCode': '22813', 'Description': 'PACK 3 BOXES BIRD PANNETONE ', 'Quantity': 12, 'InvoiceDate': '1/12/2018 11:41', 'UnitPrice': 1.95, 'CustomerID': 14307, 'Country': 'United Kingdom'}, {'InvoiceNo': 536408, 'StockCode': '22114', 'Description': 'HOT WATER BOTTLE TEA AND SYMPATHY', 'Quantity': 4, 'InvoiceDate': '1/12/2018 11:41', 'UnitPrice': 3.95, 'CustomerID': 14307, 'Country': 'United Kingdom'}, {'InvoiceNo': 536408, 'StockCode': '84029E', 'Description': 'RED WOOLLY HOTTIE WHITE HEART.', 'Quantity': 4, 'InvoiceDate': '1/12/2018 11:41', 'UnitPrice': 3.75, 'CustomerID': 14307, 'Country': 'United Kingdom'}, {'InvoiceNo': 536408, 'StockCode': '21479', 'Description': 'WHITE SKULL HOT WATER BOTTLE ', 'Quantity': 4, 'InvoiceDate': '1/12/2018 11:41', 'UnitPrice': 3.75, 'CustomerID': 14307, 'Country': 'United Kingdom'}, {'InvoiceNo': 536408, 'StockCode': '22964', 'Description': '3 PIECE SPACEBOY COOKIE CUTTER SET', 'Quantity': 6, 'InvoiceDate': '1/12/2018 11:41', 'UnitPrice': 2.1, 'CustomerID': 14307, 'Country': 'United Kingdom'}, {'InvoiceNo': 536408, 'StockCode': '84375', 'Description': 'SET OF 20 KIDS COOKIE CUTTERS', 'Quantity': 12, 'InvoiceDate': '1/12/2018 11:41', 'UnitPrice': 2.1, 'CustomerID': 14307, 'Country': 'United Kingdom'}, {'InvoiceNo': 536408, 'StockCode': '22418', 'Description': '10 COLOUR SPACEBOY PEN', 'Quantity': 24, 'InvoiceDate': '1/12/2018 11:41', 'UnitPrice': 0.85, 'CustomerID': 14307, 'Country': 'United Kingdom'}, {'InvoiceNo': 536408, 'StockCode': '22178', 'Description': 'VICTORIAN GLASS HANGING T-LIGHT', 'Quantity': 12, 'InvoiceDate': '1/12/2018 11:41', 'UnitPrice': 1.25, 'CustomerID': 14307, 'Country': 'United Kingdom'}, {'InvoiceNo': 536408, 'StockCode': '84970L', 'Description': 'SINGLE HEART ZINC T-LIGHT HOLDER', 'Quantity': 12, 'InvoiceDate': '1/12/2018 11:41', 'UnitPrice': 0.95, 'CustomerID': 14307, 'Country': 'United Kingdom'}, {'InvoiceNo': 536408, 'StockCode': '21733', 'Description': 'RED HANGING HEART T-LIGHT HOLDER', 'Quantity': 6, 'InvoiceDate': '1/12/2018 11:41', 'UnitPrice': 2.95, 'CustomerID': 14307, 'Country': 'United Kingdom'}, {'InvoiceNo': 536408, 'StockCode': '22465', 'Description': 'HANGING METAL STAR LANTERN', 'Quantity': 12, 'InvoiceDate': '1/12/2018 11:41', 'UnitPrice': 1.65, 'CustomerID': 14307, 'Country': 'United Kingdom'}, {'InvoiceNo': 536408, 'StockCode': '84949', 'Description': 'SILVER HANGING T-LIGHT HOLDER', 'Quantity': 6, 'InvoiceDate': '1/12/2018 11:41', 'UnitPrice': 1.65, 'CustomerID': 14307, 'Country': 'United Kingdom'}, {'InvoiceNo': 536408, 'StockCode': '20685', 'Description': 'DOORMAT RED RETROSPOT', 'Quantity': 2, 'InvoiceDate': '1/12/2018 11:41', 'UnitPrice': 7.95, 'CustomerID': 14307, 'Country': 'United Kingdom'}, {'InvoiceNo': 536408, 'StockCode': '48194', 'Description': 'DOORMAT HEARTS', 'Quantity': 2, 'InvoiceDate': '1/12/2018 11:41', 'UnitPrice': 7.95, 'CustomerID': 14307, 'Country': 'United Kingdom'}, {'InvoiceNo': 536408, 'StockCode': '22488', 'Description': 'NATURAL SLATE RECTANGLE CHALKBOARD', 'Quantity': 12, 'InvoiceDate': '1/12/2018 11:41', 'UnitPrice': 1.65, 'CustomerID': 14307, 'Country': 'United Kingdom'}, {'InvoiceNo': 536408, 'StockCode': '22219', 'Description': 'LOVEBIRD HANGING DECORATION WHITE ', 'Quantity': 12, 'InvoiceDate': '1/12/2018 11:41', 'UnitPrice': 0.85, 'CustomerID': 14307, 'Country': 'United Kingdom'}, {'InvoiceNo': 536408, 'StockCode': '84879', 'Description': 'ASSORTED COLOUR BIRD ORNAMENT', 'Quantity': 8, 'InvoiceDate': '1/12/2018 11:41', 'UnitPrice': 1.69, 'CustomerID': 14307, 'Country': 'United Kingdom'}, {'InvoiceNo': 536408, 'StockCode': '21754', 'Description': 'HOME BUILDING BLOCK WORD', 'Quantity': 3, 'InvoiceDate': '1/12/2018 11:41', 'UnitPrice': 5.95, 'CustomerID': 14307, 'Country': 'United Kingdom'}, {'InvoiceNo': 536408, 'StockCode': '21755', 'Description': 'LOVE BUILDING BLOCK WORD', 'Quantity': 3, 'InvoiceDate': '1/12/2018 11:41', 'UnitPrice': 5.95, 'CustomerID': 14307, 'Country': 'United Kingdom'}, {'InvoiceNo': 536408, 'StockCode': '22766', 'Description': 'PHOTO FRAME CORNICE', 'Quantity': 8, 'InvoiceDate': '1/12/2018 11:41', 'UnitPrice': 2.95, 'CustomerID': 14307, 'Country': 'United Kingdom'}, {'InvoiceNo': 536408, 'StockCode': '22610', 'Description': 'PENS ASSORTED FUNNY FACE', 'Quantity': 36, 'InvoiceDate': '1/12/2018 11:41', 'UnitPrice': 0.85, 'CustomerID': 14307, 'Country': 'United Kingdom'}, {'InvoiceNo': 536408, 'StockCode': '22716', 'Description': 'CARD CIRCUS PARADE', 'Quantity': 12, 'InvoiceDate': '1/12/2018 11:41', 'UnitPrice': 0.42, 'CustomerID': 14307, 'Country': 'United Kingdom'}, {'InvoiceNo': 536408, 'StockCode': '22706', 'Description': 'WRAP COWBOYS  ', 'Quantity': 25, 'InvoiceDate': '1/12/2018 11:41', 'UnitPrice': 0.42, 'CustomerID': 14307, 'Country': 'United Kingdom'}, {'InvoiceNo': 536408, 'StockCode': '22371', 'Description': 'AIRLINE BAG VINTAGE TOKYO 78', 'Quantity': 4, 'InvoiceDate': '1/12/2018 11:41', 'UnitPrice': 4.25, 'CustomerID': 14307, 'Country': 'United Kingdom'}, {'InvoiceNo': 536408, 'StockCode': '85014B', 'Description': 'RED RETROSPOT UMBRELLA', 'Quantity': 3, 'InvoiceDate': '1/12/2018 11:41', 'UnitPrice': 5.95, 'CustomerID': 14307, 'Country': 'United Kingdom'}, {'InvoiceNo': 536408, 'StockCode': '85014A', 'Description': 'BLACK/BLUE POLKADOT UMBRELLA', 'Quantity': 3, 'InvoiceDate': '1/12/2018 11:41', 'UnitPrice': 5.95, 'CustomerID': 14307, 'Country': 'United Kingdom'}, {'InvoiceNo': 536408, 'StockCode': '84997B', 'Description': 'RED 3 PIECE RETROSPOT CUTLERY SET', 'Quantity': 6, 'InvoiceDate': '1/12/2018 11:41', 'UnitPrice': 3.75, 'CustomerID': 14307, 'Country': 'United Kingdom'}, {'InvoiceNo': 536408, 'StockCode': '21212', 'Description': 'PACK OF 72 RETROSPOT CAKE CASES', 'Quantity': 24, 'InvoiceDate': '1/12/2018 11:41', 'UnitPrice': 0.55, 'CustomerID': 14307, 'Country': 'United Kingdom'}, {'InvoiceNo': 536408, 'StockCode': '21210', 'Description': 'SET OF 72 RETROSPOT PAPER  DOILIES', 'Quantity': 12, 'InvoiceDate': '1/12/2018 11:41', 'UnitPrice': 1.45, 'CustomerID': 14307, 'Country': 'United Kingdom'}, {'InvoiceNo': 536408, 'StockCode': '22914', 'Description': 'BLUE COAT RACK PARIS FASHION', 'Quantity': 3, 'InvoiceDate': '1/12/2018 11:41', 'UnitPrice': 4.95, 'CustomerID': 14307, 'Country': 'United Kingdom'}, {'InvoiceNo': 536408, 'StockCode': '22553', 'Description': 'PLASTERS IN TIN SKULLS', 'Quantity': 12, 'InvoiceDate': '1/12/2018 11:41', 'UnitPrice': 1.65, 'CustomerID': 14307, 'Country': 'United Kingdom'}, {'InvoiceNo': 536408, 'StockCode': '16237', 'Description': 'SLEEPING CAT ERASERS', 'Quantity': 30, 'InvoiceDate': '1/12/2018 11:41', 'UnitPrice': 0.21, 'CustomerID': 14307, 'Country': 'United Kingdom'}, {'InvoiceNo': 536408, 'StockCode': '22714', 'Description': 'CARD BIRTHDAY COWBOY', 'Quantity': 12, 'InvoiceDate': '1/12/2018 11:41', 'UnitPrice': 0.42, 'CustomerID': 14307, 'Country': 'United Kingdom'}, {'InvoiceNo': 536408, 'StockCode': '22812', 'Description': 'PACK 3 BOXES CHRISTMAS PANNETONE', 'Quantity': 12, 'InvoiceDate': '1/12/2018 11:41', 'UnitPrice': 1.95, 'CustomerID': 14307, 'Country': 'United Kingdom'}, {'InvoiceNo': 536408, 'StockCode': '84347', 'Description': 'ROTATING SILVER ANGELS T-LIGHT HLDR', 'Quantity': 6, 'InvoiceDate': '1/12/2018 11:41', 'UnitPrice': 2.55, 'CustomerID': 14307, 'Country': 'United Kingdom'}, {'InvoiceNo': 536408, 'StockCode': '21587', 'Description': 'COSY HOUR GIANT TUBE MATCHES', 'Quantity': 12, 'InvoiceDate': '1/12/2018 11:41', 'UnitPrice': 2.55, 'CustomerID': 14307, 'Country': 'United Kingdom'}, {'InvoiceNo': 536408, 'StockCode': '22736', 'Description': 'RIBBON REEL MAKING SNOWMEN ', 'Quantity': 10, 'InvoiceDate': '1/12/2018 11:41', 'UnitPrice': 1.65, 'CustomerID': 14307, 'Country': 'United Kingdom'}, {'InvoiceNo': 536408, 'StockCode': '22492', 'Description': 'MINI PAINT SET VINTAGE ', 'Quantity': 36, 'InvoiceDate': '1/12/2018 11:41', 'UnitPrice': 0.65, 'CustomerID': 14307, 'Country': 'United Kingdom'}, {'InvoiceNo': 536408, 'StockCode': '22620', 'Description': '4 TRADITIONAL SPINNING TOPS', 'Quantity': 12, 'InvoiceDate': '1/12/2018 11:41', 'UnitPrice': 1.25, 'CustomerID': 14307, 'Country': 'United Kingdom'}, {'InvoiceNo': 536408, 'StockCode': '22619', 'Description': 'SET OF 6 SOLDIER SKITTLES', 'Quantity': 4, 'InvoiceDate': '1/12/2018 11:41', 'UnitPrice': 3.75, 'CustomerID': 14307, 'Country': 'United Kingdom'}, {'InvoiceNo': 536408, 'StockCode': '21705', 'Description': 'BAG 500g SWIRLY MARBLES', 'Quantity': 12, 'InvoiceDate': '1/12/2018 11:41', 'UnitPrice': 1.65, 'CustomerID': 14307, 'Country': 'United Kingdom'}, {'InvoiceNo': 536409, 'StockCode': '90199C', 'Description': '5 STRAND GLASS NECKLACE CRYSTAL', 'Quantity': 3, 'InvoiceDate': '1/12/2018 11:45', 'UnitPrice': 6.35, 'CustomerID': 17908, 'Country': 'United Kingdom'}, {'InvoiceNo': 536409, 'StockCode': '21479', 'Description': 'WHITE SKULL HOT WATER BOTTLE ', 'Quantity': 1, 'InvoiceDate': '1/12/2018 11:45', 'UnitPrice': 3.75, 'CustomerID': 17908, 'Country': 'United Kingdom'}, {'InvoiceNo': 536409, 'StockCode': '22111', 'Description': 'SCOTTIE DOG HOT WATER BOTTLE', 'Quantity': 1, 'InvoiceDate': '1/12/2018 11:45', 'UnitPrice': 4.95, 'CustomerID': 17908, 'Country': 'United Kingdom'}, {'InvoiceNo': 536409, 'StockCode': '22785', 'Description': 'SQUARECUSHION COVER PINK UNION FLAG', 'Quantity': 1, 'InvoiceDate': '1/12/2018 11:45', 'UnitPrice': 6.75, 'CustomerID': 17908, 'Country': 'United Kingdom'}, {'InvoiceNo': 536409, 'StockCode': '22975', 'Description': 'SPACEBOY CHILDRENS EGG CUP', 'Quantity': 1, 'InvoiceDate': '1/12/2018 11:45', 'UnitPrice': 1.25, 'CustomerID': 17908, 'Country': 'United Kingdom'}, {'InvoiceNo': 536409, 'StockCode': '22972', 'Description': \"CHILDREN'S SPACEBOY MUG\", 'Quantity': 1, 'InvoiceDate': '1/12/2018 11:45', 'UnitPrice': 1.65, 'CustomerID': 17908, 'Country': 'United Kingdom'}, {'InvoiceNo': 536409, 'StockCode': '22866', 'Description': 'HAND WARMER SCOTTY DOG DESIGN', 'Quantity': 1, 'InvoiceDate': '1/12/2018 11:45', 'UnitPrice': 2.1, 'CustomerID': 17908, 'Country': 'United Kingdom'}, {'InvoiceNo': 536409, 'StockCode': '22568', 'Description': 'FELTCRAFT CUSHION OWL', 'Quantity': 1, 'InvoiceDate': '1/12/2018 11:45', 'UnitPrice': 3.75, 'CustomerID': 17908, 'Country': 'United Kingdom'}, {'InvoiceNo': 536409, 'StockCode': '85116', 'Description': 'BLACK CANDELABRA T-LIGHT HOLDER', 'Quantity': 1, 'InvoiceDate': '1/12/2018 11:45', 'UnitPrice': 2.1, 'CustomerID': 17908, 'Country': 'United Kingdom'}, {'InvoiceNo': 536409, 'StockCode': '22664', 'Description': 'TOY TIDY DOLLY GIRL DESIGN', 'Quantity': 1, 'InvoiceDate': '1/12/2018 11:45', 'UnitPrice': 2.1, 'CustomerID': 17908, 'Country': 'United Kingdom'}, {'InvoiceNo': 536409, 'StockCode': '21609', 'Description': 'SET 12 LAVENDER  BOTANICAL T-LIGHTS', 'Quantity': 1, 'InvoiceDate': '1/12/2018 11:45', 'UnitPrice': 2.95, 'CustomerID': 17908, 'Country': 'United Kingdom'}, {'InvoiceNo': 536409, 'StockCode': '21866', 'Description': 'UNION JACK FLAG LUGGAGE TAG', 'Quantity': 1, 'InvoiceDate': '1/12/2018 11:45', 'UnitPrice': 1.25, 'CustomerID': 17908, 'Country': 'United Kingdom'}, {'InvoiceNo': 536409, 'StockCode': '20669', 'Description': 'RED HEART LUGGAGE TAG', 'Quantity': 1, 'InvoiceDate': '1/12/2018 11:45', 'UnitPrice': 1.25, 'CustomerID': 17908, 'Country': 'United Kingdom'}, {'InvoiceNo': 536409, 'StockCode': '90129F', 'Description': 'RED GLASS TASSLE BAG CHARM', 'Quantity': 1, 'InvoiceDate': '1/12/2018 11:45', 'UnitPrice': 2.95, 'CustomerID': 17908, 'Country': 'United Kingdom'}, {'InvoiceNo': 536409, 'StockCode': '90210B', 'Description': 'CLEAR ACRYLIC FACETED BANGLE', 'Quantity': 1, 'InvoiceDate': '1/12/2018 11:45', 'UnitPrice': 2.95, 'CustomerID': 17908, 'Country': 'United Kingdom'}, {'InvoiceNo': 536409, 'StockCode': '90199C', 'Description': '5 STRAND GLASS NECKLACE CRYSTAL', 'Quantity': 1, 'InvoiceDate': '1/12/2018 11:45', 'UnitPrice': 6.35, 'CustomerID': 17908, 'Country': 'United Kingdom'}, {'InvoiceNo': 536409, 'StockCode': '21955', 'Description': 'DOORMAT UNION JACK GUNS AND ROSES', 'Quantity': 1, 'InvoiceDate': '1/12/2018 11:45', 'UnitPrice': 7.95, 'CustomerID': 17908, 'Country': 'United Kingdom'}, {'InvoiceNo': 536409, 'StockCode': '72802C', 'Description': 'VANILLA SCENT CANDLE JEWELLED BOX', 'Quantity': 1, 'InvoiceDate': '1/12/2018 11:45', 'UnitPrice': 4.25, 'CustomerID': 17908, 'Country': 'United Kingdom'}, {'InvoiceNo': 536409, 'StockCode': '22109', 'Description': 'FULL ENGLISH BREAKFAST PLATE', 'Quantity': 1, 'InvoiceDate': '1/12/2018 11:45', 'UnitPrice': 3.75, 'CustomerID': 17908, 'Country': 'United Kingdom'}, {'InvoiceNo': 536409, 'StockCode': '85116', 'Description': 'BLACK CANDELABRA T-LIGHT HOLDER', 'Quantity': 5, 'InvoiceDate': '1/12/2018 11:45', 'UnitPrice': 2.1, 'CustomerID': 17908, 'Country': 'United Kingdom'}, {'InvoiceNo': 536409, 'StockCode': '22531', 'Description': 'MAGIC DRAWING SLATE CIRCUS PARADE  ', 'Quantity': 1, 'InvoiceDate': '1/12/2018 11:45', 'UnitPrice': 0.42, 'CustomerID': 17908, 'Country': 'United Kingdom'}, {'InvoiceNo': 536409, 'StockCode': '21811', 'Description': 'CHRISTMAS HANGING HEART WITH BELL', 'Quantity': 1, 'InvoiceDate': '1/12/2018 11:45', 'UnitPrice': 1.25, 'CustomerID': 17908, 'Country': 'United Kingdom'}, {'InvoiceNo': 536409, 'StockCode': '22183', 'Description': 'CAKE STAND VICTORIAN FILIGREE MED', 'Quantity': 1, 'InvoiceDate': '1/12/2018 11:45', 'UnitPrice': 6.75, 'CustomerID': 17908, 'Country': 'United Kingdom'}, {'InvoiceNo': 536409, 'StockCode': '21678', 'Description': 'PAISLEY PATTERN  STICKERS', 'Quantity': 6, 'InvoiceDate': '1/12/2018 11:45', 'UnitPrice': 0.85, 'CustomerID': 17908, 'Country': 'United Kingdom'}, {'InvoiceNo': 536409, 'StockCode': '21676', 'Description': 'FLOWERS  STICKERS', 'Quantity': 6, 'InvoiceDate': '1/12/2018 11:45', 'UnitPrice': 0.85, 'CustomerID': 17908, 'Country': 'United Kingdom'}, {'InvoiceNo': 536409, 'StockCode': '84625A', 'Description': 'PINK NEW BAROQUECANDLESTICK CANDLE', 'Quantity': 1, 'InvoiceDate': '1/12/2018 11:45', 'UnitPrice': 2.95, 'CustomerID': 17908, 'Country': 'United Kingdom'}]\n"
     ]
    }
   ],
   "source": [
    "# Use with statement instead of cursor.close()\n",
    "with connection.cursor() as cursor:\n",
    "  # Read a single record\n",
    "  sql = \"SELECT * FROM online_retail limit 500;\"\n",
    "  cursor.execute(sql)\n",
    "  result = cursor.fetchall()\n",
    "\n",
    "print(result)"
   ]
  },
  {
   "cell_type": "code",
   "execution_count": 0,
   "metadata": {
    "colab": {
     "base_uri": "https://localhost:8080/",
     "height": 52
    },
    "colab_type": "code",
    "id": "B-2YAb66Y7HR",
    "outputId": "a9ac80de-4d33-43f9-f04a-410d9e1abb94"
   },
   "outputs": [
    {
     "name": "stdout",
     "output_type": "stream",
     "text": [
      "<class 'list'>\n",
      "500\n"
     ]
    }
   ],
   "source": [
    "print(type(result))\n",
    "print(len(result))"
   ]
  },
  {
   "cell_type": "code",
   "execution_count": 0,
   "metadata": {
    "colab": {
     "base_uri": "https://localhost:8080/",
     "height": 626
    },
    "colab_type": "code",
    "id": "78oqloFtZbRA",
    "outputId": "c4e5c598-178b-4e9a-9eb9-8715b629192a"
   },
   "outputs": [
    {
     "data": {
      "text/html": [
       "<div>\n",
       "<style scoped>\n",
       "    .dataframe tbody tr th:only-of-type {\n",
       "        vertical-align: middle;\n",
       "    }\n",
       "\n",
       "    .dataframe tbody tr th {\n",
       "        vertical-align: top;\n",
       "    }\n",
       "\n",
       "    .dataframe thead th {\n",
       "        text-align: right;\n",
       "    }\n",
       "</style>\n",
       "<table border=\"1\" class=\"dataframe\">\n",
       "  <thead>\n",
       "    <tr style=\"text-align: right;\">\n",
       "      <th></th>\n",
       "      <th>InvoiceNo</th>\n",
       "      <th>StockCode</th>\n",
       "      <th>Description</th>\n",
       "      <th>Quantity</th>\n",
       "      <th>InvoiceDate</th>\n",
       "      <th>UnitPrice</th>\n",
       "      <th>CustomerID</th>\n",
       "      <th>Country</th>\n",
       "    </tr>\n",
       "  </thead>\n",
       "  <tbody>\n",
       "    <tr>\n",
       "      <th>0</th>\n",
       "      <td>536365</td>\n",
       "      <td>85123A</td>\n",
       "      <td>WHITE HANGING HEART T-LIGHT HOLDER</td>\n",
       "      <td>6</td>\n",
       "      <td>1/12/2018 08:26</td>\n",
       "      <td>2.55</td>\n",
       "      <td>17850</td>\n",
       "      <td>United Kingdom</td>\n",
       "    </tr>\n",
       "    <tr>\n",
       "      <th>1</th>\n",
       "      <td>536365</td>\n",
       "      <td>71053</td>\n",
       "      <td>WHITE METAL LANTERN</td>\n",
       "      <td>6</td>\n",
       "      <td>1/12/2018 08:26</td>\n",
       "      <td>3.39</td>\n",
       "      <td>17850</td>\n",
       "      <td>United Kingdom</td>\n",
       "    </tr>\n",
       "    <tr>\n",
       "      <th>2</th>\n",
       "      <td>536365</td>\n",
       "      <td>84406B</td>\n",
       "      <td>CREAM CUPID HEARTS COAT HANGER</td>\n",
       "      <td>8</td>\n",
       "      <td>1/12/2018 08:26</td>\n",
       "      <td>2.75</td>\n",
       "      <td>17850</td>\n",
       "      <td>United Kingdom</td>\n",
       "    </tr>\n",
       "    <tr>\n",
       "      <th>3</th>\n",
       "      <td>536365</td>\n",
       "      <td>84029G</td>\n",
       "      <td>KNITTED UNION FLAG HOT WATER BOTTLE</td>\n",
       "      <td>6</td>\n",
       "      <td>1/12/2018 08:26</td>\n",
       "      <td>3.39</td>\n",
       "      <td>17850</td>\n",
       "      <td>United Kingdom</td>\n",
       "    </tr>\n",
       "    <tr>\n",
       "      <th>4</th>\n",
       "      <td>536365</td>\n",
       "      <td>84029E</td>\n",
       "      <td>RED WOOLLY HOTTIE WHITE HEART.</td>\n",
       "      <td>6</td>\n",
       "      <td>1/12/2018 08:26</td>\n",
       "      <td>3.39</td>\n",
       "      <td>17850</td>\n",
       "      <td>United Kingdom</td>\n",
       "    </tr>\n",
       "    <tr>\n",
       "      <th>...</th>\n",
       "      <td>...</td>\n",
       "      <td>...</td>\n",
       "      <td>...</td>\n",
       "      <td>...</td>\n",
       "      <td>...</td>\n",
       "      <td>...</td>\n",
       "      <td>...</td>\n",
       "      <td>...</td>\n",
       "    </tr>\n",
       "    <tr>\n",
       "      <th>495</th>\n",
       "      <td>536409</td>\n",
       "      <td>21811</td>\n",
       "      <td>CHRISTMAS HANGING HEART WITH BELL</td>\n",
       "      <td>1</td>\n",
       "      <td>1/12/2018 11:45</td>\n",
       "      <td>1.25</td>\n",
       "      <td>17908</td>\n",
       "      <td>United Kingdom</td>\n",
       "    </tr>\n",
       "    <tr>\n",
       "      <th>496</th>\n",
       "      <td>536409</td>\n",
       "      <td>22183</td>\n",
       "      <td>CAKE STAND VICTORIAN FILIGREE MED</td>\n",
       "      <td>1</td>\n",
       "      <td>1/12/2018 11:45</td>\n",
       "      <td>6.75</td>\n",
       "      <td>17908</td>\n",
       "      <td>United Kingdom</td>\n",
       "    </tr>\n",
       "    <tr>\n",
       "      <th>497</th>\n",
       "      <td>536409</td>\n",
       "      <td>21678</td>\n",
       "      <td>PAISLEY PATTERN  STICKERS</td>\n",
       "      <td>6</td>\n",
       "      <td>1/12/2018 11:45</td>\n",
       "      <td>0.85</td>\n",
       "      <td>17908</td>\n",
       "      <td>United Kingdom</td>\n",
       "    </tr>\n",
       "    <tr>\n",
       "      <th>498</th>\n",
       "      <td>536409</td>\n",
       "      <td>21676</td>\n",
       "      <td>FLOWERS  STICKERS</td>\n",
       "      <td>6</td>\n",
       "      <td>1/12/2018 11:45</td>\n",
       "      <td>0.85</td>\n",
       "      <td>17908</td>\n",
       "      <td>United Kingdom</td>\n",
       "    </tr>\n",
       "    <tr>\n",
       "      <th>499</th>\n",
       "      <td>536409</td>\n",
       "      <td>84625A</td>\n",
       "      <td>PINK NEW BAROQUECANDLESTICK CANDLE</td>\n",
       "      <td>1</td>\n",
       "      <td>1/12/2018 11:45</td>\n",
       "      <td>2.95</td>\n",
       "      <td>17908</td>\n",
       "      <td>United Kingdom</td>\n",
       "    </tr>\n",
       "  </tbody>\n",
       "</table>\n",
       "<p>500 rows × 8 columns</p>\n",
       "</div>"
      ],
      "text/plain": [
       "     InvoiceNo StockCode  ... CustomerID         Country\n",
       "0       536365    85123A  ...      17850  United Kingdom\n",
       "1       536365     71053  ...      17850  United Kingdom\n",
       "2       536365    84406B  ...      17850  United Kingdom\n",
       "3       536365    84029G  ...      17850  United Kingdom\n",
       "4       536365    84029E  ...      17850  United Kingdom\n",
       "..         ...       ...  ...        ...             ...\n",
       "495     536409     21811  ...      17908  United Kingdom\n",
       "496     536409     22183  ...      17908  United Kingdom\n",
       "497     536409     21678  ...      17908  United Kingdom\n",
       "498     536409     21676  ...      17908  United Kingdom\n",
       "499     536409    84625A  ...      17908  United Kingdom\n",
       "\n",
       "[500 rows x 8 columns]"
      ]
     },
     "execution_count": 168,
     "metadata": {
      "tags": []
     },
     "output_type": "execute_result"
    }
   ],
   "source": [
    "retail = pd.DataFrame(result)\n",
    "retail"
   ]
  },
  {
   "cell_type": "code",
   "execution_count": 0,
   "metadata": {
    "colab": {},
    "colab_type": "code",
    "id": "b3DXBUqySuSq"
   },
   "outputs": [],
   "source": []
  }
 ],
 "metadata": {
  "colab": {
   "collapsed_sections": [],
   "name": "Precourse.ipynb",
   "provenance": []
  },
  "kernelspec": {
   "display_name": "Python 3",
   "language": "python",
   "name": "python3"
  }
 },
 "nbformat": 4,
 "nbformat_minor": 1
}
